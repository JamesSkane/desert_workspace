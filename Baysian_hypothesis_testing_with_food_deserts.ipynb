{
 "cells": [
  {
   "cell_type": "markdown",
   "metadata": {},
   "source": [
    "# Regression & Bayesian Analysis with Food Deserts\n",
    "\n",
    "## Abstract: \n",
    "\n",
    "### Motivation:\n",
    "The insurance industry has played a major role in shaping the United State's healthcare system. Reimbursements, until recent years, were based on the acuity care, which promoted a sytem that focused primarily an acute illnesses that neccesitated hospitalization. This led to a \"sickcare\" system, that addressed complications of chronic disease, rather than promoting wellness and prevention. \n",
    "\n",
    "In an effort to address high healthcare associated costs, the healthcare enterprise is shifting their focus to prevention. Obesity, a major contributing factor of preventable chronic disease, has become one of the primary targets of recent healthcare reforms. That said, many efforts have been made to address areas of low food access, and the detrimental health effects caused by \"Food Deserts\". \n",
    "\n",
    "### Project Goals & Analysis Questions:\n",
    "1. Explore factors that relate to \"Food Deserts\" in California:\n",
    "\n",
    "2. Assess the relationship between \"Food Deserts\" and community health status\n",
    " \n",
    "3. Determine whether \"Food Desert\" counties are also \"Healthcare Deserts\":\n",
    " - Do \"Food Desert\" counties have less access to healthcare services?\n",
    " - Do \"Food Desert\" counties have higher hospital readmission/mortality rates?\n",
    " - Do \"Food Desert\" counties have a higher rates of Opiod Rx's?\n",
    "\n"
   ]
  },
  {
   "cell_type": "code",
   "execution_count": 1,
   "metadata": {
    "collapsed": true
   },
   "outputs": [],
   "source": [
    "from scipy.stats.stats import pearsonr\n",
    "import numpy as np\n",
    "np.set_printoptions(precision=4, suppress=True)\n",
    "\n",
    "import pandas as pd \n",
    "import statsmodels.api as sm\n",
    "import statsmodels.formula.api as smf\n",
    "from sklearn import linear_model\n",
    "from IPython.core.pylabtools import figsize\n",
    "import scipy.stats as stats"
   ]
  },
  {
   "cell_type": "code",
   "execution_count": 2,
   "metadata": {
    "collapsed": true
   },
   "outputs": [],
   "source": [
    "%matplotlib inline\n",
    "import matplotlib.pyplot as plt\n",
    "import seaborn as sns"
   ]
  },
  {
   "cell_type": "code",
   "execution_count": 3,
   "metadata": {
    "collapsed": false
   },
   "outputs": [
    {
     "data": {
      "text/html": [
       "<div>\n",
       "<table border=\"1\" class=\"dataframe\">\n",
       "  <thead>\n",
       "    <tr style=\"text-align: right;\">\n",
       "      <th></th>\n",
       "      <th>State</th>\n",
       "      <th>County</th>\n",
       "      <th>POP2010</th>\n",
       "      <th>food_deserts</th>\n",
       "      <th>pop_in_des</th>\n",
       "      <th>perc_lila</th>\n",
       "      <th>n_tracts</th>\n",
       "      <th>urban_des</th>\n",
       "      <th>rural_des</th>\n",
       "      <th>n_urban</th>\n",
       "      <th>...</th>\n",
       "      <th>vaccine_dx</th>\n",
       "      <th>food_dx</th>\n",
       "      <th>opiods_rx_1000</th>\n",
       "      <th>opiods_greater_than_stateavg</th>\n",
       "      <th>MILK_PRICE10</th>\n",
       "      <th>SODA_PRICE10</th>\n",
       "      <th>MILK_SODA_PRICE10</th>\n",
       "      <th>PCH_FFR_07_12</th>\n",
       "      <th>FFR07</th>\n",
       "      <th>FFR12</th>\n",
       "    </tr>\n",
       "  </thead>\n",
       "  <tbody>\n",
       "    <tr>\n",
       "      <th>0</th>\n",
       "      <td>CA</td>\n",
       "      <td>Alameda</td>\n",
       "      <td>1510271</td>\n",
       "      <td>15</td>\n",
       "      <td>56082.0</td>\n",
       "      <td>0.018032</td>\n",
       "      <td>360</td>\n",
       "      <td>15.0</td>\n",
       "      <td>0.0</td>\n",
       "      <td>354</td>\n",
       "      <td>...</td>\n",
       "      <td>41.648155</td>\n",
       "      <td>29.597337</td>\n",
       "      <td>557.20</td>\n",
       "      <td>0</td>\n",
       "      <td>1.122215</td>\n",
       "      <td>1.164422</td>\n",
       "      <td>0.891575</td>\n",
       "      <td>8.902878</td>\n",
       "      <td>1112.0</td>\n",
       "      <td>1211</td>\n",
       "    </tr>\n",
       "    <tr>\n",
       "      <th>1</th>\n",
       "      <td>CA</td>\n",
       "      <td>Alpine</td>\n",
       "      <td>1175</td>\n",
       "      <td>0</td>\n",
       "      <td>0.0</td>\n",
       "      <td>0.266288</td>\n",
       "      <td>1</td>\n",
       "      <td>0.0</td>\n",
       "      <td>0.0</td>\n",
       "      <td>0</td>\n",
       "      <td>...</td>\n",
       "      <td>0.000000</td>\n",
       "      <td>0.000000</td>\n",
       "      <td>578.68</td>\n",
       "      <td>0</td>\n",
       "      <td>1.032918</td>\n",
       "      <td>1.089488</td>\n",
       "      <td>0.877073</td>\n",
       "      <td>-50.000000</td>\n",
       "      <td>2.0</td>\n",
       "      <td>1</td>\n",
       "    </tr>\n",
       "    <tr>\n",
       "      <th>2</th>\n",
       "      <td>CA</td>\n",
       "      <td>Amador</td>\n",
       "      <td>38091</td>\n",
       "      <td>0</td>\n",
       "      <td>0.0</td>\n",
       "      <td>0.149514</td>\n",
       "      <td>9</td>\n",
       "      <td>0.0</td>\n",
       "      <td>0.0</td>\n",
       "      <td>0</td>\n",
       "      <td>...</td>\n",
       "      <td>15.751752</td>\n",
       "      <td>13.126460</td>\n",
       "      <td>1244.76</td>\n",
       "      <td>1</td>\n",
       "      <td>1.032918</td>\n",
       "      <td>1.089488</td>\n",
       "      <td>0.877073</td>\n",
       "      <td>-5.555556</td>\n",
       "      <td>18.0</td>\n",
       "      <td>17</td>\n",
       "    </tr>\n",
       "    <tr>\n",
       "      <th>3</th>\n",
       "      <td>CA</td>\n",
       "      <td>Butte</td>\n",
       "      <td>220000</td>\n",
       "      <td>14</td>\n",
       "      <td>58979.0</td>\n",
       "      <td>0.145583</td>\n",
       "      <td>51</td>\n",
       "      <td>13.0</td>\n",
       "      <td>1.0</td>\n",
       "      <td>38</td>\n",
       "      <td>...</td>\n",
       "      <td>15.909091</td>\n",
       "      <td>27.727273</td>\n",
       "      <td>1389.20</td>\n",
       "      <td>1</td>\n",
       "      <td>0.996443</td>\n",
       "      <td>1.130546</td>\n",
       "      <td>0.815374</td>\n",
       "      <td>2.684564</td>\n",
       "      <td>149.0</td>\n",
       "      <td>153</td>\n",
       "    </tr>\n",
       "    <tr>\n",
       "      <th>4</th>\n",
       "      <td>CA</td>\n",
       "      <td>Calaveras</td>\n",
       "      <td>45578</td>\n",
       "      <td>0</td>\n",
       "      <td>0.0</td>\n",
       "      <td>0.203345</td>\n",
       "      <td>10</td>\n",
       "      <td>0.0</td>\n",
       "      <td>0.0</td>\n",
       "      <td>2</td>\n",
       "      <td>...</td>\n",
       "      <td>19.746369</td>\n",
       "      <td>10.970205</td>\n",
       "      <td>1068.98</td>\n",
       "      <td>1</td>\n",
       "      <td>1.032918</td>\n",
       "      <td>1.089488</td>\n",
       "      <td>0.877073</td>\n",
       "      <td>-7.407407</td>\n",
       "      <td>27.0</td>\n",
       "      <td>25</td>\n",
       "    </tr>\n",
       "  </tbody>\n",
       "</table>\n",
       "<p>5 rows × 82 columns</p>\n",
       "</div>"
      ],
      "text/plain": [
       "  State     County  POP2010  food_deserts  pop_in_des  perc_lila  n_tracts  \\\n",
       "0    CA    Alameda  1510271            15     56082.0   0.018032       360   \n",
       "1    CA     Alpine     1175             0         0.0   0.266288         1   \n",
       "2    CA     Amador    38091             0         0.0   0.149514         9   \n",
       "3    CA      Butte   220000            14     58979.0   0.145583        51   \n",
       "4    CA  Calaveras    45578             0         0.0   0.203345        10   \n",
       "\n",
       "   urban_des  rural_des  n_urban  ...    vaccine_dx    food_dx  \\\n",
       "0       15.0        0.0      354  ...     41.648155  29.597337   \n",
       "1        0.0        0.0        0  ...      0.000000   0.000000   \n",
       "2        0.0        0.0        0  ...     15.751752  13.126460   \n",
       "3       13.0        1.0       38  ...     15.909091  27.727273   \n",
       "4        0.0        0.0        2  ...     19.746369  10.970205   \n",
       "\n",
       "   opiods_rx_1000  opiods_greater_than_stateavg  MILK_PRICE10  SODA_PRICE10  \\\n",
       "0          557.20                             0      1.122215      1.164422   \n",
       "1          578.68                             0      1.032918      1.089488   \n",
       "2         1244.76                             1      1.032918      1.089488   \n",
       "3         1389.20                             1      0.996443      1.130546   \n",
       "4         1068.98                             1      1.032918      1.089488   \n",
       "\n",
       "   MILK_SODA_PRICE10  PCH_FFR_07_12   FFR07  FFR12  \n",
       "0           0.891575       8.902878  1112.0   1211  \n",
       "1           0.877073     -50.000000     2.0      1  \n",
       "2           0.877073      -5.555556    18.0     17  \n",
       "3           0.815374       2.684564   149.0    153  \n",
       "4           0.877073      -7.407407    27.0     25  \n",
       "\n",
       "[5 rows x 82 columns]"
      ]
     },
     "execution_count": 3,
     "metadata": {},
     "output_type": "execute_result"
    }
   ],
   "source": [
    "df = pd.read_csv('/Users/desert/desert_workspace/desert_data/fd_data.csv')\n",
    "df = df.drop('Unnamed: 0', axis=1)\n",
    "df = df.fillna(0)\n",
    "df.head()"
   ]
  },
  {
   "cell_type": "code",
   "execution_count": 4,
   "metadata": {
    "collapsed": false
   },
   "outputs": [
    {
     "name": "stderr",
     "output_type": "stream",
     "text": [
      "/Users/desert/anaconda/envs/linreg/lib/python2.7/site-packages/ipykernel/__main__.py:2: SettingWithCopyWarning: \n",
      "A value is trying to be set on a copy of a slice from a DataFrame.\n",
      "Try using .loc[row_indexer,col_indexer] = value instead\n",
      "\n",
      "See the caveats in the documentation: http://pandas.pydata.org/pandas-docs/stable/indexing.html#indexing-view-versus-copy\n",
      "  from ipykernel import kernelapp as app\n",
      "/Users/desert/anaconda/envs/linreg/lib/python2.7/site-packages/pandas/core/generic.py:3443: SettingWithCopyWarning: \n",
      "A value is trying to be set on a copy of a slice from a DataFrame\n",
      "\n",
      "See the caveats in the documentation: http://pandas.pydata.org/pandas-docs/stable/indexing.html#indexing-view-versus-copy\n",
      "  self._update_inplace(new_data)\n",
      "/Users/desert/anaconda/envs/linreg/lib/python2.7/site-packages/ipykernel/__main__.py:6: SettingWithCopyWarning: \n",
      "A value is trying to be set on a copy of a slice from a DataFrame.\n",
      "Try using .loc[row_indexer,col_indexer] = value instead\n",
      "\n",
      "See the caveats in the documentation: http://pandas.pydata.org/pandas-docs/stable/indexing.html#indexing-view-versus-copy\n",
      "/Users/desert/anaconda/envs/linreg/lib/python2.7/site-packages/ipykernel/__main__.py:7: SettingWithCopyWarning: \n",
      "A value is trying to be set on a copy of a slice from a DataFrame.\n",
      "Try using .loc[row_indexer,col_indexer] = value instead\n",
      "\n",
      "See the caveats in the documentation: http://pandas.pydata.org/pandas-docs/stable/indexing.html#indexing-view-versus-copy\n"
     ]
    },
    {
     "data": {
      "text/html": [
       "<div>\n",
       "<table border=\"1\" class=\"dataframe\">\n",
       "  <thead>\n",
       "    <tr style=\"text-align: right;\">\n",
       "      <th></th>\n",
       "      <th>food_deserts</th>\n",
       "      <th>cnty_dm_pct_adj</th>\n",
       "      <th>des_percent</th>\n",
       "      <th>POP2010</th>\n",
       "      <th>group</th>\n",
       "      <th>n_diabetics</th>\n",
       "    </tr>\n",
       "  </thead>\n",
       "  <tbody>\n",
       "    <tr>\n",
       "      <th>0</th>\n",
       "      <td>15</td>\n",
       "      <td>0.078</td>\n",
       "      <td>0.041667</td>\n",
       "      <td>1510271</td>\n",
       "      <td>low</td>\n",
       "      <td>117801</td>\n",
       "    </tr>\n",
       "    <tr>\n",
       "      <th>1</th>\n",
       "      <td>0</td>\n",
       "      <td>0.077</td>\n",
       "      <td>0.000000</td>\n",
       "      <td>1175</td>\n",
       "      <td>low</td>\n",
       "      <td>90</td>\n",
       "    </tr>\n",
       "    <tr>\n",
       "      <th>2</th>\n",
       "      <td>0</td>\n",
       "      <td>0.075</td>\n",
       "      <td>0.000000</td>\n",
       "      <td>38091</td>\n",
       "      <td>low</td>\n",
       "      <td>2856</td>\n",
       "    </tr>\n",
       "    <tr>\n",
       "      <th>3</th>\n",
       "      <td>14</td>\n",
       "      <td>0.073</td>\n",
       "      <td>0.274510</td>\n",
       "      <td>220000</td>\n",
       "      <td>high</td>\n",
       "      <td>16059</td>\n",
       "    </tr>\n",
       "    <tr>\n",
       "      <th>4</th>\n",
       "      <td>0</td>\n",
       "      <td>0.067</td>\n",
       "      <td>0.000000</td>\n",
       "      <td>45578</td>\n",
       "      <td>low</td>\n",
       "      <td>3053</td>\n",
       "    </tr>\n",
       "  </tbody>\n",
       "</table>\n",
       "</div>"
      ],
      "text/plain": [
       "   food_deserts  cnty_dm_pct_adj  des_percent  POP2010 group  n_diabetics\n",
       "0            15            0.078     0.041667  1510271   low       117801\n",
       "1             0            0.077     0.000000     1175   low           90\n",
       "2             0            0.075     0.000000    38091   low         2856\n",
       "3            14            0.073     0.274510   220000  high        16059\n",
       "4             0            0.067     0.000000    45578   low         3053"
      ]
     },
     "execution_count": 4,
     "metadata": {},
     "output_type": "execute_result"
    }
   ],
   "source": [
    "bayes_df = df[['food_deserts','cnty_dm_pct_adj','des_percent','POP2010' ]]\n",
    "bayes_df['group'] = bayes_df['des_percent'] > np.mean(bayes_df['des_percent'])\n",
    "bayes_df['group'].replace({False: 'low', True: 'high'},inplace=True)\n",
    "\n",
    "\n",
    "bayes_df['n_diabetics']= bayes_df['cnty_dm_pct_adj'] * bayes_df['POP2010']\n",
    "bayes_df['n_diabetics']=bayes_df['n_diabetics'].astype(int)\n",
    "\n",
    "a = bayes_df[bayes_df['group']=='high']\n",
    "b = bayes_df[bayes_df['group']=='low']\n",
    "bayes_df.head()"
   ]
  },
  {
   "cell_type": "code",
   "execution_count": 5,
   "metadata": {
    "collapsed": false
   },
   "outputs": [
    {
     "data": {
      "text/plain": [
       "group\n",
       "high    0.075042\n",
       "low     0.072647\n",
       "Name: cnty_dm_pct_adj, dtype: float64"
      ]
     },
     "execution_count": 5,
     "metadata": {},
     "output_type": "execute_result"
    }
   ],
   "source": [
    "bayes = bayes_df.groupby('group').agg(np.mean)\n",
    "bayes['cnty_dm_pct_adj']"
   ]
  },
  {
   "cell_type": "markdown",
   "metadata": {},
   "source": [
    "# Hypothesis:\n",
    "## Do counties with a higher prevelance of Food Deserts have a higher prevelance of diabetes?\n",
    "\n",
    "### Method - AB testing using a Bayesian approach\n",
    "- A: Counties with a high prevelance of Food Deserts  \n",
    "    - Includes counties that have a higher prevelance of food deserts than the statewide average.\n",
    "\n",
    "- B: Counties with average to low prevelance of Food Deserts  \n",
    "    - Includes counties that have a food desert prevelance that is less than statewide average. "
   ]
  },
  {
   "cell_type": "markdown",
   "metadata": {},
   "source": [
    "This analysis focuses on finding the true frequency of diabetic residents based on observed frequencies of seen in counties with a high prevelance of food deserts, and a low-to-average prevelance of food deserts. The true frequency can be interpreted as the probability of an event occurring. For example, the true frequency of getting heads when flipping a fair coin is 1/2. \n",
    "\n",
    "Conversely, the observed frequency is what is actually observed. An example being if we flipped a coin 100 times we may observe 40 heads, and 60 tails. Therefore the observed frequency often differs from the true frequency. However, by applying a bayesian approach we can obtain a better sense of the true frequencies, allowing us to compare the likelihood of a CA county resident being diabetic between the different county groups specified above.\n",
    "\n",
    "To infer a probable value for the true frequency we can use the observed occurences in our dataset. Here we will compare the age adjusted diabetes prevelance between counties with a high prevelance of food deserts, and those with a low-to-average prevelance of food deserts. But first lets see how age adjusted diabetes rates vary among all CA counties, and each of these groups:"
   ]
  },
  {
   "cell_type": "code",
   "execution_count": 6,
   "metadata": {
    "collapsed": false
   },
   "outputs": [
    {
     "data": {
      "text/plain": [
       "<matplotlib.axes._subplots.AxesSubplot at 0x117122450>"
      ]
     },
     "execution_count": 6,
     "metadata": {},
     "output_type": "execute_result"
    },
    {
     "data": {
      "image/png": "[encoded data removed]",
      "text/plain": [
       "<matplotlib.figure.Figure at 0x117111e50>"
      ]
     },
     "metadata": {},
     "output_type": "display_data"
    }
   ],
   "source": [
    "import pymc as pm\n",
    "figsize(12, 8)\n",
    "\n",
    "\n",
    "g=sns.distplot(bayes_df['cnty_dm_pct_adj'],\n",
    "            kde_kws={\"color\":\"b\",\"lw\":4,\"label\":\"KDE Estim - All CA counties\",\"alpha\":0.5},\n",
    "            hist_kws={\"color\":\"b\",\"alpha\":0.3,\"label\":\"All CA counties\"})\n",
    "\n",
    "sns.distplot(a['cnty_dm_pct_adj'],\n",
    "            kde_kws={\"color\":\"g\",\"lw\":4,\"label\":\"KDE Estim - high food des\",\"alpha\":0.5},\n",
    "            hist_kws={\"color\":\"g\",\"alpha\":0.3,\"label\":\"high food des\"})\n",
    "\n",
    "sns.distplot(b['cnty_dm_pct_adj'],\n",
    "            kde_kws={\"color\":\"r\",\"lw\":4,\"label\":\"KDE Estim - low-avg food des\",\"alpha\":0.5},\n",
    "            hist_kws={\"color\":\"r\",\"alpha\":0.3,\"label\":\"low-avg food des\"})\n",
    "\n"
   ]
  },
  {
   "cell_type": "markdown",
   "metadata": {},
   "source": [
    "The plot above shows the distribution of county diabetes rates among all CA counties in blue. We can see that majority of counties fall somewhere between 6% and 9%. As stated above, this analysis will focus on comparing diabetes rates in counties with high and low-avg food desert prevelances, both of which fall within this window.\n",
    "\n",
    "First we assign our probabilities based on the observed diabetes rates amongst the different county groups. Then we assign the number of diabetic residents for each group based off the observations seen in our own dataset. After this we can generate new observations using what was observered in the data. Our generated samples are made using a Bernoulli distribution, meaning all values are 0 or 1.  \n",
    "\n",
    "0's represent county residents who do not have diabetes. 1's represent county residents who do have diabetes.\n",
    "\n",
    "All variables including A refer to high food desert counties and all variables including B refer to low to avg food desert counties."
   ]
  },
  {
   "cell_type": "code",
   "execution_count": 7,
   "metadata": {
    "collapsed": false
   },
   "outputs": [
    {
     "name": "stdout",
     "output_type": "stream",
     "text": [
      "Diabetic county residents - group A (High food desert prevelance): \n",
      "[0 0 0 0 0 0 0 0 1 1 0 0 0 0 0 0 0 0 0 1 0 0 0 0 0 0 0 0 0 0] ...\n",
      "Diabetic county residents - group B (Low to average food desert prevelance): \n",
      "[0 0 0 0 0 0 0 0 0 0 0 0 0 0 0 0 0 0 0 0 0 0 0 0 0 0 0 0 0 0] ...\n"
     ]
    },
    {
     "name": "stderr",
     "output_type": "stream",
     "text": [
      "/Users/desert/anaconda/envs/linreg/lib/python2.7/site-packages/pymc/distributions.py:767: VisibleDeprecationWarning: using a non-integer number instead of an integer will result in an error in the future\n",
      "  return np.random.random(size) < p\n"
     ]
    }
   ],
   "source": [
    "\n",
    "def gen_obs(prob_col,n_col,frame):\n",
    "    # Probabilities based on the observed age adjusted diabetes rates amongst high(A) and low-to-avg(B) food_des_counties.\n",
    "    true_p_A = frame[prob_col].ix[0]\n",
    "    true_p_B = frame[prob_col].ix[1]\n",
    "    \n",
    "    # Sample size based on the observed number of county residents. Unequal sample sizes are acceptable in this type of Bayesian analysis.\n",
    "    N_A = np.round(frame[n_col].ix[0])\n",
    "    N_B = np.round(frame[n_col].ix[1])\n",
    "    \n",
    "    # Generates new observations based on what was observered in the data using a Bernoulli distribution.\n",
    "    observations_A = pm.rbernoulli(true_p_A, N_A)\n",
    "    observations_B = pm.rbernoulli(true_p_B, N_B)\n",
    "    print \"Diabetic county residents - group A (High food desert prevelance): \\n\", observations_A[:30].astype(int), \"...\"\n",
    "    print \"Diabetic county residents - group B (Low to average food desert prevelance): \\n\", observations_B[:30].astype(int), \"...\"\n",
    "    return true_p_A, true_p_B, N_A, N_B, observations_A, observations_B\n",
    "    \n",
    "true_p_A, true_p_B, N_A, N_B, observations_A, observations_B = gen_obs('cnty_dm_pct_adj','POP2010',bayes)"
   ]
  },
  {
   "cell_type": "code",
   "execution_count": 8,
   "metadata": {
    "collapsed": false
   },
   "outputs": [
    {
     "name": "stdout",
     "output_type": "stream",
     "text": [
      "Observed frequency of diabetic residents in High food desert counties: \n",
      "0.0759\n",
      "\n",
      "Observed frequency of diabetic residents in Low-to-Average food desert counties: \n",
      "0.0726\n"
     ]
    }
   ],
   "source": [
    "# Occurrences.mean is equal to n/N.\n",
    "print \"Observed frequency of diabetic residents in High food desert counties: \\n%.4f\" % observations_A.mean()\n",
    "\n",
    "print\n",
    "print \"Observed frequency of diabetic residents in Low-to-Average food desert counties: \\n%.4f\" % observations_B.mean()\n"
   ]
  },
  {
   "cell_type": "markdown",
   "metadata": {},
   "source": [
    "Next we assign our priors to a Uniform distibution. This is a conservative approach, which should be utilized when you do not possess a firm belief about the prior distribution. Then we must define the deterministic delta function. Delta, the return value from this function, represents our estimates of the true frequencies. Finally, we generate observations for our model and use a Markov Chain Monte Carlo model to return samples from the posterior distributions."
   ]
  },
  {
   "cell_type": "code",
   "execution_count": 9,
   "metadata": {
    "collapsed": false
   },
   "outputs": [
    {
     "name": "stdout",
     "output_type": "stream",
     "text": [
      " [-----------------100%-----------------] 20000 of 20000 complete in 214.9 sec"
     ]
    }
   ],
   "source": [
    "# Set up the pymc model. Again assume Uniform priors for p_A and p_B. \n",
    "p_A = pm.Uniform(\"p_A\", 0, 1)\n",
    "p_B = pm.Uniform(\"p_B\", 0, 1)\n",
    "\n",
    "# Define the deterministic delta function. This is our unknown of interest. \n",
    "@pm.deterministic\n",
    "def delta(p_A=p_A, p_B=p_B):\n",
    "    return p_A - p_B\n",
    "\n",
    "# Set of observations, in this case we have two observation datasets. \n",
    "obs_A = pm.Bernoulli(\"obs_A\", p_A, value=observations_A, observed=True) \n",
    "obs_B = pm.Bernoulli(\"obs_B\", p_B, value=observations_B, observed=True)\n",
    "\n",
    "mcmc = pm.MCMC([p_A, p_B, delta, obs_A, obs_B]) \n",
    "mcmc.sample(20000, 1000)"
   ]
  },
  {
   "cell_type": "markdown",
   "metadata": {},
   "source": [
    "Below assigns our posterior samples according to class and our delta."
   ]
  },
  {
   "cell_type": "code",
   "execution_count": 10,
   "metadata": {
    "collapsed": true
   },
   "outputs": [],
   "source": [
    "p_A_samples = mcmc.trace(\"p_A\")[:] \n",
    "p_B_samples = mcmc.trace(\"p_B\")[:] \n",
    "delta_samples = mcmc.trace(\"delta\")[:]"
   ]
  },
  {
   "cell_type": "code",
   "execution_count": 11,
   "metadata": {
    "collapsed": false
   },
   "outputs": [
    {
     "data": {
      "image/png": "[encoded data removed]",
      "text/plain": [
       "<matplotlib.figure.Figure at 0x11a16bc10>"
      ]
     },
     "metadata": {},
     "output_type": "display_data"
    }
   ],
   "source": [
    "def plot_AB(p_A_samples, true_p_A, p_B_samples, true_p_B, delta_samples):\n",
    "    figsize(12.5, 10)\n",
    "    ax = plt.subplot(311)\n",
    "    plt.xlim(0.05, .08)\n",
    "    plt.hist(p_A_samples, histtype='stepfilled', bins=25, alpha=0.85,\n",
    "             label=\"posterior of $p_A$\", color=\"#A60628\", normed=True)\n",
    "    plt.vlines(true_p_A, 0, 700, linestyle=\"--\", label=\"true $p_A$ (unknown)\")\n",
    "    plt.legend(loc=\"upper right\")\n",
    "    plt.title(\"Posterior distributions of $p_A(High:desert)$, $p_B(LowAvg:desert)$, and delta unknowns\")\n",
    "    \n",
    "    ax = plt.subplot(312)\n",
    "    plt.xlim(0.05, .08)\n",
    "    plt.hist(p_B_samples, histtype='stepfilled', bins=25, alpha=0.85,\n",
    "             label=\"posterior of $p_B$\", color=\"#467821\", normed=True)\n",
    "    plt.vlines(true_p_B, 0, 1400, linestyle=\"--\", label=\"true $p_B$ (unknown)\")\n",
    "    plt.legend(loc=\"upper right\")\n",
    "    \n",
    "    ax = plt.subplot(313)\n",
    "    plt.xlim(-0.001, .006)\n",
    "    plt.hist(delta_samples, histtype='stepfilled', bins=30, alpha=0.85,\n",
    "             label=\"posterior of delta\", color=\"#7A68A6\", normed=True)\n",
    "    plt.vlines(true_p_A - true_p_B, 0, 800, linestyle=\"--\",label=\"true delta (unknown)\")\n",
    "    plt.vlines(0, 0, 800, color=\"black\", alpha=0.2)\n",
    "    plt.legend(loc=\"upper right\");\n",
    "\n",
    "plot_AB(p_A_samples, true_p_A, p_B_samples, true_p_B, delta_samples)"
   ]
  },
  {
   "cell_type": "markdown",
   "metadata": {},
   "source": [
    "Because there is have less high food desert counties, our posterior distribution of pA (prob of high food desert county resident having DM) is fatter, implying we are less certain about the true value of pA than we are of pB (prob of low food desert county resident having DM).\n",
    "However, we can see that the majority of the posterior distribution of delta is above delta=0, implying that high food desert county residents are more likely to be diabetic than residents living in a low to average food desert county. The probability that this inference is incorrect is computed below:"
   ]
  },
  {
   "cell_type": "code",
   "execution_count": 12,
   "metadata": {
    "collapsed": false
   },
   "outputs": [
    {
     "name": "stdout",
     "output_type": "stream",
     "text": [
      "Probability high food desert counties have LESS diabetic residents than low food desert counties: 0.000\n",
      "Probability high food desert counties have More diabetic residents than low food desert counties: 1.000\n"
     ]
    }
   ],
   "source": [
    "# Count the number of samples less than 0, i.e. the area under the curve\n",
    "# before 0, represents the probability that A residents are \n",
    "# less likely to be diabetic than B residents.\n",
    "print \"Probability high food desert counties have LESS diabetic residents than low food desert counties: %.3f\" % \\\n",
    "(delta_samples < 0).mean()\n",
    "\n",
    "print \"Probability high food desert counties have More diabetic residents than low food desert counties: %.3f\" % \\\n",
    "(delta_samples > 0).mean()"
   ]
  },
  {
   "cell_type": "markdown",
   "metadata": {},
   "source": [
    "Therefore we can state the probability of a California resident being diabetic is significantly less if they live in a county that has a low to average prevelance of food deserts. Similarly, we can also state those living in CA counties with a high prevelance of food deserts are significantly more likely to be diabetic."
   ]
  }
 ],
 "metadata": {
  "anaconda-cloud": {},
  "kernelspec": {
   "display_name": "Python [linreg]",
   "language": "python",
   "name": "Python [linreg]"
  },
  "language_info": {
   "codemirror_mode": {
    "name": "ipython",
    "version": 2
   },
   "file_extension": ".py",
   "mimetype": "text/x-python",
   "name": "python",
   "nbconvert_exporter": "python",
   "pygments_lexer": "ipython2",
   "version": "2.7.12"
  }
 },
 "nbformat": 4,
 "nbformat_minor": 0
}
