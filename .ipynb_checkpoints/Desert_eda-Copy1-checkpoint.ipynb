{
 "cells": [
  {
   "cell_type": "markdown",
   "metadata": {},
   "source": [
    "# Regression & Bayesian Analysis with Food Deserts\n",
    "## Part 1: Exploratory Analysis and Getting Data into Shape"
   ]
  },
  {
   "cell_type": "markdown",
   "metadata": {},
   "source": [
    "______\n",
    "## Key Terms\n",
    " * ### Food desert: \n",
    "     - A census tract that meets both low-income and low-access criteria including: 1. poverty rate is greater than or equal to 20 percent OR median family income does not exceed 80 percent statewide (rural/urban) or metro-area (urban) median family income; 2. at least 500 people or 33 percent of the population located more than 1 mile (urban) or 10 miles (rural) from the nearest supermarket or large grocery store.  \n",
    " * ### Low-income area\n",
    "     - A tract in which the poverty rate is greater than or equal to 20 percent; or in which median family income does not exceed 80 percent of the statewide or metro-area median family income\n",
    " * ### Low-income household: \n",
    "     - A household with income less than the Federal poverty level : 17,050 dollars for a family of four in 2000.\n",
    " * ### Rural area: \n",
    "      - Includes areas defined by Rural-Urban Commuting Area codes as large rural, small rural, and isolated rural areas.\n",
    "      \n",
    "      \n",
    "http://www.ers.usda.gov/media/883903/err140.pdf"
   ]
  },
  {
   "cell_type": "code",
   "execution_count": null,
   "metadata": {
    "collapsed": false
   },
   "outputs": [],
   "source": [
    "%matplotlib inline\n",
    "import matplotlib.pyplot as plt\n",
    "import numpy as np\n",
    "import pandas as pd\n",
    "import seaborn as sns"
   ]
  },
  {
   "cell_type": "markdown",
   "metadata": {},
   "source": [
    "First lets read in our data, which can be downloaded from http://www.ers.usda.gov/data-products/food-access-research-atlas/download-the-data.aspx under the Current Version heading. "
   ]
  },
  {
   "cell_type": "code",
   "execution_count": null,
   "metadata": {
    "collapsed": false
   },
   "outputs": [],
   "source": [
    "df=pd.read_excel('/Users/workspace/PycharmProjects/desert/desert_data/food_desert.xlsx',sheetname=2)\n",
    "cols = df.columns.tolist()"
   ]
  },
  {
   "cell_type": "markdown",
   "metadata": {},
   "source": [
    "For reference, lets also read in the column meanings which are contained in the excel file. "
   ]
  },
  {
   "cell_type": "code",
   "execution_count": null,
   "metadata": {
    "collapsed": false
   },
   "outputs": [],
   "source": [
    "#desert data variables \n",
    "desert_vars=pd.read_excel('/Users/workspace/PycharmProjects/desert/desert_data/food_desert.xlsx',sheetname=1)\n",
    "desert_vars.head(3)"
   ]
  },
  {
   "cell_type": "markdown",
   "metadata": {},
   "source": [
    "For convience we can make create a dictionary from our desert_vars dataframe that provides us with a means to quickly look up column name meanings.\n"
   ]
  },
  {
   "cell_type": "code",
   "execution_count": null,
   "metadata": {
    "collapsed": false
   },
   "outputs": [],
   "source": [
    "# provides us with a dictionary to quickly look up column name meanings\n",
    "col_dict = desert_vars.set_index('Field').to_dict()['LongName']\n",
    "col_dict"
   ]
  },
  {
   "cell_type": "code",
   "execution_count": null,
   "metadata": {
    "collapsed": false
   },
   "outputs": [],
   "source": [
    "df.head()\n",
    "# Load the datset correlations\n",
    "corrmat = df.corr()\n",
    "\n",
    "# Set up the matplotlib figure\n",
    "f, ax = plt.subplots(figsize=(16, 12))\n",
    "\n",
    "# Draw the heatmap using seaborn, and add a title to the plot\n",
    "sns.heatmap(corrmat, vmax=.8, square=True)\n",
    "ax.set_title('US Food Desert Data Correlations')\n",
    "f.tight_layout()"
   ]
  },
  {
   "cell_type": "markdown",
   "metadata": {},
   "source": [
    "MSSA\n",
    "---\n",
    "Medical Service Study Areas (MSSAs) are sub-city and sub-county geographical units used to organize and display population, demographic and physician data. MSSAs were developed in 1976 by the California Healthcare Workforce Policy Commission (formerly California Health Manpower Policy Commission) to respond to legislative mandates requiring it to determine \"areas of unmet priority need for primary care family physicians\" (Song-Brown Act of 1973) and \"geographical rural areas where unmet priority need for medical services exist\" (Garamendi Rural Health Services Act of 1976).\n",
    "\n",
    "MSSAs are recognized by the U.S. Health Resources and Services Administration, Bureau of Health Professions' Office of Shortage Designation as rational service areas for purposes of designating Health Professional Shortage Areas (HPSAs), and Medically Underserved Areas and Medically Underserved Populations (MUAs/MUPs).\n",
    "\n",
    "The MSSAs incorporate the U.S. Census total population, socioeconomic and demographic data and are updated with each decadal census. Office of Statewide Health Planning and Development provides updated data for each County's MSSAs to the County and Communities, and will schedule meetings for areas of significant population change. Community meetings will be scheduled throughout the State as needed.\n",
    "\n",
    "Adopted by the California Healthcare Workforce Policy Commission on May 15, 2002.\n",
    "\n",
    "Each MSSA is composed of one or more complete census tracts. MSSAs will not cross county lines. All population centers within the MSSA are within 30 minutes travel time to the largest population center.\n",
    "Urban MSSA - Population range 75,000 to 125,000. Reflect recognized community and neighborhood boundaries. Similar demographic and socio-economic characteristics.\n",
    "\n",
    "Rural MSSA - Population density of less than 250 persons per square mile. No population center exceeds 50,000.\n",
    "\n",
    "Frontier MSSA - Population density of less than 11 persons per square mile.\n",
    "\n",
    "http://www.oshpd.ca.gov/hwdd/MSSA/index.html\n",
    "______\n",
    "\n",
    "adding MSSA_IDs\n",
    "---\n",
    "Census tract health data is difficult to find. In order to carryout our analysis we should obtain MSSA_IDs. These geographic divisions have more data available, and will give us the opportunity to examine interesting health relationships. This will require a few steps:\n",
    "* first we must obtain the MSSA_ID for every Census tract. Unfortunately the 2010 MSSA Ids are not readily available, so instead we will utilize the 2013 mssa ids, which can be found at:\n",
    "https://chhs.data.ca.gov/Demographics/Medical-Service-Study-Area-MSSA-Census-Detail-2013/gkky-i9wt/13\n",
    "* Based off these MSSA ids we can then collect 2010 demographic, and health data\n",
    "https://chhs.data.ca.gov/Demographics/Medical-Service-Study-Areas-2010/s6uk-kn8j\n",
    "* After collecting the data we are interested in, we must aggregate our food desert data by the newly added MSSA ids. \n",
    "\n",
    "After completing these steps we can then begin our analysis. Let's get started by pulling in the MSSA ids."
   ]
  },
  {
   "cell_type": "code",
   "execution_count": null,
   "metadata": {
    "collapsed": false
   },
   "outputs": [],
   "source": [
    "df=test"
   ]
  },
  {
   "cell_type": "code",
   "execution_count": null,
   "metadata": {
    "collapsed": false
   },
   "outputs": [],
   "source": [
    "locations=pd.read_csv('/Users/workspace/downloads/Medical_Service_Study_Area__MSSA__-_Census_Detail__2013.csv')\n",
    "locations.rename(columns={'COUNTY':'County'}, inplace=True)\n",
    "locations.rename(columns={'CENSUS_KEY':'CensusTract'}, inplace=True)\n",
    "\n",
    "locations = locations[['MSSA_ID','CensusTract']]\n",
    "test = df.copy(deep=False)\n",
    "df=df[df['State'] == 'CA']\n",
    "df=pd.merge(df,locations,how='left',on='CensusTract')\n",
    "df.head()\n"
   ]
  },
  {
   "cell_type": "code",
   "execution_count": null,
   "metadata": {
    "collapsed": false
   },
   "outputs": [],
   "source": [
    "#len(locations)"
   ]
  },
  {
   "cell_type": "markdown",
   "metadata": {},
   "source": [
    "adding demographic data"
   ]
  },
  {
   "cell_type": "code",
   "execution_count": null,
   "metadata": {
    "collapsed": false
   },
   "outputs": [],
   "source": [
    "locations=pd.read_csv('/Users/workspace/downloads/Medical_Service_Study_Areas__2010.csv')\n",
    "\n",
    "locations.rename(columns={'COUNTY':'County'}, inplace=True)\n",
    "locations.rename(columns={'UNIT_COUNT':'n_tracts_in_MSSA'}, inplace=True)\n",
    "locations=locations.drop('County', axis=1)\n",
    "\n",
    "df=pd.merge(df,locations,how='left',on='MSSA_ID')\n",
    "\n",
    "df.head()"
   ]
  },
  {
   "cell_type": "code",
   "execution_count": null,
   "metadata": {
    "collapsed": false
   },
   "outputs": [],
   "source": [
    "mssa_df = df.groupby('MSSA_ID').agg(np.mean)\n",
    "\n",
    "def order(frame,var):\n",
    "    varlist =[w for w in frame.columns if w not in var]\n",
    "    frame = frame[var+varlist]\n",
    "    return frame \n",
    "\n",
    "\n",
    "mssa_df = order(mssa_df,['n_tracts_in_MSSA'])\n",
    "mssa_df=mssa_df.reset_index()\n",
    "mssa_df=mssa_df.drop(['CensusTract', 'LILATracts_1And10','LILATracts_halfAnd10','LILATracts_1And20','LILATracts_Vehicle'],axis=1)\n",
    "mssa_df"
   ]
  },
  {
   "cell_type": "code",
   "execution_count": null,
   "metadata": {
    "collapsed": false
   },
   "outputs": [],
   "source": [
    "# Obtains the number of census tracts per mssa id\n",
    "num_mssa_tracts=df.groupby('MSSA_ID').count()['CensusTract'].reset_index()\n",
    "\n",
    "# Obtains the total number of food deserts. Technically defined in column LILATracts_1And10,\n",
    "# but totals for alternative definitions of food deserts are also obtained by including\n",
    "# 'LILATracts_halfAnd10','LILATracts_1And20', and 'LILATracts_Vehicle'.\n",
    "num_food_des = df.groupby('MSSA_ID').agg(np.sum)[['LILATracts_1And10','LILATracts_halfAnd10',\n",
    "                                  'LILATracts_1And20','LILATracts_Vehicle']].reset_index()\n",
    "\n",
    "# df containing totals for each mssa id\n",
    "totals_df = pd.merge(num_mssa_tracts,num_food_des,how='left', on='MSSA_ID')\n",
    "\n",
    "# Normalize for mssa size by obtaining percentages\n",
    "totals_df['1_10_des_percent'] = totals_df['LILATracts_1And10'] / totals_df['CensusTract'] \n",
    "totals_df['half_10_des_percent'] = totals_df['LILATracts_halfAnd10'] / totals_df['CensusTract'] \n",
    "totals_df['1_20_des_percent'] = totals_df['LILATracts_1And20'] / totals_df['CensusTract'] \n",
    "totals_df['vehicle_des_percent'] = totals_df['LILATracts_Vehicle'] / totals_df['CensusTract'] \n",
    "totals_df.rename(columns={'CensusTract':'num_tracts'}, inplace=True)\n",
    "totals_df['overall_des_percent'] = totals_df[['1_10_des_percent','half_10_des_percent','1_20_des_percent','vehicle_des_percent']].mean(axis=1)\n",
    "\n",
    "# Obtains the percentage of urban and rural tracts that are considered food deserts\n",
    "urban_rural = df[df['LA1and10'] == 1].groupby('MSSA_ID').agg(np.sum).reset_index()[['MSSA_ID','Urban','Rural','LA1and10']]\n",
    "\n",
    "urban_rural = pd.merge(urban_rural,num_county_tracts,how='inner',on='MSSA_ID')\n",
    "urban_rural['urban_county_des'] = urban_rural['Urban'] / urban_rural['CensusTract'] \n",
    "urban_rural['rural_county_des'] = urban_rural['Rural'] / urban_rural['CensusTract'] \n",
    "urban_rural = urban_rural[['MSSA_ID', 'urban_county_des', 'rural_county_des']]\n",
    "\n",
    "totals_df = pd.merge(totals_df,urban_rural, how='left', on='MSSA_ID')\n",
    "totals_df"
   ]
  },
  {
   "cell_type": "code",
   "execution_count": null,
   "metadata": {
    "collapsed": false
   },
   "outputs": [],
   "source": [
    "totals_df=pd.merge(df[['County','MSSA_ID','DEFINITION']], totals_df, how='inner', on='MSSA_ID')\n"
   ]
  },
  {
   "cell_type": "code",
   "execution_count": null,
   "metadata": {
    "collapsed": false
   },
   "outputs": [],
   "source": [
    "totals_df=totals_df.drop_duplicates()"
   ]
  },
  {
   "cell_type": "code",
   "execution_count": null,
   "metadata": {
    "collapsed": false
   },
   "outputs": [],
   "source": [
    "len(mssa_df)\n",
    "len(totals_df)\n",
    "# totals_df.columns\n",
    "# mssa_df\n",
    "# len(pd.merge(mssa_df,totals_df,how='left',on='MSSA_ID'))\n"
   ]
  },
  {
   "cell_type": "code",
   "execution_count": null,
   "metadata": {
    "collapsed": false
   },
   "outputs": [],
   "source": [
    "data = pd.merge(mssa_df,totals_df,how='left',on='MSSA_ID')\n",
    "\n",
    "# Load the datset correlations\n",
    "corrmat = data.corr()\n",
    "\n",
    "# Set up the matplotlib figure\n",
    "f, ax = plt.subplots(figsize=(16, 12))\n",
    "\n",
    "# Draw the heatmap using seaborn, and add a title to the plot\n",
    "sns.heatmap(corrmat, vmax=.8, square=True)\n",
    "ax.set_title('CA Food Desert Data Correlations')\n",
    "f.tight_layout()"
   ]
  },
  {
   "cell_type": "code",
   "execution_count": null,
   "metadata": {
    "collapsed": false
   },
   "outputs": [],
   "source": [
    "mssa=data.drop(['NHS_OTHER_','NHS_AMIND_ESK','MULTI_RACE','NHS_MULTI_','OTHER_RACE','NHS_ISLANDER','ISLANDER','AMIND_ESK','NHS_WHITE','NHS_BLACK','NHS_ASIAN','WHITE','ASIAN','HISPANIC','BLACK', 'POP200POV','PCSA_CIV','PCSA_SCORE_CIV','PSYCH_R_CIV','PC_PHYS_R_CIV','DENTIST_R_CIV','POP100POV','TOTAL_POP_POV','AGE_65OVER','AGE_18_64','AGE_UNDR18','AGE_UNDER5'], axis=1)\n",
    "mssa.rename(columns={'PCSA':'pcp_shortage'}, inplace=True)\n",
    "mssa.rename(columns={'PCSA_SCORE':'pcp_shortage_score'}, inplace=True)\n",
    "mssa.head()\n",
    "corrmat = mssa.corr()\n",
    "\n",
    "# Set up the matplotlib figure\n",
    "f, ax = plt.subplots(figsize=(16, 12))\n",
    "\n",
    "# Draw the heatmap using seaborn, and add a title to the plot\n",
    "sns.heatmap(corrmat, vmax=.8, square=True)\n",
    "ax.set_title('CA Food Desert Data Correlations')\n",
    "f.tight_layout()"
   ]
  },
  {
   "cell_type": "code",
   "execution_count": null,
   "metadata": {
    "collapsed": false
   },
   "outputs": [],
   "source": [
    "len(mssa)\n",
    "#mssa.head()"
   ]
  },
  {
   "cell_type": "code",
   "execution_count": null,
   "metadata": {
    "collapsed": false
   },
   "outputs": [],
   "source": [
    "#http://www.healthdata.gov/dataset/adolescent-births-2010-2012\n",
    "#This dataset contains three indicators concerning births among adolescents aged 15-19: (1) Adolescent Birth Rate (ABR); (2) Percentage of Repeat Birth (PRB); and (3) Percentage of Births in High Poverty Area (PBHP).\n",
    "births = pd.read_csv('/Users/workspace/downloads/Adolescent_Births_2010-2012.csv')\n",
    "births = births[(births['Race_ethnicity']=='ALL') & (births['Indicator']=='ABR')]\n",
    "births = births[['MSSA_ID','COUNTY', 'Population','Adolescent_births','Indicator_rate']]\n",
    "#births=births.dropna()\n",
    "births.rename(columns={'COUNTY':'County'}, inplace=True)\n",
    "births=births[['Indicator_rate','MSSA_ID']].groupby('MSSA_ID').agg(np.mean)\n",
    "births = births.reset_index()\n",
    "births.sort_values('MSSA_ID')\n",
    "len(births)\n",
    "mssa = pd.merge(mssa,births,how='inner',on='MSSA_ID')\n",
    "sns.lmplot(x='Indicator_rate', y='LILATracts_1And10',data=mssa)\n"
   ]
  },
  {
   "cell_type": "code",
   "execution_count": null,
   "metadata": {
    "collapsed": false
   },
   "outputs": [],
   "source": [
    "# looks weak but maybe correlation between score in fd prevelance\n",
    "sns.lmplot(y='pcp_shortage_score', x='LILATracts_1And10',data=mssa)\n",
    "\n",
    "# strong correlations\n",
    "sns.lmplot(y='Indicator_rate', x='LILATracts_1And10',data=mssa)\n",
    "\n",
    "# weak correlations but more dentists and psychitrists == less fd in mssa \n",
    "sns.lmplot(y='PC_PHYS', x='LILATracts_1And10',data=mssa)\n",
    "sns.lmplot(y='PC_PHYS_R', x='LILATracts_1And10',data=mssa)\n",
    "sns.lmplot(y='DENTIST', x='LILATracts_1And10',data=mssa)\n",
    "sns.lmplot(y='DENTIST_R', x='LILATracts_1And10',data=mssa)\n",
    "sns.lmplot(y='PSYCH', x='LILATracts_1And10',data=mssa)\n",
    "sns.lmplot(y='PSYCH_R', x='LILATracts_1And10',data=mssa)\n",
    "\n",
    "# food deserts tend to have more ethnic minority populations\n",
    "sns.lmplot(y='PCT_BLACK', x='LILATracts_1And10',data=mssa)\n",
    "sns.lmplot(y='PCT_HSPNC', x='LILATracts_1And10',data=mssa)\n",
    "sns.lmplot(y='PCT_WHITE', x='LILATracts_1And10',data=mssa)\n",
    "\n",
    "# food deserts tend to have younger populations\n",
    "sns.lmplot(y='PCT_65OVER', x='LILATracts_1And10',data=mssa)# mssa with lower % over 65 contain more fd\n",
    "sns.lmplot(y='PCT_18_64', x='LILATracts_1And10',data=mssa)# mssa with lower % b/w 18_64 contain more fd\n",
    "sns.lmplot(y='PCT_UNDR18', x='LILATracts_1And10',data=mssa)# mssa with higher % under 18 contain more fd\n",
    "sns.lmplot(y='PCT_UNDER5', x='LILATracts_1And10',data=mssa) # mssa with higher % under 5 contain more fd\n"
   ]
  },
  {
   "cell_type": "code",
   "execution_count": null,
   "metadata": {
    "collapsed": false
   },
   "outputs": [],
   "source": [
    "# strong correlation\n",
    "sns.lmplot(y='pcp_shortage_score', x='1_10_des_percent',data=mssa)\n",
    "\n",
    "# strong correlation\n",
    "sns.lmplot(y='Indicator_rate', x='1_10_des_percent',data=mssa)\n",
    "\n",
    "# number of medical proffesionals plays a more imp role ? when looking at % vs counts\n",
    "sns.lmplot(y='PC_PHYS', x='1_10_des_percent',data=mssa)\n",
    "sns.lmplot(y='PC_PHYS_R', x='1_10_des_percent',data=mssa)\n",
    "sns.lmplot(y='DENTIST', x='1_10_des_percent',data=mssa)\n",
    "sns.lmplot(y='DENTIST_R', x='1_10_des_percent',data=mssa)\n",
    "sns.lmplot(y='PSYCH', x='1_10_des_percent',data=mssa)\n",
    "sns.lmplot(y='PSYCH_R', x='1_10_des_percent',data=mssa)\n",
    "\n",
    "# ethnicity seems to play a lesser role when looking at % vs counts\n",
    "sns.lmplot(y='PCT_BLACK', x='1_10_des_percent',data=mssa)\n",
    "sns.lmplot(y='PCT_HSPNC', x='1_10_des_percent',data=mssa)\n",
    "sns.lmplot(y='PCT_WHITE', x='1_10_des_percent',data=mssa)\n",
    "\n",
    "\n",
    "sns.lmplot(y='PCT_65OVER', x='1_10_des_percent',data=mssa)\n",
    "sns.lmplot(y='PCT_18_64', x='1_10_des_percent',data=mssa)\n",
    "sns.lmplot(y='PCT_UNDR18', x='1_10_des_percent',data=mssa)\n",
    "sns.lmplot(y='PCT_UNDER5', x='1_10_des_percent',data=mssa)"
   ]
  },
  {
   "cell_type": "markdown",
   "metadata": {},
   "source": [
    "______\n",
    "Now let's slim our dataset to include only counties located in California. "
   ]
  },
  {
   "cell_type": "code",
   "execution_count": null,
   "metadata": {
    "collapsed": false
   },
   "outputs": [],
   "source": [
    "mssa.info(verbose=True)"
   ]
  },
  {
   "cell_type": "code",
   "execution_count": null,
   "metadata": {
    "collapsed": false
   },
   "outputs": [],
   "source": [
    "# df = df[df['State'] == 'CA']\n",
    "# df.head(2)\n",
    "# len(np.unique(df['CensusTract']))"
   ]
  },
  {
   "cell_type": "markdown",
   "metadata": {},
   "source": [
    "To get a sense for the data, lets make a correlation matrix using seaborn's heatmap plot.  This will show the correlations that exist between our features. "
   ]
  },
  {
   "cell_type": "code",
   "execution_count": null,
   "metadata": {
    "collapsed": false
   },
   "outputs": [],
   "source": [
    "# Load the datset correlations\n",
    "corrmat = df.corr()\n",
    "\n",
    "# Set up the matplotlib figure\n",
    "f, ax = plt.subplots(figsize=(16, 12))\n",
    "\n",
    "# Draw the heatmap using seaborn, and add a title to the plot\n",
    "sns.heatmap(corrmat, vmax=.8, square=True)\n",
    "ax.set_title('CA Food Desert Data Correlations')\n",
    "f.tight_layout()"
   ]
  },
  {
   "cell_type": "markdown",
   "metadata": {},
   "source": [
    "Just from this few lines of code we recieve a wealth of insight about how our features correlate with one another. "
   ]
  },
  {
   "cell_type": "markdown",
   "metadata": {},
   "source": [
    "________\n",
    "### Preparing our Data\n",
    "\n",
    "Now for the cleaning! First lets assess the dtypes of our columns to insure they are in the correct format. This can be done using pandas info method:"
   ]
  },
  {
   "cell_type": "code",
   "execution_count": null,
   "metadata": {
    "collapsed": false
   },
   "outputs": [],
   "source": [
    "mssa.head()\n",
    "import statsmodels.api as sm\n",
    "import statsmodels.formula.api as smf\n",
    "\n",
    "# y = mssa['LA1and10']\n",
    "# x = mssa\n",
    "\n",
    "mssa = order(mssa,['LILATracts_1And10'])\n",
    "X = mssa.ix[:,1:]\n",
    "#X = X.drop(['CNTY_FIPS','LILATracts_1And20','LILATracts_halfAnd10','LILATracts_Vehicle','overall_des_percent','vehicle_des_percent','half_10_des_percent','1_10_des_percent','1_20_des_percent','MSSA_ID', 'County','DEFINITION','LATracts_half','LAhalfand10','LATracts1','LA1and10','LA1and20','LATracts10','LATracts20','urban_county_des','rural_county_des'],axis=1)\n",
    "y = mssa['LA1and10'].values\n",
    "linear_regression = sm.OLS(y,X[['pcp_shortage_score','Indicator_rate','PCT_BLACK','PCT_HSPNC','PCT_WHITE','PCT_65OVER','PCT_UNDER5','PSYCH','DENTIST','PC_PHYS','Urban','POP2010']])\n",
    "fitted_model = linear_regression.fit()\n",
    "fitted_model.summary()\n"
   ]
  },
  {
   "cell_type": "code",
   "execution_count": null,
   "metadata": {
    "collapsed": false
   },
   "outputs": [],
   "source": [
    "from sklearn.preprocessing import StandardScaler\n",
    "from sklearn.pipeline import make_pipeline\n",
    "standardization = StandardScaler()\n",
    "Stand_coef_linear_reg = make_pipeline(standardization,linear_regression)\n",
    "\n",
    "linear_regression.fit(X,y)\n",
    "for coef, var in sorted(zip(map(abs,linear_regression.coef_), \\\n",
    "           dataset.columns[:-1]), reverse=True):\n",
    "           print (\"%6.3f %s\" % (coef,var))"
   ]
  },
  {
   "cell_type": "markdown",
   "metadata": {},
   "source": [
    "We can see all values are either integers or floats, except for 3 columns:\n",
    "* UATYP10  \n",
    "* State  \n",
    "* County  \n",
    "  \n",
    "State and County values are straightforward, and we can assume that we should change these values to strings, but UATYP10 is not as clear. We should use our column dictionary to remind us of what this feature represents.\n"
   ]
  },
  {
   "cell_type": "code",
   "execution_count": null,
   "metadata": {
    "collapsed": false
   },
   "outputs": [],
   "source": [
    "#https://chronicdata.cdc.gov/health-area/chronic-disease-indicators?category=Chronic%20Disease%20Indicators&limit=25&view_type=rich&q=2010\n",
    "summ=pd.read_csv('/Users/workspace/food_desert_data/desert_data/chsi_data/RISKFACTORSANDACCESSTOCARE.csv')\n",
    "summ.head()\n",
    "summ[summ['CHSI_State_Abbr'] == 'CA']"
   ]
  },
  {
   "cell_type": "markdown",
   "metadata": {},
   "source": [
    "\n",
    "Now that we know what the variable represents, we can research the definitions by visiting the documentation at http://www.ers.usda.gov/data-products/food-access-research-atlas/about-the-atlas.aspx and census definitions at https://www.census.gov/geo/reference/urban-rural.html \n",
    "\n",
    "First lets look at  https://www.census.gov/geo/reference/urban-rural.html \n",
    "____\n",
    "#### Urban areas, Urban Cluster, and Rural classification\n",
    "The Census Bureau’s urban-rural classification is fundamentally a delineation of geographical areas, identifying both individual urban areas and the rural areas of the nation.  The Census Bureau’s urban areas represent densely developed territory, and encompass residential, commercial, and other non-residential urban land uses.  The Census Bureau delineates urban areas after each decennial census by applying specified criteria to decennial census and other data.\n",
    "\n",
    "The Census Bureau identifies two types of urban areas:\n",
    "\n",
    "* Urbanized Areas (UAs) of 50,000 or more people;\n",
    "* Urban Clusters (UCs) of at least 2,500 and less than 50,000 people.\n",
    "* “Rural” encompasses all population, housing, and territory not included within an urban area.\n",
    "\n",
    "____\n",
    "\n",
    "Ok, let's see what values this columns holds, and confirm these allign with our research. "
   ]
  },
  {
   "cell_type": "code",
   "execution_count": null,
   "metadata": {
    "collapsed": false
   },
   "outputs": [],
   "source": [
    "#df['UATYP10'].unique() # provides all unique values for this column"
   ]
  },
  {
   "cell_type": "markdown",
   "metadata": {},
   "source": [
    "We see this column holds the following labels:\n",
    "* U - Denotes urban areas\n",
    "* R - Denotes rural areas\n",
    "* C - Is not as clear as the previous labels, and will need further exploration to determine if this denotes urban clusters, or something else. \n",
    "\n",
    "  \n",
    "Lets see if our assumption is correct that C == urban cluster. To assess our assumptions lets look at the counties with a 'POP2010' value of 'C' to make sure their 2010 populations are at least 2500 and less than 50000. Lets take a look at the first 10 values."
   ]
  },
  {
   "cell_type": "code",
   "execution_count": null,
   "metadata": {
    "collapsed": false
   },
   "outputs": [],
   "source": [
    "#df[df['UATYP10'] == 'C'][['County', 'POP2010']][:10]"
   ]
  },
  {
   "cell_type": "markdown",
   "metadata": {},
   "source": [
    "So far so good! But just to be safe lets mask our dataframe so that the return value are rows that don't meet the conditions we listed above.  If all is correct, the return value should be an empty dataframe. If the return value is not an empty dataframe, we need to research further to determine whether the returned rows are faulty data values, or our initial assumption about the meaning of C was incorrect. "
   ]
  },
  {
   "cell_type": "code",
   "execution_count": null,
   "metadata": {
    "collapsed": false
   },
   "outputs": [],
   "source": [
    "#urban_clusters = df[df['UATYP10'] == 'C']\n",
    "#urban_clusters[(urban_clusters['POP2010'] < 2500) |  (urban_clusters['POP2010'] > 50000)]['POP2010']"
   ]
  },
  {
   "cell_type": "markdown",
   "metadata": {},
   "source": [
    "Hmm, looks like we have some counties labeled as C that do not meet the definition provided by the Census Bureau. Lets take a closer look at the documentation which can be found at http://www.ers.usda.gov/data-products/food-access-research-atlas/about-the-atlas.aspx\n",
    "\n",
    "The documentation confirms our assumption that we were right thinking C denotes clusters, which means we must decide what to do with these illegitmate rows. In this case, it makes the most sense to drop these illegetimate rows.\n",
    "... \n",
    "\n",
    "ASK NIKHIL - ok to exclude these?\n",
    "---\n",
    "http://www.ofm.wa.gov/pop/geographic/tiger10/metadata/urban10.html - shows C stands for urban cluster"
   ]
  },
  {
   "cell_type": "markdown",
   "metadata": {},
   "source": [
    "Lets make our object columns into strings. \n",
    "\n",
    "ASK NIKHIL - strings and pandas are stored as object dtypes. Havent had an issue yet, can they stay as is?\n",
    "---"
   ]
  },
  {
   "cell_type": "code",
   "execution_count": null,
   "metadata": {
    "collapsed": false
   },
   "outputs": [],
   "source": [
    "# df['State']=df['State'].apply(str) \n",
    "# df['County']=df['County'].apply(str) \n",
    "# df['UATYP10']=df['UATYP10'].apply(str) \n",
    "# df['CensusTract']=df['CensusTract'].apply(str) \n",
    "\n",
    "# #df.info(verbose=True)\n",
    "# #df['state']=df['State']\n",
    "# test = df['State'].astype(str)\n",
    "# type(test.iloc[0])\n",
    "# #df.loc['State', 1]#,'State']\n",
    "# df['state'] = df.iloc[:,1].astype(str)#) 'State']\n",
    "#df=df.drop('state', axis=1)"
   ]
  },
  {
   "cell_type": "code",
   "execution_count": null,
   "metadata": {
    "collapsed": true
   },
   "outputs": [],
   "source": [
    "mssa[['rural_county_des','urban_county_des','Indicator_rate']]=mssa[['rural_county_des','urban_county_des','Indicator_rate']].fillna(0)"
   ]
  },
  {
   "cell_type": "markdown",
   "metadata": {},
   "source": [
    "We now need to check for null values"
   ]
  },
  {
   "cell_type": "code",
   "execution_count": null,
   "metadata": {
    "collapsed": false
   },
   "outputs": [],
   "source": [
    "mssa.isnull().values.any()"
   ]
  },
  {
   "cell_type": "code",
   "execution_count": null,
   "metadata": {
    "collapsed": false
   },
   "outputs": [],
   "source": [
    "mssa[pd.isnull(mssa.values)]#.describe()"
   ]
  },
  {
   "cell_type": "code",
   "execution_count": null,
   "metadata": {
    "collapsed": false
   },
   "outputs": [],
   "source": [
    "mssa\n",
    "order(mssa,['County'])"
   ]
  },
  {
   "cell_type": "markdown",
   "metadata": {},
   "source": [
    "Lets look at our dataset again using seaborn's pairplot. This will allow us to see the feature distributions and assess for multicolinearity. \n",
    "\n",
    "#### df too large at this point for pairplot"
   ]
  },
  {
   "cell_type": "code",
   "execution_count": null,
   "metadata": {
    "collapsed": false
   },
   "outputs": [],
   "source": [
    "#np.sum(df.isnull())"
   ]
  },
  {
   "cell_type": "code",
   "execution_count": null,
   "metadata": {
    "collapsed": false
   },
   "outputs": [],
   "source": [
    "len(mssa)"
   ]
  },
  {
   "cell_type": "code",
   "execution_count": null,
   "metadata": {
    "collapsed": false
   },
   "outputs": [],
   "source": [
    "# cols = df.columns.tolist()\n",
    "# numerical_cols = [x for x in cols if x not in ['State','County','CensusTract']]\n",
    "# numerical_cols\n",
    "# df[numerical_cols].head()"
   ]
  },
  {
   "cell_type": "markdown",
   "metadata": {},
   "source": [
    "Next, we can get a sense for the values within our dataset by using pandas' describe() method to calculate various summary statistics."
   ]
  },
  {
   "cell_type": "code",
   "execution_count": null,
   "metadata": {
    "collapsed": false
   },
   "outputs": [],
   "source": [
    "df[numerical_cols].describe()"
   ]
  },
  {
   "cell_type": "markdown",
   "metadata": {},
   "source": [
    "Summary stats excluding the categorical variables"
   ]
  },
  {
   "cell_type": "code",
   "execution_count": null,
   "metadata": {
    "collapsed": false
   },
   "outputs": [],
   "source": [
    "cat_bools = df[numerical_cols].max() > 1\n",
    "cat_bools = cat_bools[cat_bools != False]\n",
    "cat_bools=cat_bools.index\n",
    "df[cat_bools].describe()\n",
    "#sns.pairplot(df[cat_bools])"
   ]
  },
  {
   "cell_type": "code",
   "execution_count": null,
   "metadata": {
    "collapsed": false
   },
   "outputs": [],
   "source": [
    "# Checks how many counties are in CA\n",
    "len(df[df['State']=='CA']['County'].unique()) # 58 counties in CA\n",
    "\n",
    "# Obtains the number of census tracts per county\n",
    "num_county_tracts=df.groupby('County').count()['CensusTract'].reset_index()\n",
    "\n",
    "# Obtains the total number of food deserts. Technically defined in column LILATracts_1And10,\n",
    "# but totals for alternative definitions of food deserts are also obtained by including\n",
    "# 'LILATracts_halfAnd10','LILATracts_1And20', and 'LILATracts_Vehicle'.\n",
    "num_food_des = df.groupby('County').agg(np.sum)[['LILATracts_1And10','LILATracts_halfAnd10',\n",
    "                                  'LILATracts_1And20','LILATracts_Vehicle']].reset_index()\n",
    "\n",
    "# df containing totals for each county\n",
    "county_df = pd.merge(num_county_tracts,num_food_des,how='inner', on='County')\n",
    "\n",
    "# Normalize for county size by obtaining percentages\n",
    "county_df['1_10_des_percent'] = county_df['LILATracts_1And10'] / county_df['CensusTract'] \n",
    "county_df['half_10_des_percent'] = county_df['LILATracts_halfAnd10'] / county_df['CensusTract'] \n",
    "county_df['1_20_des_percent'] = county_df['LILATracts_1And20'] / county_df['CensusTract'] \n",
    "county_df['vehicle_des_percent'] = county_df['LILATracts_Vehicle'] / county_df['CensusTract'] \n",
    "county_df.rename(columns={'CensusTract':'num_tracts'}, inplace=True)\n",
    "county_df['overall_des_percent'] = county_df[['1_10_des_percent','half_10_des_percent','1_20_des_percent','vehicle_des_percent']].mean(axis=1)\n",
    "county_df=county_df.sort_values('overall_des_percent', ascending=False)\n",
    "\n",
    "# Obtains the percentage of urban and rural tracts that are considered food deserts\n",
    "urban_rural = df[df['LA1and10'] == 1].groupby('County').agg(np.sum).reset_index()[['County','Urban','Rural','LA1and10']]\n",
    "urban_rural = pd.merge(urban_rural,num_county_tracts,how='inner',on='County')\n",
    "urban_rural['urban_county_des'] = urban_rural['Urban'] / urban_rural['CensusTract'] \n",
    "urban_rural['rural_county_des'] = urban_rural['Rural'] / urban_rural['CensusTract'] \n",
    "urban_rural = urban_rural[['County', 'urban_county_des', 'rural_county_des']]\n",
    "county_df = pd.merge(county_df,urban_rural, how='inner', on='County')\n",
    "county_df"
   ]
  },
  {
   "cell_type": "code",
   "execution_count": null,
   "metadata": {
    "collapsed": false
   },
   "outputs": [],
   "source": [
    "demo = pd.read_csv('/Users/workspace/food_desert_data/ACS_10_5YR_S0101/ACS_10_5YR_S0101.csv')\n",
    "\n",
    "longnames = pd.DataFrame(demo.iloc[0]) #grab the first row for the header\n",
    "longnames = longnames.reset_index()\n",
    "longnames.columns = ['short','long']\n",
    "\n",
    "demo = demo[1:] #take the data less the header row\n",
    "filter_col = [col for col in list(longnames['long']) if col.startswith('Total; Estimate; AGE')]\n",
    "filter_col.append('Id2')\n",
    "\n",
    "demo = demo[list(longnames.loc[longnames['long'].isin(filter_col)]['short'])]\n",
    "demo.head()     "
   ]
  },
  {
   "cell_type": "code",
   "execution_count": null,
   "metadata": {
    "collapsed": false
   },
   "outputs": [],
   "source": [
    "\n",
    "longnames.loc[longnames['long'].isin(filter_col)]\n",
    "demo.columns = ['CensusTract','age_under5','age_5to9','age_10to14','age_15to19',\n",
    "               'age_20to24','age_25to29','age_30to34','age_35to39','age_40to44','age_45to49',\n",
    "               'age_50to54', 'age_55to60', 'age_60to64', 'age_65to69', 'age_70to74',\n",
    "               'age_75to79', 'age_80to84', 'age_over85']\n",
    "demo"
   ]
  },
  {
   "cell_type": "code",
   "execution_count": null,
   "metadata": {
    "collapsed": false
   },
   "outputs": [],
   "source": [
    "df = pd.merge(df,demo, how='inner', on='CensusTract')\n",
    "df.head()"
   ]
  },
  {
   "cell_type": "code",
   "execution_count": null,
   "metadata": {
    "collapsed": false
   },
   "outputs": [],
   "source": [
    "sns.pairplot(df[['LILATracts_1And10','age_under5','age_5to9','age_10to14','age_15to19',\n",
    "               'age_20to24','age_25to29','age_30to34','age_35to39','age_40to44','age_45to49',\n",
    "               'age_50to54', 'age_55to60', 'age_60to64', 'age_65to69', 'age_70to74',\n",
    "               'age_75to79', 'age_80to84', 'age_over85']], hue='LILATracts_1And10')"
   ]
  },
  {
   "cell_type": "code",
   "execution_count": null,
   "metadata": {
    "collapsed": false
   },
   "outputs": [],
   "source": [
    "unem = pd.read_csv('/Users/workspace/food_desert_data/Unemployment_2004-2013.csv', usecols=[\"reportyear\", \"geotypevalue\", \"county_name\",\"race_eth_name\", \"Unemployment_rate\"])\n",
    "unem=unem.dropna()\n",
    "unem[unem['reportyear'] == '2006-2010']\n",
    "unem.rename(columns={'geotypevalue':'CensusTract'}, inplace=True)\n",
    "unem=unem.drop(['reportyear','county_name'],axis=1)\n",
    "df = pd.merge(df,unem,how='left', on='CensusTract')\n",
    "df.head()"
   ]
  },
  {
   "cell_type": "code",
   "execution_count": null,
   "metadata": {
    "collapsed": false
   },
   "outputs": [],
   "source": [
    "#sns.distplot(df['Unemployment_rate'])\n",
    "df[np.sum(df.isnull())]\n",
    "df"
   ]
  },
  {
   "cell_type": "code",
   "execution_count": null,
   "metadata": {
    "collapsed": false
   },
   "outputs": [],
   "source": [
    "# Checks how many counties are in CA\n",
    "len(df[df['State']=='CA']['County'].unique()) # 58 counties in CA\n",
    "\n",
    "# Obtains the number of census tracts per county\n",
    "num_county_tracts=df.groupby('County').count()['CensusTract'].reset_index()\n",
    "\n",
    "# Obtains the total number of food deserts. Technically defined in column LILATracts_1And10,\n",
    "# but totals for alternative definitions of food deserts are also obtained by including\n",
    "# 'LILATracts_halfAnd10','LILATracts_1And20', and 'LILATracts_Vehicle'.\n",
    "num_food_des = df.groupby('County').agg(np.sum)[['LILATracts_1And10','LILATracts_halfAnd10',\n",
    "                                  'LILATracts_1And20','LILATracts_Vehicle']].reset_index()\n",
    "\n",
    "\n",
    "\n",
    "\n",
    "# df containing totals for each county\n",
    "county_df = pd.merge(num_county_tracts,num_food_des,how='inner', on='County')\n",
    "\n",
    "# Normalize for county size by obtaining percentages\n",
    "county_df['1_10_des_percent'] = county_df['LILATracts_1And10'] / county_df['CensusTract'] \n",
    "county_df['half_10_des_percent'] = county_df['LILATracts_halfAnd10'] / county_df['CensusTract'] \n",
    "county_df['1_20_des_percent'] = county_df['LILATracts_1And20'] / county_df['CensusTract'] \n",
    "county_df['vehicle_des_percent'] = county_df['LILATracts_Vehicle'] / county_df['CensusTract'] \n",
    "county_df.rename(columns={'CensusTract':'num_tracts'}, inplace=True)\n",
    "county_df['overall_des_percent'] = county_df[['1_10_des_percent','half_10_des_percent','1_20_des_percent','vehicle_des_percent']].mean(axis=1)\n",
    "county_df=county_df.sort_values('overall_des_percent', ascending=False)\n",
    "county_df.describe()\n",
    "#sns.lmplot(x='num_tracts', y='overall_des_percent', data=county_df)\n"
   ]
  },
  {
   "cell_type": "code",
   "execution_count": null,
   "metadata": {
    "collapsed": false
   },
   "outputs": [],
   "source": [
    "county_df[county_df['1_10_des_percent'] > .1]#.count()\n",
    "county_df['1_10_des_percent'].plot.hist()"
   ]
  },
  {
   "cell_type": "code",
   "execution_count": null,
   "metadata": {
    "collapsed": false
   },
   "outputs": [],
   "source": [
    "len(np.unique(df['CensusTract']))\n",
    "df['CensusTract']"
   ]
  },
  {
   "cell_type": "code",
   "execution_count": null,
   "metadata": {
    "collapsed": false
   },
   "outputs": [],
   "source": [
    "sns.pairplot(county_df)"
   ]
  },
  {
   "cell_type": "markdown",
   "metadata": {},
   "source": [
    "We can see there is a lot of multicolinearity between our LILATracts_1And10 and LILATracts_1And20 columns, which is expected. Now we will drop LILATracts_1And20 to prevent this from effecting our model. "
   ]
  },
  {
   "cell_type": "code",
   "execution_count": null,
   "metadata": {
    "collapsed": true
   },
   "outputs": [],
   "source": [
    "def covariance(variable_1, variable_2, bias=0):\n",
    "    observations = float(len(variable_1))\n",
    "    return np.sum((variable_1 - np.mean(variable_1)) * (variable_2 - np.mean(variable_2)))/(observations-min(bias,1))\n",
    "\n",
    "def standardize(variable):\n",
    "    return (variable - np.mean(variable)) / np.std(variable)\n",
    "\n",
    "def correlation(var1,var2,bias=0):\n",
    "    return covariance(standardize(var1), standardize(var2),bias)"
   ]
  },
  {
   "cell_type": "markdown",
   "metadata": {},
   "source": [
    "### Correlation \n",
    "In statistics, there is a measure that helps to measure how (in the sense of how much and in what direction) two variables relate to each other: correlation.\n",
    "In correlation, a few steps are to be considered. First, your variables have to be standardized (or your result won't be a correlation but a covariation, a measure of association that is affected by the scale of the variables you are working with).\n",
    "  \n",
    "In statistical Z score standardization, you subtract from each variable its mean and then you divide the result by the standard deviation. The resulting transformed variable will have a mean of 0 and a standard deviation of 1 (or unit variance, since variance is the squared standard deviation).\n"
   ]
  },
  {
   "cell_type": "code",
   "execution_count": null,
   "metadata": {
    "collapsed": false
   },
   "outputs": [],
   "source": [
    "from scipy.stats.stats import pearsonr\n",
    "\n",
    "print ('Our correlation estimation: %0.5f' %\n",
    "(correlation(county_df['1_10_des_percent'], county_df['LILATracts_Vehicle'])))\n",
    "print ('Correlation from Scipy pearsonr estimation: %0.5f' %\n",
    "pearsonr(county_df['1_10_des_percent'], county_df['LILATracts_Vehicle'])[0])\n",
    "#standardize(county_df['LILATracts_1And10']).describe()"
   ]
  },
  {
   "cell_type": "code",
   "execution_count": null,
   "metadata": {
    "collapsed": false
   },
   "outputs": [],
   "source": [
    "county_df.head()"
   ]
  },
  {
   "cell_type": "code",
   "execution_count": null,
   "metadata": {
    "collapsed": false
   },
   "outputs": [],
   "source": [
    "sns.reset_orig()\n",
    "plt.style.use('ggplot')\n",
    "\n",
    "pplot = pd.scatter_matrix(county_df, figsize=(16, 16), alpha=0.2, diagonal='kde')"
   ]
  },
  {
   "cell_type": "code",
   "execution_count": null,
   "metadata": {
    "collapsed": false
   },
   "outputs": [],
   "source": [
    "# defining a mask to make our dataframe smaller\n",
    "mask = ['County','CensusTract','Urban','Rural','LILATracts_1And10','LILATracts_halfAnd10',\n",
    "        'LILATracts_1And20','LILATracts_Vehicle','GroupQuartersFlag','OHU2010','NUMGQTRS','PCTGQTRS',\n",
    "        'LowIncomeTracts','POP2010','lahunv1share','lahunv10share','lakids1share','lakids10share',\n",
    "       'laseniors10share','laseniors1share']\n",
    "\n",
    "df[mask].count()# 8044, and 8024\n",
    "#county_df.count()#58\n",
    "df = df[mask].fillna(0) # 8044\n",
    "county_df.rename(columns={'LILATracts_1And10':'countyper_1and10'}, inplace=True)\n",
    "county_df.rename(columns={'LILATracts_halfAnd10':'countyper_halfand10'}, inplace=True)\n",
    "county_df.rename(columns={'LILATracts_1And20':'countyper_1and20'}, inplace=True)\n",
    "county_df.rename(columns={'LILATracts_Vehicle':'countyper_car'}, inplace=True)\n",
    "df = pd.merge(df, county_df, how='left', on='County')\n",
    "df.head()"
   ]
  },
  {
   "cell_type": "code",
   "execution_count": null,
   "metadata": {
    "collapsed": false
   },
   "outputs": [],
   "source": [
    "df.columns"
   ]
  },
  {
   "cell_type": "code",
   "execution_count": null,
   "metadata": {
    "collapsed": false
   },
   "outputs": [],
   "source": [
    "sns.reset_orig()\n",
    "plt.style.use('ggplot')\n",
    "subset = df[['LILATracts_1And10','LILATracts_halfAnd10','LILATracts_Vehicle', 'LILATracts_1And20', 'GroupQuartersFlag', 'NUMGQTRS','OHU2010', 'PCTGQTRS','lahunv1share','lahunv10share','lakids10share', 'lakids1share',\n",
    "                         'laseniors10share', 'laseniors1share','num_tracts', 'POP2010']]\n",
    "pplot = pd.scatter_matrix(subset, figsize=(20, 20), alpha=0.2, diagonal='kde')"
   ]
  },
  {
   "cell_type": "code",
   "execution_count": null,
   "metadata": {
    "collapsed": false
   },
   "outputs": [],
   "source": [
    "df.head()\n",
    "df.groupby('County').describe()"
   ]
  },
  {
   "cell_type": "code",
   "execution_count": null,
   "metadata": {
    "collapsed": false
   },
   "outputs": [],
   "source": [
    "#https://chhs.data.ca.gov/dataset/Primary-Care-Health-Professional-Shortage-Area-HPS/dmib-h3d5\n",
    "# http://gis.oshpd.ca.gov/doc/agol/Data-Dictionary-HPSA-Primary-Care.pdf\n",
    "pcp = pd.read_csv('/Users/workspace/downloads/Primary_Care_Health_Professional_Shortage_Area__HPSA__-_Census_Detail.csv', parse_dates=['DESIGNATION_DATE','LAST_UPDATE_DATE'])\n",
    "pcp.rename(columns={'COUNTY':'County'}, inplace=True)\n",
    "pcp.rename(columns={'PCT100POV':'pct_below100_pov'}, inplace=True)\n",
    "pcp.rename(columns={'PCT200POV':'pct_below200_pov'}, inplace=True)\n",
    "#pcp=pcp.drop(['DEFINITION','SUB_TYPE','HPSA_STATUS','DEFINITION','SUB_TYPE','HPSA_GeographyID'], axis =1)\n",
    "pcp.columns.tolist()\n",
    "pcp.groupby('County').head()"
   ]
  },
  {
   "cell_type": "code",
   "execution_count": null,
   "metadata": {
    "collapsed": false
   },
   "outputs": [],
   "source": [
    "from datetime import datetime\n",
    "\n",
    "pcp['yrs_pcp['LAST_UPDATE_DATE'].dt.year-pcp['DESIGNATION_DATE'].dt.year "
   ]
  },
  {
   "cell_type": "markdown",
   "metadata": {},
   "source": [
    "The HPSA score developed by the National Health Service Corp (NHSC) to determine\n",
    "priorities for assignment of clinicians. Score range from 1 ‐ 26 with the higher score\n",
    "having priority"
   ]
  },
  {
   "cell_type": "code",
   "execution_count": null,
   "metadata": {
    "collapsed": false
   },
   "outputs": [],
   "source": [
    "mssa = pd.read_csv('/Users/workspace/downloads/Medical_Service_Study_Areas__2010.csv')\n",
    "mssa13 = pd.read_csv('/Users/workspace/downloads/Medical_Service_Study_Area__MSSA__-_Census_Detail__2013 (1).csv')\n",
    "mssa=mssa.drop(['NHS_OTHER_','NHS_AMIND_ESK','MULTI_RACE','NHS_MULTI_','OTHER_RACE','NHS_ISLANDER','ISLANDER','AMIND_ESK','NHS_WHITE','NHS_BLACK','NHS_ASIAN','WHITE','ASIAN','HISPANIC','BLACK','UNIT_COUNT', 'POP200POV','PCSA_CIV','PCSA_SCORE_CIV','PSYCH_R_CIV','PC_PHYS_R_CIV','DENTIST_R_CIV','POP100POV','TOTAL_POP_POV','DEFINITION','AGE_65OVER','AGE_18_64','AGE_UNDR18','AGE_UNDER5'], axis=1)\n",
    "mssa.rename(columns={'PCSA':'pcp_shortage'}, inplace=True)\n",
    "mssa.rename(columns={'PCSA_SCORE':'pcp_shortage_score'}, inplace=True)\n",
    "mssa.head()"
   ]
  },
  {
   "cell_type": "code",
   "execution_count": null,
   "metadata": {
    "collapsed": false
   },
   "outputs": [],
   "source": [
    "mssa=mssa[['CNTY_FIPS',\n",
    " 'COUNTY',\n",
    " 'PCT100POV',\n",
    " 'PCT200POV',\n",
    " 'pcp_shortage',\n",
    " 'pcp_shortage_score',\n",
    " 'PC_PHYS_R',\n",
    " 'DENTIST_R',\n",
    " 'PSYCH_R',\n",
    " 'PCT_HSPNC',\n",
    " 'PCT_WHITE',\n",
    " 'PCT_NHS_WH',\n",
    " 'PCT_BLACK',\n",
    " 'PCT_NHS_BL',\n",
    " 'PCT_ASIAN',\n",
    " 'PCT_NHS_AS',\n",
    " 'PCT_AMIND_ESK',\n",
    " 'PCT_NHS_AMIND_ESK',\n",
    " 'PCT_ISLANDER',\n",
    " 'PCT_NHS_ISLANDER',\n",
    " 'PCT_OTHER',\n",
    " 'PCT_NHS_OTHER',\n",
    " 'PCT_MULTI',\n",
    " 'PCT_NHS_MULTI',\n",
    " 'PCT_65OVER',\n",
    " 'PCT_18_64',\n",
    " 'PCT_UNDR18',\n",
    " 'PCT_UNDER5',\n",
    " 'YTH_RATIO',\n",
    " 'ELD_RATIO']]\n",
    "\n",
    "mssa_means = mssa.groupby('COUNTY').agg(np.mean).reset_index()\n",
    "mssa_means.columns = [str(col) + '_cnty_mssa' for col in mssa_means.columns]\n",
    "mssa_means.columns = [x.lower() for x in mssa_means.columns ]\n",
    "mssa_means.rename(columns={'county_cnty_mssa':'County'}, inplace=True)\n",
    "mssa_means.head(3)"
   ]
  },
  {
   "cell_type": "code",
   "execution_count": null,
   "metadata": {
    "collapsed": false
   },
   "outputs": [],
   "source": [
    "df = pd.merge(df,mssa_means,how='left', on='County')"
   ]
  },
  {
   "cell_type": "code",
   "execution_count": null,
   "metadata": {
    "collapsed": false,
    "scrolled": true
   },
   "outputs": [],
   "source": [
    "df.columns.tolist()\n",
    "eth=['County','1_10_des_percent','pct_hspnc_cnty_mssa','pct_white_cnty_mssa','pct_black_cnty_mssa','pct_asian_cnty_mssa','pct_amind_esk_cnty_mssa','pct_islander_cnty_mssa','pct_other_cnty_mssa','pct_multi_cnty_mssa']\n",
    "county_eth=df[eth].groupby('County').agg(np.mean).reset_index()\n",
    "sns.pairplot(county_eth)"
   ]
  },
  {
   "cell_type": "code",
   "execution_count": null,
   "metadata": {
    "collapsed": false
   },
   "outputs": [],
   "source": [
    "df.columns.tolist()\n",
    "sns.pairplot(df[['LILATracts_1And10','pct_65over_cnty_mssa',\n",
    " 'pct_18_64_cnty_mssa',\n",
    " 'pct_undr18_cnty_mssa',\n",
    " 'pct_under5_cnty_mssa',\n",
    " 'yth_ratio_cnty_mssa',\n",
    " 'eld_ratio_cnty_mssa']], hue='LILATracts_1And10')"
   ]
  },
  {
   "cell_type": "code",
   "execution_count": null,
   "metadata": {
    "collapsed": false
   },
   "outputs": [],
   "source": [
    "corrmat = df.corr()\n",
    "\n",
    "# Set up the matplotlib figure\n",
    "f, ax = plt.subplots(figsize=(16, 12))\n",
    "\n",
    "# Draw the heatmap using seaborn, and add a title to the plot\n",
    "sns.heatmap(corrmat, vmax=.8, square=True)\n",
    "f.tight_layout()"
   ]
  },
  {
   "cell_type": "code",
   "execution_count": null,
   "metadata": {
    "collapsed": false
   },
   "outputs": [],
   "source": [
    "df.groupby('Urban').agg(np.sum)['Rural']\n",
    "df.groupby('Rural').agg(np.sum)['Urban']"
   ]
  },
  {
   "cell_type": "code",
   "execution_count": null,
   "metadata": {
    "collapsed": false
   },
   "outputs": [],
   "source": [
    "df['CensusTract'].count()#.count()"
   ]
  },
  {
   "cell_type": "code",
   "execution_count": null,
   "metadata": {
    "collapsed": false
   },
   "outputs": [],
   "source": [
    "education=pd.read_csv('/Users/workspace/downloads/Educational_Attainment__2000-2010.csv')\n",
    "education=education.drop(['reportyear','ind_definition','geotypevalue','geoname','county_fips'], axis=1)\n",
    "education"
   ]
  },
  {
   "cell_type": "code",
   "execution_count": null,
   "metadata": {
    "collapsed": false
   },
   "outputs": [],
   "source": [
    "\n",
    "corrmat = education.corr()\n",
    "\n",
    "# Set up the matplotlib figure\n",
    "f, ax = plt.subplots(figsize=(16, 12))\n",
    "\n",
    "# Draw the heatmap using seaborn, and add a title to the plot\n",
    "sns.heatmap(corrmat, vmax=.8, square=True)\n",
    "f.tight_layout()"
   ]
  },
  {
   "cell_type": "code",
   "execution_count": null,
   "metadata": {
    "collapsed": false
   },
   "outputs": [],
   "source": [
    "\n",
    "import pymc as pm\n",
    "\n",
    "alpha = 1.0 / count_data.mean()  # Recall count_data is the\n",
    "                               # variable that holds our txt counts\n",
    "lambda_1 = pm.Exponential(\"lambda_1\", alpha)\n",
    "lambda_2 = pm.Exponential(\"lambda_2\", alpha)\n",
    "\n",
    "tau = pm.DiscreteUniform(\"tau\", lower=0, upper=n_count_data)"
   ]
  },
  {
   "cell_type": "code",
   "execution_count": null,
   "metadata": {
    "collapsed": false
   },
   "outputs": [],
   "source": [
    "# mssa13[['COUNTY', 'CENSUS_KEY','MSSA_ID','MSSA_NAME','CNTY_FIPS','AREA_SQMI']]\n",
    "# mssa13.groupby(['COUNTY']).count()"
   ]
  },
  {
   "cell_type": "code",
   "execution_count": null,
   "metadata": {
    "collapsed": false
   },
   "outputs": [],
   "source": [
    "mssa.columns.tolist()\n",
    "av_cols=['pcp_shortage_score','PC_PHYS_R','DENTIST_R','PSYCH_R','PCT_HSPNC','PCT_WHITE',\n",
    " 'PCT_NHS_WH','PCT_BLACK', 'PCT_NHS_BL', 'PCT_ASIAN','PCT_NHS_AS','PCT_AMIND_ESK','PCT_NHS_AMIND_ESK', 'PCT_ISLANDER', 'PCT_NHS_ISLANDER',\n",
    " 'PCT_OTHER', 'PCT_NHS_OTHER','PCT_MULTI', 'PCT_NHS_MULTI','PCT_65OVER', 'PCT_18_64', 'PCT_UNDR18', 'PCT_UNDER5','YTH_RATIO', 'ELD_RATIO']\n",
    "mssa[av_cols]"
   ]
  },
  {
   "cell_type": "code",
   "execution_count": null,
   "metadata": {
    "collapsed": false
   },
   "outputs": [],
   "source": [
    "inf = pd.read_csv('/Users/workspace/downloads/Infectious_Disease_Cases_by_County__Year__and_Sex__2001-2014.csv')\n",
    "inf = inf[(inf['Year'] == 2010) & (inf['County']!='California')]\n",
    "inf = inf[inf['Sex'] == 'Total']\n",
    "inf.head()"
   ]
  },
  {
   "cell_type": "code",
   "execution_count": null,
   "metadata": {
    "collapsed": false
   },
   "outputs": [],
   "source": [
    "inf.drop(['Year', 'Sex'], axis=1)"
   ]
  },
  {
   "cell_type": "code",
   "execution_count": null,
   "metadata": {
    "collapsed": false
   },
   "outputs": [],
   "source": [
    "inf['Disease'].unique()\n",
    "inf[inf['Rate'] > 1]"
   ]
  },
  {
   "cell_type": "code",
   "execution_count": null,
   "metadata": {
    "collapsed": false
   },
   "outputs": [],
   "source": [
    "#mask=df.isnull() == True\n",
    "#df.where(pd.isnull(df))"
   ]
  },
  {
   "cell_type": "code",
   "execution_count": null,
   "metadata": {
    "collapsed": false
   },
   "outputs": [],
   "source": [
    "lila1_10 = df.copy(deep=False)\n",
    "lila1_10=lila1_10.drop(['LILATracts_halfAnd10','LILATracts_1And20','LILATracts_Vehicle','LAhalfand10','LA1and20','LATracts_half','LATracts20'],axis=1)\n",
    "lila1_10"
   ]
  },
  {
   "cell_type": "code",
   "execution_count": null,
   "metadata": {
    "collapsed": false
   },
   "outputs": [],
   "source": [
    "hospital = pd.read_csv('/Users/workspace/PycharmProjects/desert/desert_data/Readmissions_and_Deaths_-_Hospital.csv')\n",
    "hospital.columns"
   ]
  },
  {
   "cell_type": "code",
   "execution_count": null,
   "metadata": {
    "collapsed": false
   },
   "outputs": [],
   "source": [
    "hospital."
   ]
  },
  {
   "cell_type": "code",
   "execution_count": null,
   "metadata": {
    "collapsed": true
   },
   "outputs": [],
   "source": []
  },
  {
   "cell_type": "markdown",
   "metadata": {},
   "source": [
    "Column definitions \n",
    "---\n",
    "* [u'CensusTract'] == Census tract    \n",
    "* [u'County'] == County    \n",
    "* [u'GroupQuartersFlag'] == Group quarters, tract with high share  \n",
    "* [u'HUNVFlag'] == Vehicle access, tract with low rate  \n",
    "* [u'LA1and10'] == Low access tract at 1 mile for urban areas or 10 miles for rural areas  \n",
    "* [u'LA1and20'] == Low access tract at 1 mile for urban areas or 20 miles for rural areas  \n",
    "* [u'LAhalfand10'] == Low access tract at 1/2 mile for urban areas or 10 miles for rural areas  \n",
    "* [u'lahunv1'] == Vehicle access, housing units without and low access at 1 mile, number  \n",
    "* [u'lahunv10'] == Vehicle access, housing units without and low access at 10 miles, number  \n",
    "* [u'lahunv10share'] == Vehicle access, percentage of housing units without and low access at 10 miles  \n",
    "* [u'lahunv1share'] == Vehicle access, housing units without and low access at 1 mile, share  \n",
    "* [u'lahunv20'] == Vehicle access, housing units without and low access at 20 miles, number  \n",
    "* [u'lahunv20share'] == Vehicle access, housing units without and low access at 20 miles, share  \n",
    "* [u'lahunvhalf'] == Vehicle access, housing units without and low access at 1/2 mile, number  \n",
    "* [u'lahunvhalfshare'] == Vehicle access, housing units without and low access at 1/2 mile, share  \n",
    "* [u'lakids1'] == Low access, children age 0-17 at 1 mile, number  \n",
    "* [u'lakids10'] == Low access, children age 0-17 at 10 miles, number  \n",
    "* [u'lakids10share'] == Low access, children age 0-17 at 10 miles, share  \n",
    "* [u'lakids1share'] == Low access, children age 0-17 at 1 mile, share  \n",
    "* [u'lakids20'] == Low access, children age 0-17 at 20 miles, number  \n",
    "* [u'lakids20share'] == Low access, children age 0-17 at 20 miles, share  \n",
    "* [u'lakidshalf'] == Low access, children age 0-17 at 1/2 mile, number  \n",
    "* [u'lakidshalfshare'] == Low access, children age 0-17 at 1/2 mile, share  \n",
    "* [u'lalowi1'] == Low access, low-income people at 1 mile, number  \n",
    "* [u'lalowi10'] == Low access, low-income people at 10 miles, number  \n",
    "* [u'lalowi10share'] == Low access, low-income people at 10 miles, share  \n",
    "* [u'lalowi1share'] == Low access, low-income people at 1 mile, share  \n",
    "* [u'lalowi20'] == Low access, low-income people at 20 miles, number  \n",
    "* [u'lalowi20share'] == Low access, low-income people at 20 miles, share  \n",
    "* [u'lalowihalf'] == Low access, low-income people at 1/2 mile, number  \n",
    "* [u'lalowihalfshare'] == Low access, low-income people at 1/2 mile, share  \n",
    "* [u'lapop1'] == Low access, people at 1 mile, number  \n",
    "* [u'lapop10'] == Low access, people at 10 miles, number  \n",
    "* [u'lapop10share'] == Low access, people at 10 miles, share  \n",
    "* [u'lapop1share'] == Low access, people at 1 mile, share  \n",
    "* [u'lapop20'] == Low access, people at 20 miles, number  \n",
    "* [u'lapop20share'] == Low access, people at 20 miles, share  \n",
    "* [u'lapophalf'] == Low access, people at 1/2 mile, number  \n",
    "* [u'lapophalfshare'] == Low access, people at 1/2 mile, share  \n",
    "* [u'laseniors1'] == Low access, seniors age 65+ at 1 mile, number  \n",
    "* [u'laseniors10'] == Low access, seniors age 65+ at 10 miles, number  \n",
    "* [u'laseniors10share'] == Low access, seniors age 65+ at 10 miles, share  \n",
    "* [u'laseniors1share'] == Low access, seniors age 65+ at 1 mile, share  \n",
    "* [u'laseniors20'] == Low access, seniors age 65+ at 20 miles, number  \n",
    "* [u'laseniors20share'] == Low access, seniors age 65+ at 20 miles, share  \n",
    "* [u'laseniorshalf'] == Low access, seniors age 65+ at 1/2 mile, number  \n",
    "* [u'laseniorshalfshare'] == Low access, seniors age 65+ at 1/2 mile, share  \n",
    "* [u'LATracts_half'] == Low access tract at 1/2 mile  \n",
    "* [u'LATracts1'] == Low access tract at 1 mile  \n",
    "* [u'LATracts10'] == Low access tract at 10 miles  \n",
    "* [u'LATracts20'] == Low access tract at 20 miles  \n",
    "* [u'LILATracts_1And10'] == Low income and low access measured at 1 and 10 miles  \n",
    "* [u'LILATracts_1And20'] == Low income and low access measured at 1 and 20 miles  \n",
    "* [u'LILATracts_halfAnd10'] == Low income and low access measured at 1/2 and 10 miles  \n",
    "* [u'LILATracts_Vehicle'] == Low income and low access using vehicle access  \n",
    "* [u'LowIncomeTracts'] == Low income tract  \n",
    "* [u'NUMGQTRS'] == Group quarters, tract population residing in, number  \n",
    "* [u'OHU2010'] == Housing units, total  \n",
    "* [u'PCTGQTRS'] == Group quarters, tract population residing in, share  \n",
    "* [u'POP2010'] == Population, tract total  \n",
    "* [u'Rural'] == Rural tract  \n",
    "* [u'State'] == State  \n",
    "* [u'UATYP10'] == Census urban area  \n",
    "* [u'Urban'] == Urban tract  \n"
   ]
  },
  {
   "cell_type": "markdown",
   "metadata": {},
   "source": [
    "Low Income and Low Access Tracks\n",
    "----\n",
    "* LILATracts_1And10 = low income and low access measured at 1 mile and 10 miles  \n",
    "* LILATracts_halfAnd10 = low income and low access measured at 1/2 mile and 10 miles  \n",
    "* LILATracts_1And20 = low income and low access measured at 1 mile and 20 miles  \n",
    "* LILATracts_Vehicle = low income and low access using vehicle access. A low-income tract in which at least one of the following is true: at least 100 households are located more than ½ mile from the nearest supermarket and have no vehicle access; or at least 500 people or 33 percent of the population live more than 20 miles from the nearest supermarket, regardless of vehicle availability."
   ]
  },
  {
   "cell_type": "markdown",
   "metadata": {},
   "source": [
    "* LATracts_half = low access tract at least ½ mile. An urban tract with at least 500 people or 33 percent of the population living at least ½ mile from the nearest supermarket, supercenter, or large grocery store."
   ]
  }
 ],
 "metadata": {
  "kernelspec": {
   "display_name": "Python 2",
   "language": "python",
   "name": "python2"
  },
  "language_info": {
   "codemirror_mode": {
    "name": "ipython",
    "version": 2
   },
   "file_extension": ".py",
   "mimetype": "text/x-python",
   "name": "python",
   "nbconvert_exporter": "python",
   "pygments_lexer": "ipython2",
   "version": "2.7.11"
  }
 },
 "nbformat": 4,
 "nbformat_minor": 0
}
