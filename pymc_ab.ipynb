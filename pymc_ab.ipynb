{
 "cells": [
  {
   "cell_type": "code",
   "execution_count": null,
   "metadata": {
    "collapsed": true
   },
   "outputs": [],
   "source": [
    "from scipy.stats.stats import pearsonr\n",
    "import numpy as np\n",
    "import pandas as pd \n",
    "import statsmodels.api as sm\n",
    "import statsmodels.formula.api as smf\n"
   ]
  },
  {
   "cell_type": "code",
   "execution_count": null,
   "metadata": {
    "collapsed": true
   },
   "outputs": [],
   "source": [
    "%matplotlib inline\n",
    "import matplotlib.pyplot as plt\n",
    "import seaborn as sns"
   ]
  },
  {
   "cell_type": "code",
   "execution_count": null,
   "metadata": {
    "collapsed": true
   },
   "outputs": [],
   "source": [
    "df = pd.read_csv('/Users/desert/desert_workspace/final_data.csv')\n",
    "df=df.drop('Unnamed: 0', axis=1)\n",
    "df.head()"
   ]
  },
  {
   "cell_type": "code",
   "execution_count": null,
   "metadata": {
    "collapsed": false
   },
   "outputs": [],
   "source": [
    "acc=pd.read_excel('/Users/desert/downloads/DataDownload.xls',sheetname=1)\n",
    "acc"
   ]
  },
  {
   "cell_type": "code",
   "execution_count": null,
   "metadata": {
    "collapsed": false
   },
   "outputs": [],
   "source": [
    "acc[acc['Variable Code'] == 'FFR12']\n",
    "acc[acc['Variable Code'] == 'PCH_FFR_07_12']"
   ]
  },
  {
   "cell_type": "code",
   "execution_count": null,
   "metadata": {
    "collapsed": false
   },
   "outputs": [],
   "source": [
    "acc['Category Code'].unique()\n",
    "#acc[acc['Category Code']=='PRICES_TAXES']\n",
    "#acc[acc['Category Code']=='ASSISTANCE']\n",
    "#acc[acc['Category Code']=='LOCAL']\n",
    "#acc[acc['Category Code']=='INSECURITY']\n",
    "#acc[acc['Category Code']=='ACCESS']\n",
    "#acc[acc['Category Code']=='STORES']\n",
    "tax=pd.read_excel('/Users/desert/downloads/DataDownload.xls',sheetname=9)\n",
    "tax=tax[['State','County','MILK_PRICE10','SODA_PRICE10','MILK_SODA_PRICE10']]\n",
    "tax= tax[tax['State']=='CA']\n",
    "tax=tax.drop('State',axis=1)\n",
    "tax.head()\n",
    "df = pd.merge(df,tax,how='inner',on='County')\n"
   ]
  },
  {
   "cell_type": "code",
   "execution_count": null,
   "metadata": {
    "collapsed": false
   },
   "outputs": [],
   "source": [
    "acc_df=pd.read_excel('/Users/desert/downloads/DataDownload.xls',sheetname=2)\n",
    "acc_df.head()"
   ]
  },
  {
   "cell_type": "code",
   "execution_count": null,
   "metadata": {
    "collapsed": false
   },
   "outputs": [],
   "source": [
    "#acc_df=pd.read_excel('/Users/desert/downloads/DataDownload.xls',sheetname=9)\n",
    "acc_df=pd.read_excel('/Users/desert/downloads/DataDownload.xls',sheetname=10)\n",
    "acc_df = acc_df[acc_df['State'] == 'CA']\n"
   ]
  },
  {
   "cell_type": "code",
   "execution_count": null,
   "metadata": {
    "collapsed": false
   },
   "outputs": [],
   "source": [
    "acc_df=acc_df[['County','PCH_FFR_07_12','FFR07','FFR12']]\n",
    "df=pd.merge(df,acc_df, how='inner',on='County')\n",
    "df"
   ]
  },
  {
   "cell_type": "code",
   "execution_count": null,
   "metadata": {
    "collapsed": false
   },
   "outputs": [],
   "source": [
    "df['std_ff']=standardize(df['FFR07'])\n",
    "sns.lmplot(x='FFR07',y='pop2010_in_des', data=df)"
   ]
  },
  {
   "cell_type": "code",
   "execution_count": null,
   "metadata": {
    "collapsed": false
   },
   "outputs": [],
   "source": [
    "df.columns.tolist()"
   ]
  },
  {
   "cell_type": "code",
   "execution_count": null,
   "metadata": {
    "collapsed": false
   },
   "outputs": [],
   "source": [
    "df.columns.tolist()\n",
    "data = df[['County','des_percent', 'PCH_FFR_07_12','Rural','Urban','cnty_obesity_pct','cnty_dm_pct','cnty_inactive_pct','percent_food_desert', 'pop2010_in_des','POP2010', 'ABR',\n",
    " 'p_hs_edatt','opiods_rx_1000']]\n",
    "#data['PCH_FFR_07_12']=data['PCH_FFR_07_12'] * 0.01\n",
    "data['cnty_obesity_pct']=data['cnty_obesity_pct'] * 0.01\n",
    "data['cnty_dm_pct']=data['cnty_dm_pct'] * 0.01\n",
    "data['cnty_inactive_pct']=data['cnty_inactive_pct'] * 0.01\n",
    "data['p_hs_edatt']=data['p_hs_edatt'] * 0.01\n",
    "data['ABR']=data['ABR'] * 0.01\n",
    "data['num_obese'] = np.round(data['cnty_obesity_pct'] * data['POP2010'])\n",
    "data['opiod_pop']=data['POP2010'] / 1000\n",
    "#data['opiods_rx_1000'] = data['opiods_rx_1000'] / 1000\n",
    "data['opiods_rx'] = data['opiods_rx_1000'] * data['opiod_pop']\n",
    "data['opiods_perc'] = data['opiods_rx'] / data['POP2010']\n",
    "\n",
    "data.head()"
   ]
  },
  {
   "cell_type": "code",
   "execution_count": null,
   "metadata": {
    "collapsed": false
   },
   "outputs": [],
   "source": [
    "data['majority_urban'] = data['Urban'] > 0.5\n",
    "data['majority_urban'] = data['majority_urban'].astype(int)\n",
    "data['des'] = data['des_percent'] > 0.1\n",
    "data['des'] = data['des'].astype(int)\n",
    "# def standardize(variable):\n",
    "#     return (variable - np.mean(variable)) / np.std(variable)\n",
    "\n",
    "# data['standardized_pop'] = standardize(data['POP2010'])\n",
    "# data['standardized_des_pop'] = standardize(data['pop2010_in_des'])\n",
    "# data['standardized_des_per'] =  standardize(data['pop2010_in_des']) #data['standardized_des_pop'] / data['standardized_pop']\n",
    "# data.describe()\n",
    "# data[data['standardized_des_per']>1.259362]"
   ]
  },
  {
   "cell_type": "code",
   "execution_count": null,
   "metadata": {
    "collapsed": false
   },
   "outputs": [],
   "source": [
    "bayes = data.groupby('majority_urban').agg(np.mean)#[['POP2010','num_obese','cnty_obesity_pct']]\n",
    "bayes2 = data.groupby('des').agg(np.mean)#[['POP2010','num_obese','cnty_obesity_pct']]"
   ]
  },
  {
   "cell_type": "code",
   "execution_count": null,
   "metadata": {
    "collapsed": false
   },
   "outputs": [],
   "source": [
    "df.groupby(df['des_percent'] > 0.1).agg(np.mean)[['POP2010','pop2010_in_des','NUMGQTRS','HUNVFlag','PC_PHYS_R','DENTIST_R','PSYCH_R','PCT_HSPNC', 'PCT_BLACK','cnty_dm_pct', 'cnty_obesity_pct','PCT_65OVER','PCT_18_64','Rural','PCT_UNDR18','PCT_UNDER5','PCT_WHITE','unemployment_rate','p_hs_edatt','ABR']]\n"
   ]
  },
  {
   "cell_type": "code",
   "execution_count": null,
   "metadata": {
    "collapsed": false
   },
   "outputs": [],
   "source": [
    "#bayes=np.round(bayes)\n",
    "bayes2"
   ]
  },
  {
   "cell_type": "code",
   "execution_count": null,
   "metadata": {
    "collapsed": false
   },
   "outputs": [],
   "source": [
    "corrmat = df.corr()\n",
    "\n",
    "# Set up the matplotlib figure\n",
    "f, ax = plt.subplots(figsize=(16, 12))\n",
    "\n",
    "# Draw the heatmap using seaborn\n",
    "sns.heatmap(corrmat, vmax=.8, square=True)\n",
    "ax.set_title('Data Correlations')\n",
    "f.tight_layout()"
   ]
  },
  {
   "cell_type": "code",
   "execution_count": null,
   "metadata": {
    "collapsed": false
   },
   "outputs": [],
   "source": [
    "y = df['pop2010_in_des']\n",
    "X = df['PCH_FFR_07_12']\n",
    "linear_regression = smf.ols(formula='pop2010_in_des ~ PCH_FFR_07_12', data=df)\n",
    "fitted_model = linear_regression.fit()\n",
    "fitted_model.summary()\n"
   ]
  },
  {
   "cell_type": "code",
   "execution_count": null,
   "metadata": {
    "collapsed": true
   },
   "outputs": [],
   "source": [
    "from scipy.stats import chi2_contingency\n",
    "\n",
    "def chisq_of_df_cols(df, c1, c2):\n",
    "    contingency_table=pd.crosstab(index=df[c1], columns=df[c2])\n",
    "    return chi2_contingency(contingency_table, correction=False)\n",
    "\n",
    "test_stat, pval, deg_freedom, expected = chisq_of_df_cols(df, 'ama', 'readmitted_<30')\n",
    "\n",
    "\n",
    "test_stat, pval"
   ]
  },
  {
   "cell_type": "code",
   "execution_count": null,
   "metadata": {
    "collapsed": true
   },
   "outputs": [],
   "source": [
    "from pymc import rbeta\n",
    "\n",
    "\n",
    "class Discharges(object):\n",
    "\n",
    "    \"\"\"\n",
    "    This class represents N discharge dispositions.\n",
    "\n",
    "    parameters:\n",
    "        p_array: a (n,) Numpy array of probabilities >0, <1.\n",
    "\n",
    "    methods:\n",
    "        dc( i ): return the results, 0 or 1, of pulling \n",
    "                   the ith bandit.\n",
    "    \"\"\"\n",
    "\n",
    "    def __init__(self, p_array):\n",
    "        self.p = p_array\n",
    "        self.optimal = np.argmax(p_array)\n",
    "\n",
    "    def dc(self, i):\n",
    "        # i is which arm to dc\n",
    "        return np.random.rand() < self.p[i]\n",
    "\n",
    "    def __len__(self):\n",
    "        return len(self.p)\n",
    "\n",
    "\n",
    "class BayesianStrategy(object):\n",
    "\n",
    "    \"\"\"\n",
    "    Implements a online, learning strategy to solve\n",
    "    the Multi-Armed Bandit problem.\n",
    "    \n",
    "    parameters:\n",
    "        discharges: a Discharges class with .dc method\n",
    "    \n",
    "    methods:\n",
    "        sample_discharges(n): sample and train on n dc.\n",
    "\n",
    "    attributes:\n",
    "        N: the cumulative number of samples\n",
    "        choices: the historical choices as a (N,) array\n",
    "        bb_score: the historical score as a (N,) array\n",
    "    \"\"\"\n",
    "\n",
    "    def __init__(self, discharges):\n",
    "\n",
    "        self.discharges = discharges\n",
    "        n_discharges = len(self.discharges)\n",
    "        self.wins = np.zeros(n_discharges)\n",
    "        self.trials = np.zeros(n_discharges)\n",
    "        self.N = 0\n",
    "        self.choices = []\n",
    "        self.bb_score = []\n",
    "        \n",
    "    def sample_discharges(self, n=1):\n",
    "\n",
    "        bb_score = np.zeros(n)\n",
    "        choices = np.zeros(n)\n",
    "\n",
    "        for k in range(n):\n",
    "            # sample from the discharges's priors, and select the largest sample\n",
    "            choice = np.argmax(rbeta(1 + self.wins, 1 + self.trials - self.wins))\n",
    "\n",
    "            # sample the chosen discharge\n",
    "            result = self.discharges.dc(choice)\n",
    "\n",
    "            # update priors and score\n",
    "            self.wins[choice] += result\n",
    "            self.trials[choice] += 1\n",
    "            bb_score[k] = result\n",
    "            self.N += 1\n",
    "            choices[k] = choice\n",
    "\n",
    "        self.bb_score = np.r_[self.bb_score, bb_score]\n",
    "        self.choices = np.r_[self.choices, choices]\n",
    "        return"
   ]
  },
  {
   "cell_type": "code",
   "execution_count": null,
   "metadata": {
    "collapsed": true
   },
   "outputs": [],
   "source": [
    "from IPython.core.pylabtools import figsize\n",
    "import scipy.stats as stats\n",
    "\n",
    "figsize(11.0, 10)\n",
    "\n",
    "beta = stats.beta\n",
    "x = np.linspace(0.001, .999, 200)\n",
    "\n",
    "\n",
    "def plot_priors(bayesian_strategy, prob, lw=3, alpha=0.2, plt_vlines=True):\n",
    "    # plotting function\n",
    "    wins = bayesian_strategy.wins\n",
    "    trials = bayesian_strategy.trials\n",
    "    for i in range(prob.shape[0]):\n",
    "        y = beta(1 + wins[i], 1 + trials[i] - wins[i])\n",
    "        p = plt.plot(x, y.pdf(x), lw=lw)\n",
    "        c = p[0].get_markeredgecolor()\n",
    "        plt.fill_between(x, y.pdf(x), 0, color=c, alpha=alpha,\n",
    "                         label=\"underlying probability: %.2f\" % prob[i])\n",
    "        if plt_vlines:\n",
    "            plt.vlines(prob[i], 0, y.pdf(prob[i]),\n",
    "                       colors=c, linestyles=\"--\", lw=2)\n",
    "        plt.autoscale(tight=\"True\")\n",
    "        plt.title(\"Posteriors After %d Samples\" % bayesian_strategy.N +\n",
    "                  \"s\" * (bayesian_strategy.N > 1))\n",
    "        plt.autoscale(tight=True)\n",
    "    return"
   ]
  },
  {
   "cell_type": "code",
   "execution_count": null,
   "metadata": {
    "collapsed": false
   },
   "outputs": [],
   "source": [
    "bayes2#.plot(kind='bar')\n",
    "bayes2.drop(['pop2010_in_des','POP2010','opiods_rx_1000','num_obese','opiods_rx','opiod_pop'], axis=1).plot(kind='bar')"
   ]
  },
  {
   "cell_type": "code",
   "execution_count": null,
   "metadata": {
    "collapsed": false
   },
   "outputs": [],
   "source": [
    "true_p_A, true_p_B, N_A, N_B, observations_A, observations_B = gen_obs('cnty_dm_pct','POP2010',bayes2)\n",
    "\n",
    "# Set up the pymc model. Again assume Uniform priors for p_A and p_B.\n",
    "p_A = pm.Uniform(\"p_A\", 0, 1)\n",
    "p_B = pm.Uniform(\"p_B\", 0, 1)\n",
    "\n",
    "\n",
    "# Define the deterministic delta function. This is our unknown of interest.\n",
    "@pm.deterministic\n",
    "def delta(p_A=p_A, p_B=p_B):\n",
    "    return p_A - p_B\n",
    "\n",
    "# Set of observations, in this case we have two observation datasets.\n",
    "obs_A = pm.Bernoulli(\"obs_A\", p_A, value=observations_A, observed=True)\n",
    "obs_B = pm.Bernoulli(\"obs_B\", p_B, value=observations_B, observed=True)\n",
    "\n",
    "# To be explained in chapter 3.\n",
    "mcmc = pm.MCMC([p_A, p_B, delta, obs_A, obs_B])\n",
    "mcmc.sample(20000, 1000)"
   ]
  },
  {
   "cell_type": "code",
   "execution_count": null,
   "metadata": {
    "collapsed": true
   },
   "outputs": [],
   "source": [
    "p_A_samples = mcmc.trace(\"p_A\")[:]\n",
    "p_B_samples = mcmc.trace(\"p_B\")[:]\n",
    "delta_samples = mcmc.trace(\"delta\")[:]"
   ]
  },
  {
   "cell_type": "code",
   "execution_count": null,
   "metadata": {
    "collapsed": false
   },
   "outputs": [],
   "source": [
    "def plot_AB(p_A_samples, true_p_A, p_B_samples, true_p_B, delta_samples):\n",
    "    figsize(12.5, 10)\n",
    "    ax = plt.subplot(311)\n",
    "    plt.xlim(0, .1)\n",
    "    plt.hist(p_A_samples, histtype='stepfilled', bins=25, alpha=0.85,label=\"posterior of $p_A$\", color=\"#A60628\", normed=True)\n",
    "    plt.vlines(true_p_A, 0, 80, linestyle=\"--\", label=\"true $p_A$ (unknown)\")\n",
    "    plt.legend(loc=\"upper right\")\n",
    "    plt.title(\"Posterior distributions of $p_A$, $p_B$, and delta unknowns\")\n",
    "    ax = plt.subplot(312)\n",
    "    plt.xlim(0, .1)\n",
    "    plt.hist(p_B_samples, histtype='stepfilled', bins=25, alpha=0.85,label=\"posterior of $p_B$\", color=\"#467821\", normed=True)\n",
    "    plt.vlines(true_p_B, 0, 80, linestyle=\"--\", label=\"true $p_B$ (unknown)\")\n",
    "    plt.legend(loc=\"upper right\")\n",
    "    ax = plt.subplot(313)\n",
    "    plt.hist(delta_samples, histtype='stepfilled', bins=30, alpha=0.85,label=\"posterior of delta\", color=\"#7A68A6\", normed=True)\n",
    "    plt.vlines(true_p_A - true_p_B, 0, 60, linestyle=\"--\",label=\"true delta (unknown)\")\n",
    "    plt.vlines(0, 0, 60, color=\"black\", alpha=0.2)\n",
    "    plt.legend(loc=\"upper right\");\n",
    "\n",
    "plot_AB(p_A_samples, true_p_A, p_B_samples, true_p_B, delta_samples)"
   ]
  },
  {
   "cell_type": "code",
   "execution_count": null,
   "metadata": {
    "collapsed": false
   },
   "outputs": [],
   "source": [
    "import pymc as pm\n",
    "figsize(12, 4)\n",
    "\n",
    "def gen_obs(prob_col,n_col,frame):\n",
    "    true_p_A = frame[prob_col].ix[0]\n",
    "    true_p_B = frame[prob_col].ix[1]\n",
    "    N_A = np.round(frame[n_col].ix[0])\n",
    "    N_B = np.round(frame[n_col].ix[1])\n",
    "    observations_A = pm.rbernoulli(true_p_A, N_A)\n",
    "    observations_B = pm.rbernoulli(true_p_B, N_B)\n",
    "    print \"Obs from Site A: \", observations_A[:30].astype(int), \"...\"\n",
    "    print \"Obs from Site B: \", observations_B[:30].astype(int), \"...\"\n",
    "    return true_p_A, true_p_B, N_A, N_B, observations_A, observations_B\n",
    "    \n",
    "true_p_A, true_p_B, N_A, N_B, observations_A, observations_B = gen_obs('cnty_dm_pct','POP2010',bayes)\n",
    "# # these two quantities are unknown to us.\n",
    "# true_p_A = bayes['cnty_dm_pct'].ix[0]\n",
    "# true_p_B = bayes['cnty_dm_pct'].ix[1]\n",
    "\n",
    "# # notice the unequal sample sizes -- no problem in Bayesian analysis.\n",
    "# N_A = np.round(bayes['POP2010'].ix[0])\n",
    "# N_B = np.round(bayes['POP2010'].ix[1])\n",
    "\n",
    "# # generate some observations\n",
    "# observations_A = pm.rbernoulli(true_p_A, N_A)\n",
    "# observations_B = pm.rbernoulli(true_p_B, N_B)\n",
    "# print \"Obs from Site A: \", observations_A[:30].astype(int), \"...\"\n",
    "# print \"Obs from Site B: \", observations_B[:30].astype(int), \"...\""
   ]
  },
  {
   "cell_type": "code",
   "execution_count": null,
   "metadata": {
    "collapsed": false
   },
   "outputs": [],
   "source": [
    "print observations_A.mean()\n",
    "print observations_B.mean()"
   ]
  },
  {
   "cell_type": "code",
   "execution_count": null,
   "metadata": {
    "collapsed": false
   },
   "outputs": [],
   "source": [
    "\n",
    "# Set up the pymc model. Again assume Uniform priors for p_A and p_B.\n",
    "p_A = pm.Uniform(\"p_A\", 0, 1)\n",
    "p_B = pm.Uniform(\"p_B\", 0, 1)\n",
    "\n",
    "\n",
    "# Define the deterministic delta function. This is our unknown of interest.\n",
    "@pm.deterministic\n",
    "def delta(p_A=p_A, p_B=p_B):\n",
    "    return p_A - p_B\n",
    "\n",
    "# Set of observations, in this case we have two observation datasets.\n",
    "obs_A = pm.Bernoulli(\"obs_A\", p_A, value=observations_A, observed=True)\n",
    "obs_B = pm.Bernoulli(\"obs_B\", p_B, value=observations_B, observed=True)\n",
    "\n",
    "# To be explained in chapter 3.\n",
    "mcmc = pm.MCMC([p_A, p_B, delta, obs_A, obs_B])\n",
    "mcmc.sample(20000, 1000)"
   ]
  },
  {
   "cell_type": "code",
   "execution_count": null,
   "metadata": {
    "collapsed": true
   },
   "outputs": [],
   "source": [
    "p_A_samples = mcmc.trace(\"p_A\")[:]\n",
    "p_B_samples = mcmc.trace(\"p_B\")[:]\n",
    "delta_samples = mcmc.trace(\"delta\")[:]"
   ]
  },
  {
   "cell_type": "code",
   "execution_count": null,
   "metadata": {
    "collapsed": false
   },
   "outputs": [],
   "source": [
    "def plot_AB(p_A_samples, true_p_A, p_B_samples, true_p_B, delta_samples):\n",
    "    figsize(12.5, 10)\n",
    "    ax = plt.subplot(311)\n",
    "    plt.xlim(0, .1)\n",
    "    plt.hist(p_A_samples, histtype='stepfilled', bins=25, alpha=0.85,label=\"posterior of $p_A$\", color=\"#A60628\", normed=True)\n",
    "    plt.vlines(true_p_A, 0, 80, linestyle=\"--\", label=\"true $p_A$ (unknown)\")\n",
    "    plt.legend(loc=\"upper right\")\n",
    "    plt.title(\"Posterior distributions of $p_A$, $p_B$, and delta unknowns\")\n",
    "    ax = plt.subplot(312)\n",
    "    plt.xlim(0, .1)\n",
    "    plt.hist(p_B_samples, histtype='stepfilled', bins=25, alpha=0.85,label=\"posterior of $p_B$\", color=\"#467821\", normed=True)\n",
    "    plt.vlines(true_p_B, 0, 80, linestyle=\"--\", label=\"true $p_B$ (unknown)\")\n",
    "    plt.legend(loc=\"upper right\")\n",
    "    ax = plt.subplot(313)\n",
    "    plt.hist(delta_samples, histtype='stepfilled', bins=30, alpha=0.85,label=\"posterior of delta\", color=\"#7A68A6\", normed=True)\n",
    "    plt.vlines(true_p_A - true_p_B, 0, 60, linestyle=\"--\",label=\"true delta (unknown)\")\n",
    "    plt.vlines(0, 0, 60, color=\"black\", alpha=0.2)\n",
    "    plt.legend(loc=\"upper right\");\n",
    "\n",
    "plot_AB(p_A_samples, true_p_A, p_B_samples, true_p_B, delta_samples)\n",
    "# ax = plt.subplot(312)\n",
    "\n",
    "\n",
    "# figsize(12.5, 10)\n",
    "\n",
    "# # histogram of posteriors\n",
    "\n",
    "# ax = plt.subplot(311)\n",
    "\n",
    "# plt.xlim(0, .1)\n",
    "# plt.hist(p_A_samples, histtype='stepfilled', bins=25, alpha=0.85,\n",
    "#          label=\"posterior of $p_A$\", color=\"#A60628\", normed=True)\n",
    "# plt.vlines(true_p_A, 0, 80, linestyle=\"--\", label=\"true $p_A$ (unknown)\")\n",
    "# plt.legend(loc=\"upper right\")\n",
    "# plt.title(\"Posterior distributions of $p_A$, $p_B$, and delta unknowns\")\n",
    "\n",
    "# ax = plt.subplot(312)\n",
    "\n",
    "# plt.xlim(0, .1)\n",
    "# plt.hist(p_B_samples, histtype='stepfilled', bins=25, alpha=0.85,\n",
    "#          label=\"posterior of $p_B$\", color=\"#467821\", normed=True)\n",
    "# plt.vlines(true_p_B, 0, 80, linestyle=\"--\", label=\"true $p_B$ (unknown)\")\n",
    "# plt.legend(loc=\"upper right\")\n",
    "\n",
    "# ax = plt.subplot(313)\n",
    "# plt.hist(delta_samples, histtype='stepfilled', bins=30, alpha=0.85,\n",
    "#          label=\"posterior of delta\", color=\"#7A68A6\", normed=True)\n",
    "# plt.vlines(true_p_A - true_p_B, 0, 60, linestyle=\"--\",\n",
    "#            label=\"true delta (unknown)\")\n",
    "# plt.vlines(0, 0, 60, color=\"black\", alpha=0.2)\n",
    "# plt.legend(loc=\"upper right\");"
   ]
  },
  {
   "cell_type": "code",
   "execution_count": null,
   "metadata": {
    "collapsed": false
   },
   "outputs": [],
   "source": [
    "hidden_prob = bayes['cnty_obesity_pct'].values\n",
    "discharges = Discharges(hidden_prob)\n",
    "bayesian_strat = BayesianStrategy(discharges)\n",
    "\n",
    "draw_samples = [1, 1, 3, 10, 10, 25, 50, 100, 200, 300]\n",
    "\n",
    "for j, i in enumerate(draw_samples):\n",
    "    plt.subplot(5, 2, j + 1)\n",
    "    bayesian_strat.sample_discharges(i)\n",
    "    plot_priors(bayesian_strat, hidden_prob)\n",
    "    plt.legend(labels=['Prob of obesity: Rural','Majority_Urban'])#['home','rehab','LTC','nursing','psych']\n",
    "    plt.autoscale(tight=True)\n",
    "plt.tight_layout()"
   ]
  },
  {
   "cell_type": "code",
   "execution_count": null,
   "metadata": {
    "collapsed": false
   },
   "outputs": [],
   "source": [
    "hidden_prob = bayes['cnty_dm_pct'].values\n",
    "discharges = Discharges(hidden_prob)\n",
    "bayesian_strat = BayesianStrategy(discharges)\n",
    "\n",
    "draw_samples = [1, 1, 3, 10, 10, 25, 50, 100, 200, 300]\n",
    "\n",
    "for j, i in enumerate(draw_samples):\n",
    "    plt.subplot(5, 2, j + 1)\n",
    "    bayesian_strat.sample_discharges(i)\n",
    "    plot_priors(bayesian_strat, hidden_prob)\n",
    "    plt.legend(labels=['Majority_Rural','Majority_Urban'])#['home','rehab','LTC','nursing','psych']\n",
    "    plt.autoscale(tight=True)\n",
    "plt.tight_layout()"
   ]
  },
  {
   "cell_type": "code",
   "execution_count": null,
   "metadata": {
    "collapsed": false
   },
   "outputs": [],
   "source": [
    "hidden_prob = bayes['cnty_inactive_pct'].values\n",
    "discharges = Discharges(hidden_prob)\n",
    "bayesian_strat = BayesianStrategy(discharges)\n",
    "\n",
    "draw_samples = [1, 1, 3, 10, 10, 25, 50, 100, 200, 300]\n",
    "\n",
    "for j, i in enumerate(draw_samples):\n",
    "    plt.subplot(5, 2, j + 1)\n",
    "    bayesian_strat.sample_discharges(i)\n",
    "    plot_priors(bayesian_strat, hidden_prob)\n",
    "    plt.legend(labels=['Majority_Rural','Majority_Urban'])#['home','rehab','LTC','nursing','psych']\n",
    "    plt.autoscale(tight=True)\n",
    "plt.tight_layout()"
   ]
  },
  {
   "cell_type": "code",
   "execution_count": null,
   "metadata": {
    "collapsed": false
   },
   "outputs": [],
   "source": [
    "\n",
    "hidden_prob = bayes['p_hs_edatt'].values\n",
    "discharges = Discharges(hidden_prob)\n",
    "bayesian_strat = BayesianStrategy(discharges)\n",
    "\n",
    "draw_samples = [1, 1, 3, 10, 10, 25, 50, 100, 200, 300]\n",
    "\n",
    "for j, i in enumerate(draw_samples):\n",
    "    plt.subplot(5, 2, j + 1)\n",
    "    bayesian_strat.sample_discharges(i)\n",
    "    plot_priors(bayesian_strat, hidden_prob)\n",
    "    plt.legend(labels=['Majority_Rural','Majority_Urban'])#['home','rehab','LTC','nursing','psych']\n",
    "    plt.autoscale(tight=True)\n",
    "plt.tight_layout()"
   ]
  },
  {
   "cell_type": "code",
   "execution_count": null,
   "metadata": {
    "collapsed": true
   },
   "outputs": [],
   "source": []
  }
 ],
 "metadata": {
  "anaconda-cloud": {},
  "kernelspec": {
   "display_name": "Python [Root]",
   "language": "python",
   "name": "Python [Root]"
  },
  "language_info": {
   "codemirror_mode": {
    "name": "ipython",
    "version": 2
   },
   "file_extension": ".py",
   "mimetype": "text/x-python",
   "name": "python",
   "nbconvert_exporter": "python",
   "pygments_lexer": "ipython2",
   "version": "2.7.11"
  }
 },
 "nbformat": 4,
 "nbformat_minor": 0
}
