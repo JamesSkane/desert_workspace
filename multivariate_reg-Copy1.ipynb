{
 "cells": [
  {
   "cell_type": "markdown",
   "metadata": {},
   "source": [
    "# Regression & Bayesian Analysis with Food Deserts\n",
    "\n",
    "## Abstract: \n",
    "\n",
    "### Motivation:\n",
    "The insurance industry has played a major role in shaping the United State's healthcare system. Reimbursements, until recent years, were based on the acuity care, which promoted a sytem that focused primarily an acute illnesses that neccesitated hospitalization. This led to a \"sickcare\" system, that addressed complications of chronic disease, rather than promoting wellness and prevention. \n",
    "\n",
    "In an effort to address high healthcare associated costs, the healthcare enterprise is shifting their focus to prevention. Obesity, a major contributing factor of preventable chronic disease, has become one of the primary targets of recent healthcare reforms. That said, many efforts have been made to address areas of low food access, and the detrimental health effects caused by \"Food Deserts\". \n",
    "\n",
    "### Goals & Analysis Questions:\n",
    "1. Explore factors that relate to \"Food Deserts\" in California:\n",
    " - Determine the demographics and locations of \"Food Desert\" counties.\n",
    " - Determine the demographics and locations of \"Non-Food Desert\" counties.\n",
    "\n",
    "2. Assess the relationship between \"Food Deserts\" and community health status:\n",
    " - Do \"Food Desert\" counties have a higher prevelance of chronic disease?\n",
    " - Are \"Food Desert\" county residents less physically active?\n",
    " - Do \"Food Desert\" counties have a higher prevelance of preventable illnesses?\n",
    "\n",
    " \n",
    "3. Determine whether \"Food Desert\" counties are also \"Healthcare Deserts\":\n",
    " - Do \"Food Desert\" counties have less access to healthcare services?\n",
    " - Do \"Food Desert\" counties have higher hospital readmission/mortality rates?\n",
    " - Do \"Food Desert\" counties have a higher rates of Opiod Rx's?\n",
    "\n",
    "\n",
    "### Hypotheses:\n",
    "1. Social factors such as lower education achievement, and employment rates are correlated with the number of food deserts within a county. Demographic factors such as age, and ethnic diversity are correlated with the number of food deserts present within a county.\n",
    "\n",
    "2. \"Food Desert\" counties have poorer community health:\n",
    "    * \"Food Desert\" counties have higher rates of chronic disease.\n",
    "    * \"Food Desert\" counties have higher rates of preventable illnesess.\n",
    "    * \"Food Desert\" counties have lower rates of physical activity.\n",
    "    * \"Food Desert\" counties have higher rates of Opiod Rx's.\n",
    "   \n",
    "3. \"Food Desert\" counties are also \"Healthcare Deserts\":\n",
    "    * \"Food Desert\" counties have less access to outpatient healthcare services.\n",
    "    * \"Food Desert\" counties have fewer hospitals.\n",
    "    * \"Food Desert\" counties have higher hospital readmission/mortality rates. \n",
    "\n",
    "\n",
    "### Conclusions:\n",
    "\n",
    "... TBD ... \n",
    "\n",
    "#### \"Food Desert\" counties have poorer community health:\n",
    "A positive correlation exists between the number county food deserts and the following explanatory variables:\n",
    "- county level diabetes rates (age-adjusted)\n",
    "- county level inactive rates (age-adjusted)\n",
    "- county level sexual transmitted disease totals\n",
    "\n",
    "However no correlation was seen between the number of county food deserts and the following explanatory variables: \n",
    "- county level obesity rates (age-adjusted)\n",
    "- county level incidence of illnesses for which vaccinations exist\n",
    "- opiod prescriptions per 100000 residents\n",
    "\n",
    "3. \"Food Desert\" counties are also \"Healthcare Deserts\":\n"
   ]
  },
  {
   "cell_type": "code",
   "execution_count": 48,
   "metadata": {
    "collapsed": true
   },
   "outputs": [],
   "source": [
    "from scipy.stats.stats import pearsonr\n",
    "import numpy as np\n",
    "np.set_printoptions(precision=4, suppress=True)\n",
    "\n",
    "import pandas as pd \n",
    "import statsmodels.api as sm\n",
    "import statsmodels.formula.api as smf\n",
    "from sklearn import linear_model\n",
    "from IPython.core.pylabtools import figsize\n",
    "import scipy.stats as stats"
   ]
  },
  {
   "cell_type": "code",
   "execution_count": 49,
   "metadata": {
    "collapsed": true
   },
   "outputs": [],
   "source": [
    "%matplotlib inline\n",
    "import matplotlib.pyplot as plt\n",
    "import seaborn as sns"
   ]
  },
  {
   "cell_type": "code",
   "execution_count": 92,
   "metadata": {
    "collapsed": false
   },
   "outputs": [
    {
     "data": {
      "text/html": [
       "<div>\n",
       "<table border=\"1\" class=\"dataframe\">\n",
       "  <thead>\n",
       "    <tr style=\"text-align: right;\">\n",
       "      <th></th>\n",
       "      <th>County</th>\n",
       "      <th>POP2010</th>\n",
       "      <th>food_deserts</th>\n",
       "      <th>n_tracts</th>\n",
       "      <th>urban_des</th>\n",
       "      <th>rural_des</th>\n",
       "      <th>n_urban</th>\n",
       "      <th>n_rural</th>\n",
       "      <th>des_percent</th>\n",
       "      <th>perc_effected</th>\n",
       "      <th>...</th>\n",
       "      <th>varicella_hospitalizations</th>\n",
       "      <th>Salmonellosis</th>\n",
       "      <th>opiods_rx_1000</th>\n",
       "      <th>opiods_greater_than_stateavg</th>\n",
       "      <th>MILK_PRICE10</th>\n",
       "      <th>SODA_PRICE10</th>\n",
       "      <th>MILK_SODA_PRICE10</th>\n",
       "      <th>PCH_FFR_07_12</th>\n",
       "      <th>FFR07</th>\n",
       "      <th>FFR12</th>\n",
       "    </tr>\n",
       "  </thead>\n",
       "  <tbody>\n",
       "    <tr>\n",
       "      <th>0</th>\n",
       "      <td>Alameda</td>\n",
       "      <td>1510271</td>\n",
       "      <td>15</td>\n",
       "      <td>360</td>\n",
       "      <td>15.0</td>\n",
       "      <td>0.0</td>\n",
       "      <td>354</td>\n",
       "      <td>6</td>\n",
       "      <td>0.041667</td>\n",
       "      <td>0.018032</td>\n",
       "      <td>...</td>\n",
       "      <td>0.132</td>\n",
       "      <td>16.978</td>\n",
       "      <td>557.20</td>\n",
       "      <td>0</td>\n",
       "      <td>1.122215</td>\n",
       "      <td>1.164422</td>\n",
       "      <td>0.891575</td>\n",
       "      <td>8.902878</td>\n",
       "      <td>1112.0</td>\n",
       "      <td>1211</td>\n",
       "    </tr>\n",
       "    <tr>\n",
       "      <th>1</th>\n",
       "      <td>Alpine</td>\n",
       "      <td>1175</td>\n",
       "      <td>0</td>\n",
       "      <td>1</td>\n",
       "      <td>0.0</td>\n",
       "      <td>0.0</td>\n",
       "      <td>0</td>\n",
       "      <td>1</td>\n",
       "      <td>0.000000</td>\n",
       "      <td>0.266288</td>\n",
       "      <td>...</td>\n",
       "      <td>0.000</td>\n",
       "      <td>0.000</td>\n",
       "      <td>578.68</td>\n",
       "      <td>0</td>\n",
       "      <td>1.032918</td>\n",
       "      <td>1.089488</td>\n",
       "      <td>0.877073</td>\n",
       "      <td>-50.000000</td>\n",
       "      <td>2.0</td>\n",
       "      <td>1</td>\n",
       "    </tr>\n",
       "    <tr>\n",
       "      <th>2</th>\n",
       "      <td>Amador</td>\n",
       "      <td>38091</td>\n",
       "      <td>0</td>\n",
       "      <td>9</td>\n",
       "      <td>0.0</td>\n",
       "      <td>0.0</td>\n",
       "      <td>0</td>\n",
       "      <td>9</td>\n",
       "      <td>0.000000</td>\n",
       "      <td>0.149514</td>\n",
       "      <td>...</td>\n",
       "      <td>0.000</td>\n",
       "      <td>7.923</td>\n",
       "      <td>1244.76</td>\n",
       "      <td>1</td>\n",
       "      <td>1.032918</td>\n",
       "      <td>1.089488</td>\n",
       "      <td>0.877073</td>\n",
       "      <td>-5.555556</td>\n",
       "      <td>18.0</td>\n",
       "      <td>17</td>\n",
       "    </tr>\n",
       "    <tr>\n",
       "      <th>3</th>\n",
       "      <td>Butte</td>\n",
       "      <td>220000</td>\n",
       "      <td>14</td>\n",
       "      <td>51</td>\n",
       "      <td>13.0</td>\n",
       "      <td>1.0</td>\n",
       "      <td>38</td>\n",
       "      <td>13</td>\n",
       "      <td>0.274510</td>\n",
       "      <td>0.145583</td>\n",
       "      <td>...</td>\n",
       "      <td>0.455</td>\n",
       "      <td>25.913</td>\n",
       "      <td>1389.20</td>\n",
       "      <td>1</td>\n",
       "      <td>0.996443</td>\n",
       "      <td>1.130546</td>\n",
       "      <td>0.815374</td>\n",
       "      <td>2.684564</td>\n",
       "      <td>149.0</td>\n",
       "      <td>153</td>\n",
       "    </tr>\n",
       "    <tr>\n",
       "      <th>4</th>\n",
       "      <td>Calaveras</td>\n",
       "      <td>45578</td>\n",
       "      <td>0</td>\n",
       "      <td>10</td>\n",
       "      <td>0.0</td>\n",
       "      <td>0.0</td>\n",
       "      <td>2</td>\n",
       "      <td>8</td>\n",
       "      <td>0.000000</td>\n",
       "      <td>0.203345</td>\n",
       "      <td>...</td>\n",
       "      <td>0.000</td>\n",
       "      <td>8.800</td>\n",
       "      <td>1068.98</td>\n",
       "      <td>1</td>\n",
       "      <td>1.032918</td>\n",
       "      <td>1.089488</td>\n",
       "      <td>0.877073</td>\n",
       "      <td>-7.407407</td>\n",
       "      <td>27.0</td>\n",
       "      <td>25</td>\n",
       "    </tr>\n",
       "  </tbody>\n",
       "</table>\n",
       "<p>5 rows × 74 columns</p>\n",
       "</div>"
      ],
      "text/plain": [
       "      County  POP2010  food_deserts  n_tracts  urban_des  rural_des  n_urban  \\\n",
       "0    Alameda  1510271            15       360       15.0        0.0      354   \n",
       "1     Alpine     1175             0         1        0.0        0.0        0   \n",
       "2     Amador    38091             0         9        0.0        0.0        0   \n",
       "3      Butte   220000            14        51       13.0        1.0       38   \n",
       "4  Calaveras    45578             0        10        0.0        0.0        2   \n",
       "\n",
       "   n_rural  des_percent  perc_effected  ...    varicella_hospitalizations  \\\n",
       "0        6     0.041667       0.018032  ...                         0.132   \n",
       "1        1     0.000000       0.266288  ...                         0.000   \n",
       "2        9     0.000000       0.149514  ...                         0.000   \n",
       "3       13     0.274510       0.145583  ...                         0.455   \n",
       "4        8     0.000000       0.203345  ...                         0.000   \n",
       "\n",
       "   Salmonellosis  opiods_rx_1000  opiods_greater_than_stateavg  MILK_PRICE10  \\\n",
       "0         16.978          557.20                             0      1.122215   \n",
       "1          0.000          578.68                             0      1.032918   \n",
       "2          7.923         1244.76                             1      1.032918   \n",
       "3         25.913         1389.20                             1      0.996443   \n",
       "4          8.800         1068.98                             1      1.032918   \n",
       "\n",
       "   SODA_PRICE10  MILK_SODA_PRICE10  PCH_FFR_07_12   FFR07  FFR12  \n",
       "0      1.164422           0.891575       8.902878  1112.0   1211  \n",
       "1      1.089488           0.877073     -50.000000     2.0      1  \n",
       "2      1.089488           0.877073      -5.555556    18.0     17  \n",
       "3      1.130546           0.815374       2.684564   149.0    153  \n",
       "4      1.089488           0.877073      -7.407407    27.0     25  \n",
       "\n",
       "[5 rows x 74 columns]"
      ]
     },
     "execution_count": 92,
     "metadata": {},
     "output_type": "execute_result"
    }
   ],
   "source": [
    "df = pd.read_csv('/Users/desert/desert_workspace/desert_data/fd_data.csv')\n",
    "df = df.drop(['Unnamed: 0','State'], axis=1)\n",
    "df=df.fillna(0)\n",
    "df.rename(columns={'Influenza Death (<65 years of age)':'senior_flu_deaths'}, inplace=True)\n",
    "df.rename(columns={'Varicella Hospitalizations':'varicella_hospitalizations'}, inplace=True)\n",
    "df.head()"
   ]
  },
  {
   "cell_type": "code",
   "execution_count": 93,
   "metadata": {
    "collapsed": false
   },
   "outputs": [],
   "source": [
    "#print df.columns.tolist()\n",
    "\n",
    "def relative_population_scaler(x_feature):\n",
    "    county_pop = df['POP2010']\n",
    "    state_pop = df['POP2010'].sum()\n",
    "    normalized_x_feature = (county_pop / state_pop) * df[x_feature]\n",
    "    return normalized_x_feature\n",
    "\n",
    "df['quant'] = np.nan\n",
    "\n",
    "for q in [0.75, 0.5, 0.25]:\n",
    "    df.loc[(df.POP2010 <= df.POP2010.quantile(q + 0.25)) & (df.POP2010 > df.POP2010.quantile(q)), 'quant'] = q\n",
    "\n",
    "df.quant.fillna(0.0, inplace=True)\n"
   ]
  },
  {
   "cell_type": "code",
   "execution_count": 94,
   "metadata": {
    "collapsed": false
   },
   "outputs": [
    {
     "name": "stderr",
     "output_type": "stream",
     "text": [
      "/Users/desert/anaconda/envs/linreg/lib/python2.7/site-packages/sklearn/utils/validation.py:420: DataConversionWarning: Data with input dtype int64 was converted to float64 by MinMaxScaler.\n",
      "  warnings.warn(msg, DataConversionWarning)\n"
     ]
    }
   ],
   "source": [
    "from sklearn.preprocessing import MinMaxScaler\n",
    "mms = MinMaxScaler()\n",
    "df['POP2010'] = mms.fit_transform(df['POP2010'])"
   ]
  },
  {
   "cell_type": "code",
   "execution_count": 95,
   "metadata": {
    "collapsed": false
   },
   "outputs": [],
   "source": [
    "ex = ['urban_des', 'rural_des', 'cnty_obesity_pct','LowIncomeTracts', 'pop_effected','cnty_dm_pct','cnty_inactive_pct','Adolescent_births', 'MILK_SODA_PRICE10', 'FFR12']\n",
    "\n",
    "targets = ['food_deserts','pop_effected','des_percent']\n",
    "    \n",
    "base = ['County','n_tracts', 'n_urban','n_rural', 'LowIncomeTracts', 'POP2010']\n",
    "#base = ['County','n_tracts', 'n_urban', 'POP2010']\n",
    "\n",
    "demo = [ 'PCT_HSPNC','PCT_WHITE','PCT_BLACK', 'PCT_ASIAN', 'PCT_AMIND_ESK', 'PCT_ISLANDER', 'PCT_MULTI', 'PCT_OTHER', 'PCT_65OVER', 'PCT_18_64', 'PCT_UNDR18', 'PCT_UNDER5']\n",
    "age = ['PCT_65OVER', 'PCT_18_64', 'PCT_UNDR18', 'PCT_UNDER5']\n",
    "race = [ 'PCT_HSPNC','PCT_WHITE','PCT_BLACK', 'PCT_ASIAN', 'PCT_AMIND_ESK', 'PCT_ISLANDER', 'PCT_MULTI', 'PCT_OTHER']\n",
    "\n",
    "community_health = [ 'p_hs_edatt','unemployment_rate','opiods_rx_1000','cnty_obesity_pct_adj','ABR','FFR07','cnty_dm_pct_adj','cnty_inactive_pct_adj']\n",
    "\n",
    "vaccine = ['Tuberculosis', 'senior_flu_deaths', 'Measles', 'Mumps', 'Pertussis', 'Rubella', 'varicella_hospitalizations']\n",
    "\n",
    "std = ['Chlamydia','Gonorrhea','HIV']\n",
    "\n",
    "social = ['p_hs_edatt','low_vehicle_tracts','total_housing_units','pop_in_group_housing','unemployment_rate','MILK_PRICE10','SODA_PRICE10','MILK_SODA_PRICE10','PCH_FFR_07_12','FFR07','FFR12']\n",
    "\n",
    "access = ['PC_PHYS_R','DENTIST_R','PSYCH_R', 'n_hospitals']\n",
    "\n",
    "hosp_mort = [ 'mort_30_ami','mort_30_cabg','mort_30_copd','mort_30_hf','mort_30_pn', 'mort_30_stk']\n",
    "hosp_readmits = ['readm_30_ami', 'readm_30_cabg', 'readm_30_copd','readm_30_hf','readm_30_hip_knee','readm_30_hosp_wide','readm_30_pn','readm_30_stk']\n"
   ]
  },
  {
   "cell_type": "markdown",
   "metadata": {},
   "source": [
    "\"Food Desert\" counties have poorer community health:  \n",
    "* \"Food Desert\" counties have higher rates of chronic disease.\n",
    "* \"Food Desert\" counties have higher rates of preventable illnesess.\n",
    "* \"Food Desert\" counties have lower rates of physical activity."
   ]
  },
  {
   "cell_type": "code",
   "execution_count": 96,
   "metadata": {
    "collapsed": false
   },
   "outputs": [
    {
     "data": {
      "image/png": "[encoded data removed]",
      "text/plain": [
       "<matplotlib.figure.Figure at 0x11c8ea890>"
      ]
     },
     "metadata": {},
     "output_type": "display_data"
    }
   ],
   "source": [
    "df['std']=df[std].sum(axis=1)\n",
    "df['vaccine_illness'] = df[vaccine].sum(axis=1)\n",
    "df['30_readmits'] = df[hosp_readmits].sum(axis=1) \n",
    "df['hosp_mort'] = df[hosp_mort].sum(axis=1) / 100\n",
    "\n",
    "def nonwhite(x):\n",
    "    return 100 - x\n",
    "\n",
    "df['minority'] = df['PCT_WHITE'].apply(nonwhite)\n",
    "\n",
    "df=df.drop(race+hosp_mort+hosp_readmits+ex+std+vaccine+race+['PCT_18_64'],axis=1)\n",
    "\n",
    "corrmat = df.corr()\n",
    "\n",
    "# Set up the matplotlib figure\n",
    "f, ax = plt.subplots(figsize=(16, 12))\n",
    "\n",
    "# Draw the heatmap using seaborn, and add a title to the plot\n",
    "sns.heatmap(corrmat, vmax=.8, square=True)\n",
    "ax.set_title('CA Food Desert Data Correlations')\n",
    "f.tight_layout()"
   ]
  },
  {
   "cell_type": "code",
   "execution_count": 97,
   "metadata": {
    "collapsed": false
   },
   "outputs": [
    {
     "data": {
      "image/png": "[encoded data removed]",
      "text/plain": [
       "<matplotlib.figure.Figure at 0x1196c1f50>"
      ]
     },
     "metadata": {},
     "output_type": "display_data"
    }
   ],
   "source": [
    "# corrmat = df.corr()\n",
    "\n",
    "# # Set up the matplotlib figure\n",
    "# f, ax = plt.subplots(figsize=(16, 12))\n",
    "\n",
    "# # Draw the heatmap using seaborn, and add a title to the plot\n",
    "# sns.heatmap(corrmat, vmax=.8, square=True)\n",
    "# ax.set_title('CA Food Desert Data Correlations')\n",
    "# f.tight_layout()\n",
    "# calculate the correlation matrix\n",
    "corr_dataframe = df.corr()\n",
    "\n",
    "# compute hierarchical cluster on both rows and columns for correlation matrix and plot heatmap \n",
    "def corr_heatmap(corr_dataframe):\n",
    "    import scipy.cluster.hierarchy as sch\n",
    "    \n",
    "    corr_matrix = np.array(corr_dataframe)\n",
    "    col_names = corr_dataframe.columns\n",
    "    \n",
    "    Y = sch.linkage(corr_matrix, 'single', 'correlation')\n",
    "    Z = sch.dendrogram(Y, color_threshold=0, no_plot=True)['leaves']\n",
    "    corr_matrix = corr_matrix[Z, :]\n",
    "    corr_matrix = corr_matrix[:, Z]\n",
    "    col_names = col_names[Z]\n",
    "    im = plt.imshow(corr_matrix, interpolation='nearest', aspect='auto', cmap='bwr')\n",
    "    plt.colorbar()\n",
    "    plt.xticks(range(corr_matrix.shape[0]), col_names, rotation='vertical', fontsize=4)\n",
    "    plt.yticks(range(corr_matrix.shape[0]), col_names[::-1], fontsize=4)\n",
    "    \n",
    "# plot\n",
    "corr_heatmap(corr_dataframe)"
   ]
  },
  {
   "cell_type": "code",
   "execution_count": 98,
   "metadata": {
    "collapsed": false
   },
   "outputs": [
    {
     "name": "stdout",
     "output_type": "stream",
     "text": [
      "Removed predictors (in order): \n",
      "\n",
      "n_urban\n",
      "total_housing_units\n",
      "FFR07\n",
      "n_tracts\n",
      "n_hospitals\n",
      "low_vehicle_tracts\n",
      "pop_in_group_housing\n",
      "PCT_UNDER5\n",
      "hosp_mort\n"
     ]
    },
    {
     "data": {
      "image/png": "[encoded data removed]",
      "text/plain": [
       "<matplotlib.figure.Figure at 0x11ac1c190>"
      ]
     },
     "metadata": {},
     "output_type": "display_data"
    }
   ],
   "source": [
    "def remove_high_corr(corr_dataframe, thresh = 0.9):\n",
    "    '''remove predictors with high pairwise correlation'''\n",
    "    abs_corr = np.abs(corr_dataframe).as_matrix() # absolute correlation matrix\n",
    "    col_names = list(corr_dataframe.columns)\n",
    "    \n",
    "    # set up diagonal to 0\n",
    "    np.fill_diagonal(abs_corr, 0)\n",
    "    \n",
    "    print \"Removed predictors (in order): \\n\"\n",
    "    while np.max(abs_corr) >= thresh:\n",
    "        i, j = np.unravel_index(abs_corr.argmax(), abs_corr.shape) # find maximum element\n",
    "        # print abs_corr[i, j]\n",
    "        rdx = which_to_remove(i, j, abs_corr)\n",
    "        # remove corresponding predictor\n",
    "        print col_names.pop(rdx)\n",
    "        abs_corr = np.delete(abs_corr, rdx, 0)\n",
    "        abs_corr = np.delete(abs_corr, rdx, 1)\n",
    "        \n",
    "    return col_names\n",
    "\n",
    "def which_to_remove(i, j, abs_corr):\n",
    "    '''compare two predictors and remove the one with higher abs correlation with other predictors'''\n",
    "    i_absmean = np.mean(abs_corr[i, np.where(abs_corr[i,:] == 0)])\n",
    "    j_absmean = np.mean(abs_corr[j, np.where(abs_corr[j,:] == 0)])\n",
    "    \n",
    "    return i if i_absmean > j_absmean else j\n",
    "\n",
    "# remained predictors\n",
    "col_remained = remove_high_corr(corr_dataframe)\n",
    "data=df[col_remained]\n",
    "corr_dataframe = data.corr()\n",
    "\n",
    "corr_heatmap(corr_dataframe)"
   ]
  },
  {
   "cell_type": "code",
   "execution_count": 99,
   "metadata": {
    "collapsed": false
   },
   "outputs": [
    {
     "name": "stdout",
     "output_type": "stream",
     "text": [
      "Correlation from Scipy pearsonr estimation: 0.02549\n"
     ]
    }
   ],
   "source": [
    "def covariance(variable_1, variable_2, bias=0):\n",
    "    observations = float(len(variable_1))\n",
    "    return np.sum((variable_1 - np.mean(variable_1)) * (variable_2 - np.mean(variable_2)))/(observations-min(bias,1))\n",
    "\n",
    "def standardize(variable):\n",
    "    return (variable - np.mean(variable)) / np.std(variable)\n",
    "\n",
    "def correlation(var1,var2,bias=0):\n",
    "    return covariance(standardize(var1), standardize(var2),bias)\n",
    "\n",
    "print ('Correlation from Scipy pearsonr estimation: %0.5f' % pearsonr(df['unemployment_rate'], df['food_deserts'])[0])"
   ]
  },
  {
   "cell_type": "code",
   "execution_count": 100,
   "metadata": {
    "collapsed": false
   },
   "outputs": [
    {
     "data": {
      "text/html": [
       "<table class=\"simpletable\">\n",
       "<caption>OLS Regression Results</caption>\n",
       "<tr>\n",
       "  <th>Dep. Variable:</th>      <td>food_deserts</td>   <th>  R-squared:         </th> <td>   0.817</td>\n",
       "</tr>\n",
       "<tr>\n",
       "  <th>Model:</th>                   <td>OLS</td>       <th>  Adj. R-squared:    </th> <td>   0.807</td>\n",
       "</tr>\n",
       "<tr>\n",
       "  <th>Method:</th>             <td>Least Squares</td>  <th>  F-statistic:       </th> <td>   80.27</td>\n",
       "</tr>\n",
       "<tr>\n",
       "  <th>Date:</th>             <td>Sun, 07 Aug 2016</td> <th>  Prob (F-statistic):</th> <td>6.74e-20</td>\n",
       "</tr>\n",
       "<tr>\n",
       "  <th>Time:</th>                 <td>01:51:42</td>     <th>  Log-Likelihood:    </th> <td> -185.49</td>\n",
       "</tr>\n",
       "<tr>\n",
       "  <th>No. Observations:</th>      <td>    58</td>      <th>  AIC:               </th> <td>   379.0</td>\n",
       "</tr>\n",
       "<tr>\n",
       "  <th>Df Residuals:</th>          <td>    54</td>      <th>  BIC:               </th> <td>   387.2</td>\n",
       "</tr>\n",
       "<tr>\n",
       "  <th>Df Model:</th>              <td>     3</td>      <th>                     </th>     <td> </td>   \n",
       "</tr>\n",
       "<tr>\n",
       "  <th>Covariance Type:</th>      <td>nonrobust</td>    <th>                     </th>     <td> </td>   \n",
       "</tr>\n",
       "</table>\n",
       "<table class=\"simpletable\">\n",
       "<tr>\n",
       "         <td></td>            <th>coef</th>     <th>std err</th>      <th>t</th>      <th>P>|t|</th> <th>[95.0% Conf. Int.]</th> \n",
       "</tr>\n",
       "<tr>\n",
       "  <th>Intercept</th>       <td>  -23.0486</td> <td>    6.228</td> <td>   -3.701</td> <td> 0.001</td> <td>  -35.535   -10.563</td>\n",
       "</tr>\n",
       "<tr>\n",
       "  <th>cnty_dm_pct_adj</th> <td>    2.8524</td> <td>    0.868</td> <td>    3.287</td> <td> 0.002</td> <td>    1.113     4.592</td>\n",
       "</tr>\n",
       "<tr>\n",
       "  <th>n_rural</th>         <td>    0.7798</td> <td>    0.102</td> <td>    7.644</td> <td> 0.000</td> <td>    0.575     0.984</td>\n",
       "</tr>\n",
       "<tr>\n",
       "  <th>n_tracts</th>        <td>    0.0164</td> <td>    0.003</td> <td>    5.481</td> <td> 0.000</td> <td>    0.010     0.022</td>\n",
       "</tr>\n",
       "</table>\n",
       "<table class=\"simpletable\">\n",
       "<tr>\n",
       "  <th>Omnibus:</th>       <td>35.076</td> <th>  Durbin-Watson:     </th> <td>   2.390</td>\n",
       "</tr>\n",
       "<tr>\n",
       "  <th>Prob(Omnibus):</th> <td> 0.000</td> <th>  Jarque-Bera (JB):  </th> <td> 146.183</td>\n",
       "</tr>\n",
       "<tr>\n",
       "  <th>Skew:</th>          <td> 1.513</td> <th>  Prob(JB):          </th> <td>1.81e-32</td>\n",
       "</tr>\n",
       "<tr>\n",
       "  <th>Kurtosis:</th>      <td>10.164</td> <th>  Cond. No.          </th> <td>2.75e+03</td>\n",
       "</tr>\n",
       "</table>"
      ],
      "text/plain": [
       "<class 'statsmodels.iolib.summary.Summary'>\n",
       "\"\"\"\n",
       "                            OLS Regression Results                            \n",
       "==============================================================================\n",
       "Dep. Variable:           food_deserts   R-squared:                       0.817\n",
       "Model:                            OLS   Adj. R-squared:                  0.807\n",
       "Method:                 Least Squares   F-statistic:                     80.27\n",
       "Date:                Sun, 07 Aug 2016   Prob (F-statistic):           6.74e-20\n",
       "Time:                        01:51:42   Log-Likelihood:                -185.49\n",
       "No. Observations:                  58   AIC:                             379.0\n",
       "Df Residuals:                      54   BIC:                             387.2\n",
       "Df Model:                           3                                         \n",
       "Covariance Type:            nonrobust                                         \n",
       "===================================================================================\n",
       "                      coef    std err          t      P>|t|      [95.0% Conf. Int.]\n",
       "-----------------------------------------------------------------------------------\n",
       "Intercept         -23.0486      6.228     -3.701      0.001       -35.535   -10.563\n",
       "cnty_dm_pct_adj     2.8524      0.868      3.287      0.002         1.113     4.592\n",
       "n_rural             0.7798      0.102      7.644      0.000         0.575     0.984\n",
       "n_tracts            0.0164      0.003      5.481      0.000         0.010     0.022\n",
       "==============================================================================\n",
       "Omnibus:                       35.076   Durbin-Watson:                   2.390\n",
       "Prob(Omnibus):                  0.000   Jarque-Bera (JB):              146.183\n",
       "Skew:                           1.513   Prob(JB):                     1.81e-32\n",
       "Kurtosis:                      10.164   Cond. No.                     2.75e+03\n",
       "==============================================================================\n",
       "\n",
       "Warnings:\n",
       "[1] Standard Errors assume that the covariance matrix of the errors is correctly specified.\n",
       "[2] The condition number is large, 2.75e+03. This might indicate that there are\n",
       "strong multicollinearity or other numerical problems.\n",
       "\"\"\""
      ]
     },
     "execution_count": 100,
     "metadata": {},
     "output_type": "execute_result"
    }
   ],
   "source": [
    "linear_regression = smf.ols(formula='food_deserts ~ cnty_dm_pct_adj+n_rural+n_tracts', data=df)\n",
    "fitted_model = linear_regression.fit()\n",
    "fitted_model.summary()"
   ]
  },
  {
   "cell_type": "code",
   "execution_count": 101,
   "metadata": {
    "collapsed": false
   },
   "outputs": [
    {
     "name": "stdout",
     "output_type": "stream",
     "text": [
      "Intercept         -23.048570\n",
      "cnty_dm_pct_adj     2.852415\n",
      "n_rural             0.779771\n",
      "n_tracts            0.016394\n",
      "dtype: float64\n"
     ]
    }
   ],
   "source": [
    "print (fitted_model.params)\n",
    "betas = np.array(fitted_model.params)\n",
    "fitted_values = fitted_model.predict()"
   ]
  },
  {
   "cell_type": "code",
   "execution_count": 102,
   "metadata": {
    "collapsed": false
   },
   "outputs": [
    {
     "data": {
      "image/png": "[encoded data removed]",
      "text/plain": [
       "<matplotlib.figure.Figure at 0x11c834b90>"
      ]
     },
     "metadata": {},
     "output_type": "display_data"
    }
   ],
   "source": [
    "fig = plt.figure(figsize=(12,8))\n",
    "fig = sm.graphics.plot_regress_exog(fitted_model, \"cnty_dm_pct_adj\", fig=fig)"
   ]
  },
  {
   "cell_type": "code",
   "execution_count": 103,
   "metadata": {
    "collapsed": false
   },
   "outputs": [
    {
     "data": {
      "text/plain": [
       "0.8168373722857392"
      ]
     },
     "execution_count": 103,
     "metadata": {},
     "output_type": "execute_result"
    }
   ],
   "source": [
    "mean_sum_squared_errors = np.sum((df['food_deserts']-df['food_deserts'].mean())**2)\n",
    "regr_sum_squared_errors = np.sum((df['food_deserts']-fitted_values)**2)\n",
    "(mean_sum_squared_errors-regr_sum_squared_errors) / mean_sum_squared_errors"
   ]
  },
  {
   "cell_type": "code",
   "execution_count": 104,
   "metadata": {
    "collapsed": false
   },
   "outputs": [
    {
     "data": {
      "text/html": [
       "<table class=\"simpletable\">\n",
       "<caption>OLS Regression Results</caption>\n",
       "<tr>\n",
       "  <th>Dep. Variable:</th>      <td>food_deserts</td>   <th>  R-squared:         </th> <td>   0.793</td>\n",
       "</tr>\n",
       "<tr>\n",
       "  <th>Model:</th>                   <td>OLS</td>       <th>  Adj. R-squared:    </th> <td>   0.781</td>\n",
       "</tr>\n",
       "<tr>\n",
       "  <th>Method:</th>             <td>Least Squares</td>  <th>  F-statistic:       </th> <td>   68.90</td>\n",
       "</tr>\n",
       "<tr>\n",
       "  <th>Date:</th>             <td>Sun, 07 Aug 2016</td> <th>  Prob (F-statistic):</th> <td>1.84e-18</td>\n",
       "</tr>\n",
       "<tr>\n",
       "  <th>Time:</th>                 <td>01:52:32</td>     <th>  Log-Likelihood:    </th> <td> -189.06</td>\n",
       "</tr>\n",
       "<tr>\n",
       "  <th>No. Observations:</th>      <td>    58</td>      <th>  AIC:               </th> <td>   386.1</td>\n",
       "</tr>\n",
       "<tr>\n",
       "  <th>Df Residuals:</th>          <td>    54</td>      <th>  BIC:               </th> <td>   394.4</td>\n",
       "</tr>\n",
       "<tr>\n",
       "  <th>Df Model:</th>              <td>     3</td>      <th>                     </th>     <td> </td>   \n",
       "</tr>\n",
       "<tr>\n",
       "  <th>Covariance Type:</th>      <td>nonrobust</td>    <th>                     </th>     <td> </td>   \n",
       "</tr>\n",
       "</table>\n",
       "<table class=\"simpletable\">\n",
       "<tr>\n",
       "            <td></td>              <th>coef</th>     <th>std err</th>      <th>t</th>      <th>P>|t|</th> <th>[95.0% Conf. Int.]</th> \n",
       "</tr>\n",
       "<tr>\n",
       "  <th>Intercept</th>            <td>  -13.8622</td> <td>    6.121</td> <td>   -2.265</td> <td> 0.028</td> <td>  -26.134    -1.590</td>\n",
       "</tr>\n",
       "<tr>\n",
       "  <th>cnty_obesity_pct_adj</th> <td>    0.4796</td> <td>    0.264</td> <td>    1.818</td> <td> 0.075</td> <td>   -0.049     1.008</td>\n",
       "</tr>\n",
       "<tr>\n",
       "  <th>n_rural</th>              <td>    0.7840</td> <td>    0.114</td> <td>    6.907</td> <td> 0.000</td> <td>    0.556     1.012</td>\n",
       "</tr>\n",
       "<tr>\n",
       "  <th>n_tracts</th>             <td>    0.0184</td> <td>    0.003</td> <td>    5.497</td> <td> 0.000</td> <td>    0.012     0.025</td>\n",
       "</tr>\n",
       "</table>\n",
       "<table class=\"simpletable\">\n",
       "<tr>\n",
       "  <th>Omnibus:</th>       <td>36.141</td> <th>  Durbin-Watson:     </th> <td>   2.283</td>\n",
       "</tr>\n",
       "<tr>\n",
       "  <th>Prob(Omnibus):</th> <td> 0.000</td> <th>  Jarque-Bera (JB):  </th> <td> 126.223</td>\n",
       "</tr>\n",
       "<tr>\n",
       "  <th>Skew:</th>          <td> 1.676</td> <th>  Prob(JB):          </th> <td>3.90e-28</td>\n",
       "</tr>\n",
       "<tr>\n",
       "  <th>Kurtosis:</th>      <td> 9.403</td> <th>  Cond. No.          </th> <td>2.52e+03</td>\n",
       "</tr>\n",
       "</table>"
      ],
      "text/plain": [
       "<class 'statsmodels.iolib.summary.Summary'>\n",
       "\"\"\"\n",
       "                            OLS Regression Results                            \n",
       "==============================================================================\n",
       "Dep. Variable:           food_deserts   R-squared:                       0.793\n",
       "Model:                            OLS   Adj. R-squared:                  0.781\n",
       "Method:                 Least Squares   F-statistic:                     68.90\n",
       "Date:                Sun, 07 Aug 2016   Prob (F-statistic):           1.84e-18\n",
       "Time:                        01:52:32   Log-Likelihood:                -189.06\n",
       "No. Observations:                  58   AIC:                             386.1\n",
       "Df Residuals:                      54   BIC:                             394.4\n",
       "Df Model:                           3                                         \n",
       "Covariance Type:            nonrobust                                         \n",
       "========================================================================================\n",
       "                           coef    std err          t      P>|t|      [95.0% Conf. Int.]\n",
       "----------------------------------------------------------------------------------------\n",
       "Intercept              -13.8622      6.121     -2.265      0.028       -26.134    -1.590\n",
       "cnty_obesity_pct_adj     0.4796      0.264      1.818      0.075        -0.049     1.008\n",
       "n_rural                  0.7840      0.114      6.907      0.000         0.556     1.012\n",
       "n_tracts                 0.0184      0.003      5.497      0.000         0.012     0.025\n",
       "==============================================================================\n",
       "Omnibus:                       36.141   Durbin-Watson:                   2.283\n",
       "Prob(Omnibus):                  0.000   Jarque-Bera (JB):              126.223\n",
       "Skew:                           1.676   Prob(JB):                     3.90e-28\n",
       "Kurtosis:                       9.403   Cond. No.                     2.52e+03\n",
       "==============================================================================\n",
       "\n",
       "Warnings:\n",
       "[1] Standard Errors assume that the covariance matrix of the errors is correctly specified.\n",
       "[2] The condition number is large, 2.52e+03. This might indicate that there are\n",
       "strong multicollinearity or other numerical problems.\n",
       "\"\"\""
      ]
     },
     "execution_count": 104,
     "metadata": {},
     "output_type": "execute_result"
    }
   ],
   "source": [
    "linear_regression = smf.ols(formula='food_deserts ~ cnty_obesity_pct_adj+n_rural+n_tracts', data=df)\n",
    "fitted_model = linear_regression.fit()\n",
    "fitted_model.summary()"
   ]
  },
  {
   "cell_type": "code",
   "execution_count": 105,
   "metadata": {
    "collapsed": false
   },
   "outputs": [
    {
     "data": {
      "text/html": [
       "<table class=\"simpletable\">\n",
       "<caption>OLS Regression Results</caption>\n",
       "<tr>\n",
       "  <th>Dep. Variable:</th>      <td>food_deserts</td>   <th>  R-squared:         </th> <td>   0.806</td>\n",
       "</tr>\n",
       "<tr>\n",
       "  <th>Model:</th>                   <td>OLS</td>       <th>  Adj. R-squared:    </th> <td>   0.796</td>\n",
       "</tr>\n",
       "<tr>\n",
       "  <th>Method:</th>             <td>Least Squares</td>  <th>  F-statistic:       </th> <td>   74.96</td>\n",
       "</tr>\n",
       "<tr>\n",
       "  <th>Date:</th>             <td>Sun, 07 Aug 2016</td> <th>  Prob (F-statistic):</th> <td>3.00e-19</td>\n",
       "</tr>\n",
       "<tr>\n",
       "  <th>Time:</th>                 <td>01:52:47</td>     <th>  Log-Likelihood:    </th> <td> -187.11</td>\n",
       "</tr>\n",
       "<tr>\n",
       "  <th>No. Observations:</th>      <td>    58</td>      <th>  AIC:               </th> <td>   382.2</td>\n",
       "</tr>\n",
       "<tr>\n",
       "  <th>Df Residuals:</th>          <td>    54</td>      <th>  BIC:               </th> <td>   390.5</td>\n",
       "</tr>\n",
       "<tr>\n",
       "  <th>Df Model:</th>              <td>     3</td>      <th>                     </th>     <td> </td>   \n",
       "</tr>\n",
       "<tr>\n",
       "  <th>Covariance Type:</th>      <td>nonrobust</td>    <th>                     </th>     <td> </td>   \n",
       "</tr>\n",
       "</table>\n",
       "<table class=\"simpletable\">\n",
       "<tr>\n",
       "            <td></td>               <th>coef</th>     <th>std err</th>      <th>t</th>      <th>P>|t|</th> <th>[95.0% Conf. Int.]</th> \n",
       "</tr>\n",
       "<tr>\n",
       "  <th>Intercept</th>             <td>  -16.6304</td> <td>    5.208</td> <td>   -3.193</td> <td> 0.002</td> <td>  -27.073    -6.188</td>\n",
       "</tr>\n",
       "<tr>\n",
       "  <th>cnty_inactive_pct_adj</th> <td>    0.8349</td> <td>    0.309</td> <td>    2.702</td> <td> 0.009</td> <td>    0.215     1.454</td>\n",
       "</tr>\n",
       "<tr>\n",
       "  <th>n_rural</th>               <td>    0.7907</td> <td>    0.105</td> <td>    7.528</td> <td> 0.000</td> <td>    0.580     1.001</td>\n",
       "</tr>\n",
       "<tr>\n",
       "  <th>n_tracts</th>              <td>    0.0172</td> <td>    0.003</td> <td>    5.581</td> <td> 0.000</td> <td>    0.011     0.023</td>\n",
       "</tr>\n",
       "</table>\n",
       "<table class=\"simpletable\">\n",
       "<tr>\n",
       "  <th>Omnibus:</th>       <td>37.009</td> <th>  Durbin-Watson:     </th> <td>   2.190</td>\n",
       "</tr>\n",
       "<tr>\n",
       "  <th>Prob(Omnibus):</th> <td> 0.000</td> <th>  Jarque-Bera (JB):  </th> <td> 130.881</td>\n",
       "</tr>\n",
       "<tr>\n",
       "  <th>Skew:</th>          <td> 1.721</td> <th>  Prob(JB):          </th> <td>3.80e-29</td>\n",
       "</tr>\n",
       "<tr>\n",
       "  <th>Kurtosis:</th>      <td> 9.505</td> <th>  Cond. No.          </th> <td>2.22e+03</td>\n",
       "</tr>\n",
       "</table>"
      ],
      "text/plain": [
       "<class 'statsmodels.iolib.summary.Summary'>\n",
       "\"\"\"\n",
       "                            OLS Regression Results                            \n",
       "==============================================================================\n",
       "Dep. Variable:           food_deserts   R-squared:                       0.806\n",
       "Model:                            OLS   Adj. R-squared:                  0.796\n",
       "Method:                 Least Squares   F-statistic:                     74.96\n",
       "Date:                Sun, 07 Aug 2016   Prob (F-statistic):           3.00e-19\n",
       "Time:                        01:52:47   Log-Likelihood:                -187.11\n",
       "No. Observations:                  58   AIC:                             382.2\n",
       "Df Residuals:                      54   BIC:                             390.5\n",
       "Df Model:                           3                                         \n",
       "Covariance Type:            nonrobust                                         \n",
       "=========================================================================================\n",
       "                            coef    std err          t      P>|t|      [95.0% Conf. Int.]\n",
       "-----------------------------------------------------------------------------------------\n",
       "Intercept               -16.6304      5.208     -3.193      0.002       -27.073    -6.188\n",
       "cnty_inactive_pct_adj     0.8349      0.309      2.702      0.009         0.215     1.454\n",
       "n_rural                   0.7907      0.105      7.528      0.000         0.580     1.001\n",
       "n_tracts                  0.0172      0.003      5.581      0.000         0.011     0.023\n",
       "==============================================================================\n",
       "Omnibus:                       37.009   Durbin-Watson:                   2.190\n",
       "Prob(Omnibus):                  0.000   Jarque-Bera (JB):              130.881\n",
       "Skew:                           1.721   Prob(JB):                     3.80e-29\n",
       "Kurtosis:                       9.505   Cond. No.                     2.22e+03\n",
       "==============================================================================\n",
       "\n",
       "Warnings:\n",
       "[1] Standard Errors assume that the covariance matrix of the errors is correctly specified.\n",
       "[2] The condition number is large, 2.22e+03. This might indicate that there are\n",
       "strong multicollinearity or other numerical problems.\n",
       "\"\"\""
      ]
     },
     "execution_count": 105,
     "metadata": {},
     "output_type": "execute_result"
    }
   ],
   "source": [
    "linear_regression = smf.ols(formula='food_deserts ~ cnty_inactive_pct_adj+n_rural+n_tracts', data=df)\n",
    "fitted_model = linear_regression.fit()\n",
    "fitted_model.summary()"
   ]
  },
  {
   "cell_type": "code",
   "execution_count": 106,
   "metadata": {
    "collapsed": false
   },
   "outputs": [
    {
     "data": {
      "text/plain": [
       "<seaborn.axisgrid.JointGrid at 0x11d0fead0>"
      ]
     },
     "execution_count": 106,
     "metadata": {},
     "output_type": "execute_result"
    },
    {
     "data": {
      "image/png": "[encoded data removed]",
      "text/plain": [
       "<matplotlib.figure.Figure at 0x11d0a07d0>"
      ]
     },
     "metadata": {},
     "output_type": "display_data"
    }
   ],
   "source": [
    "# fig = plt.figure(figsize=(12,8))\n",
    "# fig = sm.graphics.plot_regress_exog(fitted_model, \"cnty_inactive_pct_adj\", fig=fig)\n",
    "sns.jointplot(x='cnty_inactive_pct_adj', y='food_deserts',data=df,kind='reg')"
   ]
  },
  {
   "cell_type": "code",
   "execution_count": 107,
   "metadata": {
    "collapsed": false
   },
   "outputs": [
    {
     "data": {
      "text/plain": [
       "<seaborn.axisgrid.JointGrid at 0x11d0feb50>"
      ]
     },
     "execution_count": 107,
     "metadata": {},
     "output_type": "execute_result"
    },
    {
     "data": {
      "image/png": "[encoded data removed]",
      "text/plain": [
       "<matplotlib.figure.Figure at 0x11b413d50>"
      ]
     },
     "metadata": {},
     "output_type": "display_data"
    },
    {
     "data": {
      "image/png": "[encoded data removed]",
      "text/plain": [
       "<matplotlib.figure.Figure at 0x11d0fe610>"
      ]
     },
     "metadata": {},
     "output_type": "display_data"
    }
   ],
   "source": [
    "sns.jointplot(x='std', y='food_deserts',data=df,kind='reg')\n",
    "sns.jointplot(x='n_rural', y='food_deserts',data=df,kind='reg')"
   ]
  },
  {
   "cell_type": "code",
   "execution_count": 108,
   "metadata": {
    "collapsed": false
   },
   "outputs": [
    {
     "data": {
      "text/html": [
       "<table class=\"simpletable\">\n",
       "<caption>OLS Regression Results</caption>\n",
       "<tr>\n",
       "  <th>Dep. Variable:</th>      <td>food_deserts</td>   <th>  R-squared:         </th> <td>   0.804</td>\n",
       "</tr>\n",
       "<tr>\n",
       "  <th>Model:</th>                   <td>OLS</td>       <th>  Adj. R-squared:    </th> <td>   0.793</td>\n",
       "</tr>\n",
       "<tr>\n",
       "  <th>Method:</th>             <td>Least Squares</td>  <th>  F-statistic:       </th> <td>   73.86</td>\n",
       "</tr>\n",
       "<tr>\n",
       "  <th>Date:</th>             <td>Sun, 07 Aug 2016</td> <th>  Prob (F-statistic):</th> <td>4.13e-19</td>\n",
       "</tr>\n",
       "<tr>\n",
       "  <th>Time:</th>                 <td>01:53:17</td>     <th>  Log-Likelihood:    </th> <td> -187.45</td>\n",
       "</tr>\n",
       "<tr>\n",
       "  <th>No. Observations:</th>      <td>    58</td>      <th>  AIC:               </th> <td>   382.9</td>\n",
       "</tr>\n",
       "<tr>\n",
       "  <th>Df Residuals:</th>          <td>    54</td>      <th>  BIC:               </th> <td>   391.1</td>\n",
       "</tr>\n",
       "<tr>\n",
       "  <th>Df Model:</th>              <td>     3</td>      <th>                     </th>     <td> </td>   \n",
       "</tr>\n",
       "<tr>\n",
       "  <th>Covariance Type:</th>      <td>nonrobust</td>    <th>                     </th>     <td> </td>   \n",
       "</tr>\n",
       "</table>\n",
       "<table class=\"simpletable\">\n",
       "<tr>\n",
       "      <td></td>         <th>coef</th>     <th>std err</th>      <th>t</th>      <th>P>|t|</th> <th>[95.0% Conf. Int.]</th> \n",
       "</tr>\n",
       "<tr>\n",
       "  <th>Intercept</th> <td>   -6.3528</td> <td>    1.851</td> <td>   -3.433</td> <td> 0.001</td> <td>  -10.063    -2.643</td>\n",
       "</tr>\n",
       "<tr>\n",
       "  <th>std</th>       <td>    0.0128</td> <td>    0.005</td> <td>    2.565</td> <td> 0.013</td> <td>    0.003     0.023</td>\n",
       "</tr>\n",
       "<tr>\n",
       "  <th>n_rural</th>   <td>    0.8055</td> <td>    0.105</td> <td>    7.698</td> <td> 0.000</td> <td>    0.596     1.015</td>\n",
       "</tr>\n",
       "<tr>\n",
       "  <th>n_tracts</th>  <td>    0.0145</td> <td>    0.003</td> <td>    4.555</td> <td> 0.000</td> <td>    0.008     0.021</td>\n",
       "</tr>\n",
       "</table>\n",
       "<table class=\"simpletable\">\n",
       "<tr>\n",
       "  <th>Omnibus:</th>       <td>37.877</td> <th>  Durbin-Watson:     </th> <td>   2.158</td>\n",
       "</tr>\n",
       "<tr>\n",
       "  <th>Prob(Omnibus):</th> <td> 0.000</td> <th>  Jarque-Bera (JB):  </th> <td> 167.442</td>\n",
       "</tr>\n",
       "<tr>\n",
       "  <th>Skew:</th>          <td> 1.645</td> <th>  Prob(JB):          </th> <td>4.37e-37</td>\n",
       "</tr>\n",
       "<tr>\n",
       "  <th>Kurtosis:</th>      <td>10.646</td> <th>  Cond. No.          </th> <td>1.01e+03</td>\n",
       "</tr>\n",
       "</table>"
      ],
      "text/plain": [
       "<class 'statsmodels.iolib.summary.Summary'>\n",
       "\"\"\"\n",
       "                            OLS Regression Results                            \n",
       "==============================================================================\n",
       "Dep. Variable:           food_deserts   R-squared:                       0.804\n",
       "Model:                            OLS   Adj. R-squared:                  0.793\n",
       "Method:                 Least Squares   F-statistic:                     73.86\n",
       "Date:                Sun, 07 Aug 2016   Prob (F-statistic):           4.13e-19\n",
       "Time:                        01:53:17   Log-Likelihood:                -187.45\n",
       "No. Observations:                  58   AIC:                             382.9\n",
       "Df Residuals:                      54   BIC:                             391.1\n",
       "Df Model:                           3                                         \n",
       "Covariance Type:            nonrobust                                         \n",
       "==============================================================================\n",
       "                 coef    std err          t      P>|t|      [95.0% Conf. Int.]\n",
       "------------------------------------------------------------------------------\n",
       "Intercept     -6.3528      1.851     -3.433      0.001       -10.063    -2.643\n",
       "std            0.0128      0.005      2.565      0.013         0.003     0.023\n",
       "n_rural        0.8055      0.105      7.698      0.000         0.596     1.015\n",
       "n_tracts       0.0145      0.003      4.555      0.000         0.008     0.021\n",
       "==============================================================================\n",
       "Omnibus:                       37.877   Durbin-Watson:                   2.158\n",
       "Prob(Omnibus):                  0.000   Jarque-Bera (JB):              167.442\n",
       "Skew:                           1.645   Prob(JB):                     4.37e-37\n",
       "Kurtosis:                      10.646   Cond. No.                     1.01e+03\n",
       "==============================================================================\n",
       "\n",
       "Warnings:\n",
       "[1] Standard Errors assume that the covariance matrix of the errors is correctly specified.\n",
       "[2] The condition number is large, 1.01e+03. This might indicate that there are\n",
       "strong multicollinearity or other numerical problems.\n",
       "\"\"\""
      ]
     },
     "execution_count": 108,
     "metadata": {},
     "output_type": "execute_result"
    }
   ],
   "source": [
    "linear_regression = smf.ols(formula='food_deserts ~ std+n_rural+n_tracts', data=df)\n",
    "fitted_model = linear_regression.fit()\n",
    "fitted_model.summary()\n",
    "\n"
   ]
  },
  {
   "cell_type": "code",
   "execution_count": 109,
   "metadata": {
    "collapsed": false
   },
   "outputs": [
    {
     "data": {
      "text/html": [
       "<table class=\"simpletable\">\n",
       "<caption>OLS Regression Results</caption>\n",
       "<tr>\n",
       "  <th>Dep. Variable:</th>      <td>food_deserts</td>   <th>  R-squared:         </th> <td>   0.533</td>\n",
       "</tr>\n",
       "<tr>\n",
       "  <th>Model:</th>                   <td>OLS</td>       <th>  Adj. R-squared:    </th> <td>   0.516</td>\n",
       "</tr>\n",
       "<tr>\n",
       "  <th>Method:</th>             <td>Least Squares</td>  <th>  F-statistic:       </th> <td>   31.44</td>\n",
       "</tr>\n",
       "<tr>\n",
       "  <th>Date:</th>             <td>Sun, 07 Aug 2016</td> <th>  Prob (F-statistic):</th> <td>7.85e-10</td>\n",
       "</tr>\n",
       "<tr>\n",
       "  <th>Time:</th>                 <td>01:53:32</td>     <th>  Log-Likelihood:    </th> <td> -212.61</td>\n",
       "</tr>\n",
       "<tr>\n",
       "  <th>No. Observations:</th>      <td>    58</td>      <th>  AIC:               </th> <td>   431.2</td>\n",
       "</tr>\n",
       "<tr>\n",
       "  <th>Df Residuals:</th>          <td>    55</td>      <th>  BIC:               </th> <td>   437.4</td>\n",
       "</tr>\n",
       "<tr>\n",
       "  <th>Df Model:</th>              <td>     2</td>      <th>                     </th>     <td> </td>   \n",
       "</tr>\n",
       "<tr>\n",
       "  <th>Covariance Type:</th>      <td>nonrobust</td>    <th>                     </th>     <td> </td>   \n",
       "</tr>\n",
       "</table>\n",
       "<table class=\"simpletable\">\n",
       "<tr>\n",
       "         <td></td>           <th>coef</th>     <th>std err</th>      <th>t</th>      <th>P>|t|</th> <th>[95.0% Conf. Int.]</th> \n",
       "</tr>\n",
       "<tr>\n",
       "  <th>Intercept</th>      <td>    9.2741</td> <td>    4.106</td> <td>    2.259</td> <td> 0.028</td> <td>    1.046    17.502</td>\n",
       "</tr>\n",
       "<tr>\n",
       "  <th>opiods_rx_1000</th> <td>   -0.0044</td> <td>    0.004</td> <td>   -1.111</td> <td> 0.271</td> <td>   -0.012     0.004</td>\n",
       "</tr>\n",
       "<tr>\n",
       "  <th>n_tracts</th>       <td>    0.0291</td> <td>    0.004</td> <td>    6.793</td> <td> 0.000</td> <td>    0.020     0.038</td>\n",
       "</tr>\n",
       "</table>\n",
       "<table class=\"simpletable\">\n",
       "<tr>\n",
       "  <th>Omnibus:</th>       <td>60.033</td> <th>  Durbin-Watson:     </th> <td>   1.991</td>\n",
       "</tr>\n",
       "<tr>\n",
       "  <th>Prob(Omnibus):</th> <td> 0.000</td> <th>  Jarque-Bera (JB):  </th> <td> 363.843</td>\n",
       "</tr>\n",
       "<tr>\n",
       "  <th>Skew:</th>          <td> 2.881</td> <th>  Prob(JB):          </th> <td>9.83e-80</td>\n",
       "</tr>\n",
       "<tr>\n",
       "  <th>Kurtosis:</th>      <td>13.833</td> <th>  Cond. No.          </th> <td>3.16e+03</td>\n",
       "</tr>\n",
       "</table>"
      ],
      "text/plain": [
       "<class 'statsmodels.iolib.summary.Summary'>\n",
       "\"\"\"\n",
       "                            OLS Regression Results                            \n",
       "==============================================================================\n",
       "Dep. Variable:           food_deserts   R-squared:                       0.533\n",
       "Model:                            OLS   Adj. R-squared:                  0.516\n",
       "Method:                 Least Squares   F-statistic:                     31.44\n",
       "Date:                Sun, 07 Aug 2016   Prob (F-statistic):           7.85e-10\n",
       "Time:                        01:53:32   Log-Likelihood:                -212.61\n",
       "No. Observations:                  58   AIC:                             431.2\n",
       "Df Residuals:                      55   BIC:                             437.4\n",
       "Df Model:                           2                                         \n",
       "Covariance Type:            nonrobust                                         \n",
       "==================================================================================\n",
       "                     coef    std err          t      P>|t|      [95.0% Conf. Int.]\n",
       "----------------------------------------------------------------------------------\n",
       "Intercept          9.2741      4.106      2.259      0.028         1.046    17.502\n",
       "opiods_rx_1000    -0.0044      0.004     -1.111      0.271        -0.012     0.004\n",
       "n_tracts           0.0291      0.004      6.793      0.000         0.020     0.038\n",
       "==============================================================================\n",
       "Omnibus:                       60.033   Durbin-Watson:                   1.991\n",
       "Prob(Omnibus):                  0.000   Jarque-Bera (JB):              363.843\n",
       "Skew:                           2.881   Prob(JB):                     9.83e-80\n",
       "Kurtosis:                      13.833   Cond. No.                     3.16e+03\n",
       "==============================================================================\n",
       "\n",
       "Warnings:\n",
       "[1] Standard Errors assume that the covariance matrix of the errors is correctly specified.\n",
       "[2] The condition number is large, 3.16e+03. This might indicate that there are\n",
       "strong multicollinearity or other numerical problems.\n",
       "\"\"\""
      ]
     },
     "execution_count": 109,
     "metadata": {},
     "output_type": "execute_result"
    }
   ],
   "source": [
    "linear_regression = smf.ols(formula='food_deserts ~ opiods_rx_1000+n_tracts', data=df)\n",
    "fitted_model = linear_regression.fit()\n",
    "fitted_model.summary()"
   ]
  },
  {
   "cell_type": "code",
   "execution_count": 110,
   "metadata": {
    "collapsed": false
   },
   "outputs": [
    {
     "data": {
      "text/html": [
       "<table class=\"simpletable\">\n",
       "<caption>OLS Regression Results</caption>\n",
       "<tr>\n",
       "  <th>Dep. Variable:</th>      <td>food_deserts</td>   <th>  R-squared:         </th> <td>   0.525</td>\n",
       "</tr>\n",
       "<tr>\n",
       "  <th>Model:</th>                   <td>OLS</td>       <th>  Adj. R-squared:    </th> <td>   0.508</td>\n",
       "</tr>\n",
       "<tr>\n",
       "  <th>Method:</th>             <td>Least Squares</td>  <th>  F-statistic:       </th> <td>   30.43</td>\n",
       "</tr>\n",
       "<tr>\n",
       "  <th>Date:</th>             <td>Sun, 07 Aug 2016</td> <th>  Prob (F-statistic):</th> <td>1.26e-09</td>\n",
       "</tr>\n",
       "<tr>\n",
       "  <th>Time:</th>                 <td>01:54:16</td>     <th>  Log-Likelihood:    </th> <td> -213.11</td>\n",
       "</tr>\n",
       "<tr>\n",
       "  <th>No. Observations:</th>      <td>    58</td>      <th>  AIC:               </th> <td>   432.2</td>\n",
       "</tr>\n",
       "<tr>\n",
       "  <th>Df Residuals:</th>          <td>    55</td>      <th>  BIC:               </th> <td>   438.4</td>\n",
       "</tr>\n",
       "<tr>\n",
       "  <th>Df Model:</th>              <td>     2</td>      <th>                     </th>     <td> </td>   \n",
       "</tr>\n",
       "<tr>\n",
       "  <th>Covariance Type:</th>      <td>nonrobust</td>    <th>                     </th>     <td> </td>   \n",
       "</tr>\n",
       "</table>\n",
       "<table class=\"simpletable\">\n",
       "<tr>\n",
       "         <td></td>            <th>coef</th>     <th>std err</th>      <th>t</th>      <th>P>|t|</th> <th>[95.0% Conf. Int.]</th> \n",
       "</tr>\n",
       "<tr>\n",
       "  <th>Intercept</th>       <td>    5.7374</td> <td>    2.026</td> <td>    2.832</td> <td> 0.006</td> <td>    1.677     9.798</td>\n",
       "</tr>\n",
       "<tr>\n",
       "  <th>vaccine_illness</th> <td>   -0.0218</td> <td>    0.042</td> <td>   -0.516</td> <td> 0.608</td> <td>   -0.107     0.063</td>\n",
       "</tr>\n",
       "<tr>\n",
       "  <th>n_tracts</th>        <td>    0.0308</td> <td>    0.004</td> <td>    7.752</td> <td> 0.000</td> <td>    0.023     0.039</td>\n",
       "</tr>\n",
       "</table>\n",
       "<table class=\"simpletable\">\n",
       "<tr>\n",
       "  <th>Omnibus:</th>       <td>61.622</td> <th>  Durbin-Watson:     </th> <td>   2.050</td>\n",
       "</tr>\n",
       "<tr>\n",
       "  <th>Prob(Omnibus):</th> <td> 0.000</td> <th>  Jarque-Bera (JB):  </th> <td> 382.757</td>\n",
       "</tr>\n",
       "<tr>\n",
       "  <th>Skew:</th>          <td> 2.978</td> <th>  Prob(JB):          </th> <td>7.68e-84</td>\n",
       "</tr>\n",
       "<tr>\n",
       "  <th>Kurtosis:</th>      <td>14.086</td> <th>  Cond. No.          </th> <td>    555.</td>\n",
       "</tr>\n",
       "</table>"
      ],
      "text/plain": [
       "<class 'statsmodels.iolib.summary.Summary'>\n",
       "\"\"\"\n",
       "                            OLS Regression Results                            \n",
       "==============================================================================\n",
       "Dep. Variable:           food_deserts   R-squared:                       0.525\n",
       "Model:                            OLS   Adj. R-squared:                  0.508\n",
       "Method:                 Least Squares   F-statistic:                     30.43\n",
       "Date:                Sun, 07 Aug 2016   Prob (F-statistic):           1.26e-09\n",
       "Time:                        01:54:16   Log-Likelihood:                -213.11\n",
       "No. Observations:                  58   AIC:                             432.2\n",
       "Df Residuals:                      55   BIC:                             438.4\n",
       "Df Model:                           2                                         \n",
       "Covariance Type:            nonrobust                                         \n",
       "===================================================================================\n",
       "                      coef    std err          t      P>|t|      [95.0% Conf. Int.]\n",
       "-----------------------------------------------------------------------------------\n",
       "Intercept           5.7374      2.026      2.832      0.006         1.677     9.798\n",
       "vaccine_illness    -0.0218      0.042     -0.516      0.608        -0.107     0.063\n",
       "n_tracts            0.0308      0.004      7.752      0.000         0.023     0.039\n",
       "==============================================================================\n",
       "Omnibus:                       61.622   Durbin-Watson:                   2.050\n",
       "Prob(Omnibus):                  0.000   Jarque-Bera (JB):              382.757\n",
       "Skew:                           2.978   Prob(JB):                     7.68e-84\n",
       "Kurtosis:                      14.086   Cond. No.                         555.\n",
       "==============================================================================\n",
       "\n",
       "Warnings:\n",
       "[1] Standard Errors assume that the covariance matrix of the errors is correctly specified.\n",
       "\"\"\""
      ]
     },
     "execution_count": 110,
     "metadata": {},
     "output_type": "execute_result"
    }
   ],
   "source": [
    "linear_regression = smf.ols(formula='food_deserts ~ vaccine_illness+n_tracts', data=df)\n",
    "fitted_model = linear_regression.fit()\n",
    "fitted_model.summary()"
   ]
  },
  {
   "cell_type": "code",
   "execution_count": 114,
   "metadata": {
    "collapsed": false
   },
   "outputs": [
    {
     "data": {
      "text/html": [
       "<table class=\"simpletable\">\n",
       "<caption>OLS Regression Results</caption>\n",
       "<tr>\n",
       "  <th>Dep. Variable:</th>      <td>food_deserts</td>   <th>  R-squared:         </th> <td>   0.824</td>\n",
       "</tr>\n",
       "<tr>\n",
       "  <th>Model:</th>                   <td>OLS</td>       <th>  Adj. R-squared:    </th> <td>   0.807</td>\n",
       "</tr>\n",
       "<tr>\n",
       "  <th>Method:</th>             <td>Least Squares</td>  <th>  F-statistic:       </th> <td>   48.76</td>\n",
       "</tr>\n",
       "<tr>\n",
       "  <th>Date:</th>             <td>Sun, 07 Aug 2016</td> <th>  Prob (F-statistic):</th> <td>1.90e-18</td>\n",
       "</tr>\n",
       "<tr>\n",
       "  <th>Time:</th>                 <td>01:58:26</td>     <th>  Log-Likelihood:    </th> <td> -184.30</td>\n",
       "</tr>\n",
       "<tr>\n",
       "  <th>No. Observations:</th>      <td>    58</td>      <th>  AIC:               </th> <td>   380.6</td>\n",
       "</tr>\n",
       "<tr>\n",
       "  <th>Df Residuals:</th>          <td>    52</td>      <th>  BIC:               </th> <td>   393.0</td>\n",
       "</tr>\n",
       "<tr>\n",
       "  <th>Df Model:</th>              <td>     5</td>      <th>                     </th>     <td> </td>   \n",
       "</tr>\n",
       "<tr>\n",
       "  <th>Covariance Type:</th>      <td>nonrobust</td>    <th>                     </th>     <td> </td>   \n",
       "</tr>\n",
       "</table>\n",
       "<table class=\"simpletable\">\n",
       "<tr>\n",
       "            <td></td>               <th>coef</th>     <th>std err</th>      <th>t</th>      <th>P>|t|</th> <th>[95.0% Conf. Int.]</th> \n",
       "</tr>\n",
       "<tr>\n",
       "  <th>Intercept</th>             <td>  -21.2938</td> <td>    6.512</td> <td>   -3.270</td> <td> 0.002</td> <td>  -34.361    -8.226</td>\n",
       "</tr>\n",
       "<tr>\n",
       "  <th>std</th>                   <td>    0.0073</td> <td>    0.005</td> <td>    1.325</td> <td> 0.191</td> <td>   -0.004     0.018</td>\n",
       "</tr>\n",
       "<tr>\n",
       "  <th>cnty_inactive_pct_adj</th> <td>    0.3275</td> <td>    0.425</td> <td>    0.770</td> <td> 0.445</td> <td>   -0.526     1.181</td>\n",
       "</tr>\n",
       "<tr>\n",
       "  <th>cnty_dm_pct_adj</th>       <td>    1.5720</td> <td>    1.338</td> <td>    1.175</td> <td> 0.245</td> <td>   -1.113     4.257</td>\n",
       "</tr>\n",
       "<tr>\n",
       "  <th>n_rural</th>               <td>    0.7569</td> <td>    0.103</td> <td>    7.339</td> <td> 0.000</td> <td>    0.550     0.964</td>\n",
       "</tr>\n",
       "<tr>\n",
       "  <th>n_tracts</th>              <td>    0.0156</td> <td>    0.003</td> <td>    5.008</td> <td> 0.000</td> <td>    0.009     0.022</td>\n",
       "</tr>\n",
       "</table>\n",
       "<table class=\"simpletable\">\n",
       "<tr>\n",
       "  <th>Omnibus:</th>       <td>37.812</td> <th>  Durbin-Watson:     </th> <td>   2.285</td>\n",
       "</tr>\n",
       "<tr>\n",
       "  <th>Prob(Omnibus):</th> <td> 0.000</td> <th>  Jarque-Bera (JB):  </th> <td> 184.727</td>\n",
       "</tr>\n",
       "<tr>\n",
       "  <th>Skew:</th>          <td> 1.586</td> <th>  Prob(JB):          </th> <td>7.71e-41</td>\n",
       "</tr>\n",
       "<tr>\n",
       "  <th>Kurtosis:</th>      <td>11.147</td> <th>  Cond. No.          </th> <td>3.70e+03</td>\n",
       "</tr>\n",
       "</table>"
      ],
      "text/plain": [
       "<class 'statsmodels.iolib.summary.Summary'>\n",
       "\"\"\"\n",
       "                            OLS Regression Results                            \n",
       "==============================================================================\n",
       "Dep. Variable:           food_deserts   R-squared:                       0.824\n",
       "Model:                            OLS   Adj. R-squared:                  0.807\n",
       "Method:                 Least Squares   F-statistic:                     48.76\n",
       "Date:                Sun, 07 Aug 2016   Prob (F-statistic):           1.90e-18\n",
       "Time:                        01:58:26   Log-Likelihood:                -184.30\n",
       "No. Observations:                  58   AIC:                             380.6\n",
       "Df Residuals:                      52   BIC:                             393.0\n",
       "Df Model:                           5                                         \n",
       "Covariance Type:            nonrobust                                         \n",
       "=========================================================================================\n",
       "                            coef    std err          t      P>|t|      [95.0% Conf. Int.]\n",
       "-----------------------------------------------------------------------------------------\n",
       "Intercept               -21.2938      6.512     -3.270      0.002       -34.361    -8.226\n",
       "std                       0.0073      0.005      1.325      0.191        -0.004     0.018\n",
       "cnty_inactive_pct_adj     0.3275      0.425      0.770      0.445        -0.526     1.181\n",
       "cnty_dm_pct_adj           1.5720      1.338      1.175      0.245        -1.113     4.257\n",
       "n_rural                   0.7569      0.103      7.339      0.000         0.550     0.964\n",
       "n_tracts                  0.0156      0.003      5.008      0.000         0.009     0.022\n",
       "==============================================================================\n",
       "Omnibus:                       37.812   Durbin-Watson:                   2.285\n",
       "Prob(Omnibus):                  0.000   Jarque-Bera (JB):              184.727\n",
       "Skew:                           1.586   Prob(JB):                     7.71e-41\n",
       "Kurtosis:                      11.147   Cond. No.                     3.70e+03\n",
       "==============================================================================\n",
       "\n",
       "Warnings:\n",
       "[1] Standard Errors assume that the covariance matrix of the errors is correctly specified.\n",
       "[2] The condition number is large, 3.7e+03. This might indicate that there are\n",
       "strong multicollinearity or other numerical problems.\n",
       "\"\"\""
      ]
     },
     "execution_count": 114,
     "metadata": {},
     "output_type": "execute_result"
    }
   ],
   "source": [
    "linear_regression = smf.ols(formula='food_deserts ~ std+cnty_inactive_pct_adj+cnty_dm_pct_adj+n_rural+n_tracts', data=df)\n",
    "fitted_model = linear_regression.fit()\n",
    "fitted_model.summary()"
   ]
  },
  {
   "cell_type": "markdown",
   "metadata": {},
   "source": [
    "more dm, more tracts, more rural, more stds, less active,\n",
    "---\n",
    "not nore obese\n",
    "---\n",
    "not less prev dx\n",
    "---\n",
    "\n",
    "multivariate regression of correlated feats made pval dissapear..."
   ]
  },
  {
   "cell_type": "code",
   "execution_count": 29,
   "metadata": {
    "collapsed": false
   },
   "outputs": [],
   "source": [
    "df.columns.tolist()\n",
    "def order(frame,var):\n",
    "    varlist =[w for w in frame.columns if w not in var]\n",
    "    frame = frame[var+varlist]\n",
    "    return frame \n",
    "\n",
    "df = order(df,['food_deserts','perc_effected','des_percent']).set_index('County')"
   ]
  },
  {
   "cell_type": "code",
   "execution_count": 132,
   "metadata": {
    "collapsed": false
   },
   "outputs": [],
   "source": [
    "dataset = df[community_health+['std','minority','POP2010','food_deserts','n_tracts']]\n",
    "\n",
    "\n",
    "x_vars = [c for c in df.columns.tolist() if c not in ['opiods_rx_1000','hosp_mort','food_deserts','des_percent','perc_effected','County'] ]"
   ]
  },
  {
   "cell_type": "code",
   "execution_count": 133,
   "metadata": {
    "collapsed": false
   },
   "outputs": [],
   "source": [
    "cols = dataset.columns.tolist()\n",
    "y = df['food_deserts'].values\n",
    "#y2 = df['perc_effected'].values\n",
    "#X = df[cols[3:]]\n",
    "X=df[x_vars].fillna(0)\n",
    "observations = len(dataset)\n",
    "variables = X.columns.tolist()\n",
    "predictors = variables\n",
    "target='food_deserts'"
   ]
  },
  {
   "cell_type": "code",
   "execution_count": 134,
   "metadata": {
    "collapsed": false
   },
   "outputs": [
    {
     "name": "stdout",
     "output_type": "stream",
     "text": [
      "\tLasso\tLinear reg\tRF\tRFE\tRidge\tStability\tMean\n",
      "POP2010\t0.0\t1.0\t0.19\t1.0\t0.02\t0.09\t0.38\n",
      "n_tracts\t0.06\t0.0\t0.0\t0.58\t0.1\t0.04\t0.13\n",
      "n_urban\t0.0\t0.0\t0.03\t0.62\t0.2\t0.0\t0.14\n",
      "n_rural\t0.46\t0.0\t1.0\t0.88\t0.3\t1.0\t0.61\n",
      "low_vehicle_tracts\t0.2\t0.0\t0.3\t0.73\t0.22\t0.86\t0.39\n",
      "total_housing_units\t0.0\t0.0\t0.0\t0.04\t0.0\t0.04\t0.01\n",
      "pop_in_group_housing\t0.0\t0.0\t0.0\t0.12\t0.0\t0.06\t0.03\n",
      "cnty_obesity_pct_adj\t0.19\t0.0\t0.0\t0.65\t0.13\t0.11\t0.18\n",
      "cnty_dm_pct_adj\t1.0\t0.0\t0.0\t1.0\t1.0\t0.65\t0.61\n",
      "cnty_inactive_pct_adj\t0.12\t0.0\t0.01\t0.54\t0.17\t0.46\t0.22\n",
      "ABR\t0.03\t0.0\t0.02\t0.35\t0.04\t0.34\t0.13\n",
      "p_hs_edatt\t0.0\t0.0\t0.0\t0.77\t0.01\t0.06\t0.14\n",
      "PC_PHYS_R\t0.0\t0.0\t0.0\t0.19\t0.0\t0.85\t0.17\n",
      "DENTIST_R\t0.0\t0.0\t0.01\t0.0\t0.0\t0.24\t0.04\n",
      "PSYCH_R\t0.0\t0.0\t0.01\t0.08\t0.0\t0.24\t0.06\n",
      "PCT_65OVER\t0.06\t0.0\t0.01\t0.42\t0.09\t0.25\t0.14\n",
      "PCT_UNDR18\t0.13\t0.0\t0.0\t0.92\t0.05\t0.17\t0.21\n",
      "PCT_UNDER5\t0.5\t0.0\t0.0\t0.96\t0.32\t0.69\t0.41\n",
      "unemployment_rate\t0.17\t0.0\t0.0\t0.85\t0.27\t0.18\t0.24\n",
      "n_hospitals\t0.05\t0.0\t0.16\t0.5\t0.09\t0.31\t0.19\n",
      "Salmonellosis\t0.02\t0.0\t0.01\t0.46\t0.02\t0.35\t0.14\n",
      "opiods_greater_than_stateavg\t0.52\t0.01\t0.0\t1.0\t0.3\t0.37\t0.37\n",
      "MILK_PRICE10\t0.0\t0.01\t0.0\t1.0\t0.06\t0.16\t0.2\n",
      "SODA_PRICE10\t0.0\t0.02\t0.0\t1.0\t0.07\t0.21\t0.22\n",
      "PCH_FFR_07_12\t0.01\t0.0\t0.0\t0.27\t0.01\t0.15\t0.07\n",
      "FFR07\t0.01\t0.0\t0.01\t0.38\t0.03\t0.01\t0.07\n",
      "quant\t0.0\t0.01\t0.0\t0.69\t0.2\t0.33\t0.2\n",
      "std\t0.0\t0.0\t0.04\t0.15\t0.01\t0.35\t0.09\n",
      "vaccine_illness\t0.02\t0.0\t0.0\t0.23\t0.02\t0.77\t0.17\n",
      "30_readmits\t0.02\t0.0\t0.0\t0.31\t0.02\t0.23\t0.1\n",
      "minority\t0.09\t0.0\t0.01\t0.81\t0.1\t0.79\t0.3\n"
     ]
    }
   ],
   "source": [
    "from sklearn.linear_model import (LinearRegression, Ridge, Lasso, RandomizedLasso)\n",
    "from sklearn.feature_selection import RFE, f_regression\n",
    "from sklearn.preprocessing import MinMaxScaler\n",
    "from sklearn.ensemble import RandomForestRegressor\n",
    "from minepy import MINE\n",
    "import warnings\n",
    "warnings.filterwarnings(\"ignore\", category=DeprecationWarning)\n",
    "\n",
    "np.random.seed(0)\n",
    "ranks = {}\n",
    " \n",
    "def rank_to_dict(ranks, predictors, order=1):\n",
    "    minmax = MinMaxScaler()\n",
    "    ranks = minmax.fit_transform(order*np.array([ranks]).T).T[0]\n",
    "    ranks = map(lambda x: round(x, 2), ranks)\n",
    "    return dict(zip(predictors, ranks ))\n",
    "\n",
    "X=X.values\n",
    "Y=y\n",
    "lr = LinearRegression(normalize=True)\n",
    "lr.fit(X, Y)\n",
    "ranks[\"Linear reg\"] = rank_to_dict(np.abs(lr.coef_), predictors)\n",
    " \n",
    "ridge = Ridge(alpha=7)\n",
    "ridge.fit(X, Y)\n",
    "ranks[\"Ridge\"] = rank_to_dict(np.abs(ridge.coef_), predictors)\n",
    " \n",
    "lasso = Lasso(alpha=.05)\n",
    "lasso.fit(X, Y)\n",
    "ranks[\"Lasso\"] = rank_to_dict(np.abs(lasso.coef_), predictors)\n",
    " \n",
    "rlasso = RandomizedLasso(alpha=0.04)\n",
    "rlasso.fit(X, Y)\n",
    "ranks[\"Stability\"] = rank_to_dict(np.abs(rlasso.scores_), predictors)\n",
    " \n",
    "#stop the search when 5 features are left (they will get equal scores)\n",
    "rfe = RFE(lr, n_features_to_select=5)\n",
    "rfe.fit(X,Y)\n",
    "ranks[\"RFE\"] = rank_to_dict(map(float, rfe.ranking_), predictors, order=-1)\n",
    " \n",
    "rf = RandomForestRegressor()\n",
    "rf.fit(X,Y)\n",
    "ranks[\"RF\"] = rank_to_dict(rf.feature_importances_, predictors)\n",
    " \n",
    "# f, pval  = f_regression(X, Y, center=True)\n",
    "# ranks[\"Corr.\"] = rank_to_dict(f, predictors)\n",
    " \n",
    "# mine = MINE()\n",
    "# mic_scores = []\n",
    "# for i in range(X.shape[1]):\n",
    "#     mine.compute_score(X[:,i], Y)\n",
    "#     m = mine.mic()\n",
    "#     mic_scores.append(m)\n",
    "\n",
    "# ranks[\"MIC\"] = rank_to_dict(mic_scores, predictors) \n",
    " \n",
    "r = {}\n",
    "for name in predictors:\n",
    "    r[name] = round(np.mean([ranks[method][name] \n",
    "                             for method in ranks.keys()]), 2)\n",
    "methods = sorted(ranks.keys())\n",
    "ranks[\"Mean\"] = r\n",
    "methods.append(\"Mean\")\n",
    " \n",
    "print \"\\t%s\" % \"\\t\".join(methods)\n",
    "for name in predictors:\n",
    "    print \"%s\\t%s\" % (name, \"\\t\".join(map(str, [ranks[method][name] for method in methods])))\n"
   ]
  },
  {
   "cell_type": "code",
   "execution_count": 137,
   "metadata": {
    "collapsed": false
   },
   "outputs": [],
   "source": [
    "feature_df = pd.DataFrame(ranks)\n",
    "keepers = list(feature_df[feature_df['Lasso'] > 0.00].index)"
   ]
  },
  {
   "cell_type": "code",
   "execution_count": 138,
   "metadata": {
    "collapsed": false
   },
   "outputs": [
    {
     "data": {
      "text/html": [
       "<table class=\"simpletable\">\n",
       "<caption>OLS Regression Results</caption>\n",
       "<tr>\n",
       "  <th>Dep. Variable:</th>            <td>y</td>        <th>  R-squared:         </th> <td>   0.901</td>\n",
       "</tr>\n",
       "<tr>\n",
       "  <th>Model:</th>                   <td>OLS</td>       <th>  Adj. R-squared:    </th> <td>   0.852</td>\n",
       "</tr>\n",
       "<tr>\n",
       "  <th>Method:</th>             <td>Least Squares</td>  <th>  F-statistic:       </th> <td>   18.27</td>\n",
       "</tr>\n",
       "<tr>\n",
       "  <th>Date:</th>             <td>Sun, 07 Aug 2016</td> <th>  Prob (F-statistic):</th> <td>1.32e-13</td>\n",
       "</tr>\n",
       "<tr>\n",
       "  <th>Time:</th>                 <td>02:12:38</td>     <th>  Log-Likelihood:    </th> <td> -167.55</td>\n",
       "</tr>\n",
       "<tr>\n",
       "  <th>No. Observations:</th>      <td>    58</td>      <th>  AIC:               </th> <td>   375.1</td>\n",
       "</tr>\n",
       "<tr>\n",
       "  <th>Df Residuals:</th>          <td>    38</td>      <th>  BIC:               </th> <td>   416.3</td>\n",
       "</tr>\n",
       "<tr>\n",
       "  <th>Df Model:</th>              <td>    19</td>      <th>                     </th>     <td> </td>   \n",
       "</tr>\n",
       "<tr>\n",
       "  <th>Covariance Type:</th>      <td>nonrobust</td>    <th>                     </th>     <td> </td>   \n",
       "</tr>\n",
       "</table>\n",
       "<table class=\"simpletable\">\n",
       "<tr>\n",
       "                <td></td>                  <th>coef</th>     <th>std err</th>      <th>t</th>      <th>P>|t|</th> <th>[95.0% Conf. Int.]</th> \n",
       "</tr>\n",
       "<tr>\n",
       "  <th>const</th>                        <td>   -3.7574</td> <td>   11.268</td> <td>   -0.333</td> <td> 0.741</td> <td>  -26.569    19.054</td>\n",
       "</tr>\n",
       "<tr>\n",
       "  <th>30_readmits</th>                  <td>   -0.0529</td> <td>    0.043</td> <td>   -1.242</td> <td> 0.222</td> <td>   -0.139     0.033</td>\n",
       "</tr>\n",
       "<tr>\n",
       "  <th>ABR</th>                          <td>    0.0005</td> <td>    0.100</td> <td>    0.005</td> <td> 0.996</td> <td>   -0.202     0.203</td>\n",
       "</tr>\n",
       "<tr>\n",
       "  <th>FFR07</th>                        <td>    0.0059</td> <td>    0.007</td> <td>    0.821</td> <td> 0.417</td> <td>   -0.009     0.020</td>\n",
       "</tr>\n",
       "<tr>\n",
       "  <th>PCH_FFR_07_12</th>                <td>    0.0555</td> <td>    0.058</td> <td>    0.953</td> <td> 0.346</td> <td>   -0.062     0.173</td>\n",
       "</tr>\n",
       "<tr>\n",
       "  <th>PCT_65OVER</th>                   <td>    0.0277</td> <td>    0.341</td> <td>    0.081</td> <td> 0.936</td> <td>   -0.662     0.717</td>\n",
       "</tr>\n",
       "<tr>\n",
       "  <th>PCT_UNDER5</th>                   <td>    1.5221</td> <td>    2.005</td> <td>    0.759</td> <td> 0.452</td> <td>   -2.536     5.580</td>\n",
       "</tr>\n",
       "<tr>\n",
       "  <th>PCT_UNDR18</th>                   <td>   -0.5327</td> <td>    0.775</td> <td>   -0.688</td> <td> 0.496</td> <td>   -2.101     1.036</td>\n",
       "</tr>\n",
       "<tr>\n",
       "  <th>Salmonellosis</th>                <td>   -0.0255</td> <td>    0.185</td> <td>   -0.138</td> <td> 0.891</td> <td>   -0.400     0.349</td>\n",
       "</tr>\n",
       "<tr>\n",
       "  <th>cnty_dm_pct_adj</th>              <td>    0.8150</td> <td>    1.638</td> <td>    0.498</td> <td> 0.622</td> <td>   -2.500     4.130</td>\n",
       "</tr>\n",
       "<tr>\n",
       "  <th>cnty_inactive_pct_adj</th>        <td>   -0.1861</td> <td>    0.624</td> <td>   -0.298</td> <td> 0.767</td> <td>   -1.448     1.076</td>\n",
       "</tr>\n",
       "<tr>\n",
       "  <th>cnty_obesity_pct_adj</th>         <td>   -0.2009</td> <td>    0.486</td> <td>   -0.414</td> <td> 0.682</td> <td>   -1.184     0.782</td>\n",
       "</tr>\n",
       "<tr>\n",
       "  <th>low_vehicle_tracts</th>           <td>    0.4041</td> <td>    0.132</td> <td>    3.052</td> <td> 0.004</td> <td>    0.136     0.672</td>\n",
       "</tr>\n",
       "<tr>\n",
       "  <th>minority</th>                     <td>    0.2316</td> <td>    0.155</td> <td>    1.493</td> <td> 0.144</td> <td>   -0.082     0.546</td>\n",
       "</tr>\n",
       "<tr>\n",
       "  <th>n_hospitals</th>                  <td>    0.0625</td> <td>    0.038</td> <td>    1.626</td> <td> 0.112</td> <td>   -0.015     0.140</td>\n",
       "</tr>\n",
       "<tr>\n",
       "  <th>n_rural</th>                      <td>    0.9321</td> <td>    0.128</td> <td>    7.293</td> <td> 0.000</td> <td>    0.673     1.191</td>\n",
       "</tr>\n",
       "<tr>\n",
       "  <th>n_tracts</th>                     <td>   -0.0712</td> <td>    0.029</td> <td>   -2.422</td> <td> 0.020</td> <td>   -0.131    -0.012</td>\n",
       "</tr>\n",
       "<tr>\n",
       "  <th>opiods_greater_than_stateavg</th> <td>    2.1955</td> <td>    3.397</td> <td>    0.646</td> <td> 0.522</td> <td>   -4.682     9.073</td>\n",
       "</tr>\n",
       "<tr>\n",
       "  <th>unemployment_rate</th>            <td>    0.2553</td> <td>    0.531</td> <td>    0.481</td> <td> 0.633</td> <td>   -0.820     1.330</td>\n",
       "</tr>\n",
       "<tr>\n",
       "  <th>vaccine_illness</th>              <td>   -0.0363</td> <td>    0.028</td> <td>   -1.291</td> <td> 0.205</td> <td>   -0.093     0.021</td>\n",
       "</tr>\n",
       "</table>\n",
       "<table class=\"simpletable\">\n",
       "<tr>\n",
       "  <th>Omnibus:</th>       <td> 9.559</td> <th>  Durbin-Watson:     </th> <td>   1.803</td>\n",
       "</tr>\n",
       "<tr>\n",
       "  <th>Prob(Omnibus):</th> <td> 0.008</td> <th>  Jarque-Bera (JB):  </th> <td>  12.624</td>\n",
       "</tr>\n",
       "<tr>\n",
       "  <th>Skew:</th>          <td> 0.577</td> <th>  Prob(JB):          </th> <td> 0.00181</td>\n",
       "</tr>\n",
       "<tr>\n",
       "  <th>Kurtosis:</th>      <td> 4.973</td> <th>  Cond. No.          </th> <td>1.91e+04</td>\n",
       "</tr>\n",
       "</table>"
      ],
      "text/plain": [
       "<class 'statsmodels.iolib.summary.Summary'>\n",
       "\"\"\"\n",
       "                            OLS Regression Results                            \n",
       "==============================================================================\n",
       "Dep. Variable:                      y   R-squared:                       0.901\n",
       "Model:                            OLS   Adj. R-squared:                  0.852\n",
       "Method:                 Least Squares   F-statistic:                     18.27\n",
       "Date:                Sun, 07 Aug 2016   Prob (F-statistic):           1.32e-13\n",
       "Time:                        02:12:38   Log-Likelihood:                -167.55\n",
       "No. Observations:                  58   AIC:                             375.1\n",
       "Df Residuals:                      38   BIC:                             416.3\n",
       "Df Model:                          19                                         \n",
       "Covariance Type:            nonrobust                                         \n",
       "================================================================================================\n",
       "                                   coef    std err          t      P>|t|      [95.0% Conf. Int.]\n",
       "------------------------------------------------------------------------------------------------\n",
       "const                           -3.7574     11.268     -0.333      0.741       -26.569    19.054\n",
       "30_readmits                     -0.0529      0.043     -1.242      0.222        -0.139     0.033\n",
       "ABR                              0.0005      0.100      0.005      0.996        -0.202     0.203\n",
       "FFR07                            0.0059      0.007      0.821      0.417        -0.009     0.020\n",
       "PCH_FFR_07_12                    0.0555      0.058      0.953      0.346        -0.062     0.173\n",
       "PCT_65OVER                       0.0277      0.341      0.081      0.936        -0.662     0.717\n",
       "PCT_UNDER5                       1.5221      2.005      0.759      0.452        -2.536     5.580\n",
       "PCT_UNDR18                      -0.5327      0.775     -0.688      0.496        -2.101     1.036\n",
       "Salmonellosis                   -0.0255      0.185     -0.138      0.891        -0.400     0.349\n",
       "cnty_dm_pct_adj                  0.8150      1.638      0.498      0.622        -2.500     4.130\n",
       "cnty_inactive_pct_adj           -0.1861      0.624     -0.298      0.767        -1.448     1.076\n",
       "cnty_obesity_pct_adj            -0.2009      0.486     -0.414      0.682        -1.184     0.782\n",
       "low_vehicle_tracts               0.4041      0.132      3.052      0.004         0.136     0.672\n",
       "minority                         0.2316      0.155      1.493      0.144        -0.082     0.546\n",
       "n_hospitals                      0.0625      0.038      1.626      0.112        -0.015     0.140\n",
       "n_rural                          0.9321      0.128      7.293      0.000         0.673     1.191\n",
       "n_tracts                        -0.0712      0.029     -2.422      0.020        -0.131    -0.012\n",
       "opiods_greater_than_stateavg     2.1955      3.397      0.646      0.522        -4.682     9.073\n",
       "unemployment_rate                0.2553      0.531      0.481      0.633        -0.820     1.330\n",
       "vaccine_illness                 -0.0363      0.028     -1.291      0.205        -0.093     0.021\n",
       "==============================================================================\n",
       "Omnibus:                        9.559   Durbin-Watson:                   1.803\n",
       "Prob(Omnibus):                  0.008   Jarque-Bera (JB):               12.624\n",
       "Skew:                           0.577   Prob(JB):                      0.00181\n",
       "Kurtosis:                       4.973   Cond. No.                     1.91e+04\n",
       "==============================================================================\n",
       "\n",
       "Warnings:\n",
       "[1] Standard Errors assume that the covariance matrix of the errors is correctly specified.\n",
       "[2] The condition number is large, 1.91e+04. This might indicate that there are\n",
       "strong multicollinearity or other numerical problems.\n",
       "\"\"\""
      ]
     },
     "execution_count": 138,
     "metadata": {},
     "output_type": "execute_result"
    }
   ],
   "source": [
    "Xc = sm.add_constant(df[keepers])\n",
    "linear_regression = sm.OLS(y,Xc)\n",
    "fitted_model = linear_regression.fit()\n",
    "fitted_model.summary()"
   ]
  },
  {
   "cell_type": "code",
   "execution_count": 38,
   "metadata": {
    "collapsed": false
   },
   "outputs": [
    {
     "data": {
      "image/png": "[encoded data removed]",
      "text/plain": [
       "<matplotlib.figure.Figure at 0x1196b6090>"
      ]
     },
     "metadata": {},
     "output_type": "display_data"
    }
   ],
   "source": [
    "fig = plt.figure(figsize=(12,8))\n",
    "fig = sm.graphics.plot_regress_exog(fitted_model, \"cnty_dm_pct_adj\", fig=fig)"
   ]
  },
  {
   "cell_type": "code",
   "execution_count": 142,
   "metadata": {
    "collapsed": false
   },
   "outputs": [
    {
     "name": "stdout",
     "output_type": "stream",
     "text": [
      "Applied log-transform to sigma and added transformed sigma_log to model.\n"
     ]
    },
    {
     "ename": "ValueError",
     "evalue": "Input dimension mis-match. (input[0].shape[1] = 58, input[1].shape[1] = 31)",
     "output_type": "error",
     "traceback": [
      "\u001b[0;31m---------------------------------------------------------------------------\u001b[0m",
      "\u001b[0;31mValueError\u001b[0m                                Traceback (most recent call last)",
      "\u001b[0;32m<ipython-input-142-e2e6d3935053>\u001b[0m in \u001b[0;36m<module>\u001b[0;34m()\u001b[0m\n\u001b[1;32m     16\u001b[0m     \u001b[0;31m# Define likelihood\u001b[0m\u001b[0;34m\u001b[0m\u001b[0;34m\u001b[0m\u001b[0m\n\u001b[1;32m     17\u001b[0m     likelihood = pm.Normal('y', mu=intercept + x_coeff * x,\n\u001b[0;32m---> 18\u001b[0;31m                         sd=sigma, observed=y)\n\u001b[0m\u001b[1;32m     19\u001b[0m \u001b[0;34m\u001b[0m\u001b[0m\n\u001b[1;32m     20\u001b[0m     \u001b[0;31m# Inference!\u001b[0m\u001b[0;34m\u001b[0m\u001b[0;34m\u001b[0m\u001b[0m\n",
      "\u001b[0;32m/Users/desert/anaconda/envs/linreg/lib/python2.7/site-packages/pymc3/distributions/distribution.pyc\u001b[0m in \u001b[0;36m__new__\u001b[0;34m(cls, name, *args, **kwargs)\u001b[0m\n\u001b[1;32m     23\u001b[0m             \u001b[0mdata\u001b[0m \u001b[0;34m=\u001b[0m \u001b[0mkwargs\u001b[0m\u001b[0;34m.\u001b[0m\u001b[0mpop\u001b[0m\u001b[0;34m(\u001b[0m\u001b[0;34m'observed'\u001b[0m\u001b[0;34m,\u001b[0m \u001b[0mNone\u001b[0m\u001b[0;34m)\u001b[0m\u001b[0;34m\u001b[0m\u001b[0m\n\u001b[1;32m     24\u001b[0m             \u001b[0mdist\u001b[0m \u001b[0;34m=\u001b[0m \u001b[0mcls\u001b[0m\u001b[0;34m.\u001b[0m\u001b[0mdist\u001b[0m\u001b[0;34m(\u001b[0m\u001b[0;34m*\u001b[0m\u001b[0margs\u001b[0m\u001b[0;34m,\u001b[0m \u001b[0;34m**\u001b[0m\u001b[0mkwargs\u001b[0m\u001b[0;34m)\u001b[0m\u001b[0;34m\u001b[0m\u001b[0m\n\u001b[0;32m---> 25\u001b[0;31m             \u001b[0;32mreturn\u001b[0m \u001b[0mmodel\u001b[0m\u001b[0;34m.\u001b[0m\u001b[0mVar\u001b[0m\u001b[0;34m(\u001b[0m\u001b[0mname\u001b[0m\u001b[0;34m,\u001b[0m \u001b[0mdist\u001b[0m\u001b[0;34m,\u001b[0m \u001b[0mdata\u001b[0m\u001b[0;34m)\u001b[0m\u001b[0;34m\u001b[0m\u001b[0m\n\u001b[0m\u001b[1;32m     26\u001b[0m         \u001b[0;32melif\u001b[0m \u001b[0mname\u001b[0m \u001b[0;32mis\u001b[0m \u001b[0mNone\u001b[0m\u001b[0;34m:\u001b[0m\u001b[0;34m\u001b[0m\u001b[0m\n\u001b[1;32m     27\u001b[0m             \u001b[0;32mreturn\u001b[0m \u001b[0mobject\u001b[0m\u001b[0;34m.\u001b[0m\u001b[0m__new__\u001b[0m\u001b[0;34m(\u001b[0m\u001b[0mcls\u001b[0m\u001b[0;34m)\u001b[0m  \u001b[0;31m# for pickle\u001b[0m\u001b[0;34m\u001b[0m\u001b[0m\n",
      "\u001b[0;32m/Users/desert/anaconda/envs/linreg/lib/python2.7/site-packages/pymc3/model.pyc\u001b[0m in \u001b[0;36mVar\u001b[0;34m(self, name, dist, data)\u001b[0m\n\u001b[1;32m    277\u001b[0m                     \u001b[0mself\u001b[0m\u001b[0;34m.\u001b[0m\u001b[0mnamed_vars\u001b[0m\u001b[0;34m[\u001b[0m\u001b[0mv\u001b[0m\u001b[0;34m.\u001b[0m\u001b[0mname\u001b[0m\u001b[0;34m]\u001b[0m \u001b[0;34m=\u001b[0m \u001b[0mv\u001b[0m\u001b[0;34m\u001b[0m\u001b[0m\n\u001b[1;32m    278\u001b[0m         \u001b[0;32melse\u001b[0m\u001b[0;34m:\u001b[0m\u001b[0;34m\u001b[0m\u001b[0m\n\u001b[0;32m--> 279\u001b[0;31m             \u001b[0mvar\u001b[0m \u001b[0;34m=\u001b[0m \u001b[0mObservedRV\u001b[0m\u001b[0;34m(\u001b[0m\u001b[0mname\u001b[0m\u001b[0;34m=\u001b[0m\u001b[0mname\u001b[0m\u001b[0;34m,\u001b[0m \u001b[0mdata\u001b[0m\u001b[0;34m=\u001b[0m\u001b[0mdata\u001b[0m\u001b[0;34m,\u001b[0m \u001b[0mdistribution\u001b[0m\u001b[0;34m=\u001b[0m\u001b[0mdist\u001b[0m\u001b[0;34m,\u001b[0m \u001b[0mmodel\u001b[0m\u001b[0;34m=\u001b[0m\u001b[0mself\u001b[0m\u001b[0;34m)\u001b[0m\u001b[0;34m\u001b[0m\u001b[0m\n\u001b[0m\u001b[1;32m    280\u001b[0m             \u001b[0mself\u001b[0m\u001b[0;34m.\u001b[0m\u001b[0mobserved_RVs\u001b[0m\u001b[0;34m.\u001b[0m\u001b[0mappend\u001b[0m\u001b[0;34m(\u001b[0m\u001b[0mvar\u001b[0m\u001b[0;34m)\u001b[0m\u001b[0;34m\u001b[0m\u001b[0m\n\u001b[1;32m    281\u001b[0m             \u001b[0;32mif\u001b[0m \u001b[0mvar\u001b[0m\u001b[0;34m.\u001b[0m\u001b[0mmissing_values\u001b[0m\u001b[0;34m:\u001b[0m\u001b[0;34m\u001b[0m\u001b[0m\n",
      "\u001b[0;32m/Users/desert/anaconda/envs/linreg/lib/python2.7/site-packages/pymc3/model.pyc\u001b[0m in \u001b[0;36m__init__\u001b[0;34m(self, type, owner, index, name, data, distribution, model)\u001b[0m\n\u001b[1;32m    552\u001b[0m             \u001b[0mself\u001b[0m\u001b[0;34m.\u001b[0m\u001b[0mmissing_values\u001b[0m \u001b[0;34m=\u001b[0m \u001b[0mdata\u001b[0m\u001b[0;34m.\u001b[0m\u001b[0mmissing_values\u001b[0m\u001b[0;34m\u001b[0m\u001b[0m\n\u001b[1;32m    553\u001b[0m \u001b[0;34m\u001b[0m\u001b[0m\n\u001b[0;32m--> 554\u001b[0;31m             \u001b[0mself\u001b[0m\u001b[0;34m.\u001b[0m\u001b[0mlogp_elemwiset\u001b[0m \u001b[0;34m=\u001b[0m \u001b[0mdistribution\u001b[0m\u001b[0;34m.\u001b[0m\u001b[0mlogp\u001b[0m\u001b[0;34m(\u001b[0m\u001b[0mdata\u001b[0m\u001b[0;34m)\u001b[0m\u001b[0;34m\u001b[0m\u001b[0m\n\u001b[0m\u001b[1;32m    555\u001b[0m             \u001b[0mself\u001b[0m\u001b[0;34m.\u001b[0m\u001b[0mmodel\u001b[0m \u001b[0;34m=\u001b[0m \u001b[0mmodel\u001b[0m\u001b[0;34m\u001b[0m\u001b[0m\n\u001b[1;32m    556\u001b[0m             \u001b[0mself\u001b[0m\u001b[0;34m.\u001b[0m\u001b[0mdistribution\u001b[0m \u001b[0;34m=\u001b[0m \u001b[0mdistribution\u001b[0m\u001b[0;34m\u001b[0m\u001b[0m\n",
      "\u001b[0;32m/Users/desert/anaconda/envs/linreg/lib/python2.7/site-packages/pymc3/distributions/continuous.pyc\u001b[0m in \u001b[0;36mlogp\u001b[0;34m(self, value)\u001b[0m\n\u001b[1;32m    191\u001b[0m         \u001b[0msd\u001b[0m \u001b[0;34m=\u001b[0m \u001b[0mself\u001b[0m\u001b[0;34m.\u001b[0m\u001b[0msd\u001b[0m\u001b[0;34m\u001b[0m\u001b[0m\n\u001b[1;32m    192\u001b[0m         \u001b[0mmu\u001b[0m \u001b[0;34m=\u001b[0m \u001b[0mself\u001b[0m\u001b[0;34m.\u001b[0m\u001b[0mmu\u001b[0m\u001b[0;34m\u001b[0m\u001b[0m\n\u001b[0;32m--> 193\u001b[0;31m         return bound((-tau * (value - mu)**2 + T.log(tau / np.pi / 2.)) / 2.,\n\u001b[0m\u001b[1;32m    194\u001b[0m                      tau > 0, sd > 0)\n\u001b[1;32m    195\u001b[0m \u001b[0;34m\u001b[0m\u001b[0m\n",
      "\u001b[0;32m/Users/desert/anaconda/envs/linreg/lib/python2.7/site-packages/theano/tensor/var.pyc\u001b[0m in \u001b[0;36m__sub__\u001b[0;34m(self, other)\u001b[0m\n\u001b[1;32m    153\u001b[0m         \u001b[0;31m# and the return value in that case\u001b[0m\u001b[0;34m\u001b[0m\u001b[0;34m\u001b[0m\u001b[0m\n\u001b[1;32m    154\u001b[0m         \u001b[0;32mtry\u001b[0m\u001b[0;34m:\u001b[0m\u001b[0;34m\u001b[0m\u001b[0m\n\u001b[0;32m--> 155\u001b[0;31m             \u001b[0;32mreturn\u001b[0m \u001b[0mtheano\u001b[0m\u001b[0;34m.\u001b[0m\u001b[0mtensor\u001b[0m\u001b[0;34m.\u001b[0m\u001b[0mbasic\u001b[0m\u001b[0;34m.\u001b[0m\u001b[0msub\u001b[0m\u001b[0;34m(\u001b[0m\u001b[0mself\u001b[0m\u001b[0;34m,\u001b[0m \u001b[0mother\u001b[0m\u001b[0;34m)\u001b[0m\u001b[0;34m\u001b[0m\u001b[0m\n\u001b[0m\u001b[1;32m    156\u001b[0m         \u001b[0;32mexcept\u001b[0m \u001b[0;34m(\u001b[0m\u001b[0mNotImplementedError\u001b[0m\u001b[0;34m,\u001b[0m \u001b[0mAsTensorError\u001b[0m\u001b[0;34m)\u001b[0m\u001b[0;34m:\u001b[0m\u001b[0;34m\u001b[0m\u001b[0m\n\u001b[1;32m    157\u001b[0m             \u001b[0;32mreturn\u001b[0m \u001b[0mNotImplemented\u001b[0m\u001b[0;34m\u001b[0m\u001b[0m\n",
      "\u001b[0;32m/Users/desert/anaconda/envs/linreg/lib/python2.7/site-packages/theano/gof/op.pyc\u001b[0m in \u001b[0;36m__call__\u001b[0;34m(self, *inputs, **kwargs)\u001b[0m\n\u001b[1;32m    659\u001b[0m                 \u001b[0mthunk\u001b[0m\u001b[0;34m.\u001b[0m\u001b[0moutputs\u001b[0m \u001b[0;34m=\u001b[0m \u001b[0;34m[\u001b[0m\u001b[0mstorage_map\u001b[0m\u001b[0;34m[\u001b[0m\u001b[0mv\u001b[0m\u001b[0;34m]\u001b[0m \u001b[0;32mfor\u001b[0m \u001b[0mv\u001b[0m \u001b[0;32min\u001b[0m \u001b[0mnode\u001b[0m\u001b[0;34m.\u001b[0m\u001b[0moutputs\u001b[0m\u001b[0;34m]\u001b[0m\u001b[0;34m\u001b[0m\u001b[0m\n\u001b[1;32m    660\u001b[0m \u001b[0;34m\u001b[0m\u001b[0m\n\u001b[0;32m--> 661\u001b[0;31m                 \u001b[0mrequired\u001b[0m \u001b[0;34m=\u001b[0m \u001b[0mthunk\u001b[0m\u001b[0;34m(\u001b[0m\u001b[0;34m)\u001b[0m\u001b[0;34m\u001b[0m\u001b[0m\n\u001b[0m\u001b[1;32m    662\u001b[0m                 \u001b[0;32massert\u001b[0m \u001b[0;32mnot\u001b[0m \u001b[0mrequired\u001b[0m  \u001b[0;31m# We provided all inputs\u001b[0m\u001b[0;34m\u001b[0m\u001b[0m\n\u001b[1;32m    663\u001b[0m \u001b[0;34m\u001b[0m\u001b[0m\n",
      "\u001b[0;32m/Users/desert/anaconda/envs/linreg/lib/python2.7/site-packages/theano/gof/op.pyc\u001b[0m in \u001b[0;36mrval\u001b[0;34m()\u001b[0m\n\u001b[1;32m    877\u001b[0m \u001b[0;34m\u001b[0m\u001b[0m\n\u001b[1;32m    878\u001b[0m         \u001b[0;32mdef\u001b[0m \u001b[0mrval\u001b[0m\u001b[0;34m(\u001b[0m\u001b[0;34m)\u001b[0m\u001b[0;34m:\u001b[0m\u001b[0;34m\u001b[0m\u001b[0m\n\u001b[0;32m--> 879\u001b[0;31m             \u001b[0mfill_storage\u001b[0m\u001b[0;34m(\u001b[0m\u001b[0;34m)\u001b[0m\u001b[0;34m\u001b[0m\u001b[0m\n\u001b[0m\u001b[1;32m    880\u001b[0m             \u001b[0;32mfor\u001b[0m \u001b[0mo\u001b[0m \u001b[0;32min\u001b[0m \u001b[0mnode\u001b[0m\u001b[0;34m.\u001b[0m\u001b[0moutputs\u001b[0m\u001b[0;34m:\u001b[0m\u001b[0;34m\u001b[0m\u001b[0m\n\u001b[1;32m    881\u001b[0m                 \u001b[0mcompute_map\u001b[0m\u001b[0;34m[\u001b[0m\u001b[0mo\u001b[0m\u001b[0;34m]\u001b[0m\u001b[0;34m[\u001b[0m\u001b[0;36m0\u001b[0m\u001b[0;34m]\u001b[0m \u001b[0;34m=\u001b[0m \u001b[0mTrue\u001b[0m\u001b[0;34m\u001b[0m\u001b[0m\n",
      "\u001b[0;32m/Users/desert/anaconda/envs/linreg/lib/python2.7/site-packages/theano/gof/cc.pyc\u001b[0m in \u001b[0;36m__call__\u001b[0;34m(self)\u001b[0m\n\u001b[1;32m   1695\u001b[0m                 \u001b[0;32mprint\u001b[0m\u001b[0;34m(\u001b[0m\u001b[0mself\u001b[0m\u001b[0;34m.\u001b[0m\u001b[0merror_storage\u001b[0m\u001b[0;34m,\u001b[0m \u001b[0mfile\u001b[0m\u001b[0;34m=\u001b[0m\u001b[0msys\u001b[0m\u001b[0;34m.\u001b[0m\u001b[0mstderr\u001b[0m\u001b[0;34m)\u001b[0m\u001b[0;34m\u001b[0m\u001b[0m\n\u001b[1;32m   1696\u001b[0m                 \u001b[0;32mraise\u001b[0m\u001b[0;34m\u001b[0m\u001b[0m\n\u001b[0;32m-> 1697\u001b[0;31m             \u001b[0mreraise\u001b[0m\u001b[0;34m(\u001b[0m\u001b[0mexc_type\u001b[0m\u001b[0;34m,\u001b[0m \u001b[0mexc_value\u001b[0m\u001b[0;34m,\u001b[0m \u001b[0mexc_trace\u001b[0m\u001b[0;34m)\u001b[0m\u001b[0;34m\u001b[0m\u001b[0m\n\u001b[0m\u001b[1;32m   1698\u001b[0m \u001b[0;34m\u001b[0m\u001b[0m\n\u001b[1;32m   1699\u001b[0m \u001b[0;34m\u001b[0m\u001b[0m\n",
      "\u001b[0;32m/Users/desert/anaconda/envs/linreg/lib/python2.7/site-packages/six.pyc\u001b[0m in \u001b[0;36mreraise\u001b[0;34m(tp, value, tb)\u001b[0m\n",
      "\u001b[0;31mValueError\u001b[0m: Input dimension mis-match. (input[0].shape[1] = 58, input[1].shape[1] = 31)"
     ]
    }
   ],
   "source": [
    "import pymc3 as pm\n",
    "import scipy\n",
    "import scipy.stats as stats\n",
    "import seaborn.apionly as sns\n",
    "import statsmodels.api as sm\n",
    "import theano.tensor as tt\n",
    "\n",
    "from sklearn import preprocessing\n",
    "x=X\n",
    "with pm.Model() as model: # model specifications in PyMC3 are wrapped in a with-statement\n",
    "    # Define priors\n",
    "    sigma = pm.HalfCauchy('sigma', beta=10, testval=1.)\n",
    "    intercept = pm.Normal('Intercept', 0, sd=20)\n",
    "    x_coeff = pm.Normal('x', 0, sd=20)\n",
    "\n",
    "    # Define likelihood\n",
    "    likelihood = pm.Normal('y', mu=intercept + x_coeff * x,\n",
    "                        sd=sigma, observed=y)\n",
    "\n",
    "    # Inference!\n",
    "    start = pm.find_MAP() # Find starting value by optimization\n",
    "    step = pm.NUTS(scaling=start) # Instantiate MCMC sampling algorithm\n",
    "    trace = pm.sample(2000, step, start=start, progressbar=False) # draw 2000 posterior samples using NUTS sampling"
   ]
  },
  {
   "cell_type": "code",
   "execution_count": null,
   "metadata": {
    "collapsed": true
   },
   "outputs": [],
   "source": [
    "plt.figure(figsize=(7, 7))\n",
    "traceplot(trace[100:])\n",
    "plt.tight_layout();"
   ]
  },
  {
   "cell_type": "markdown",
   "metadata": {},
   "source": [
    "\n",
    "### Important Summary Values for Multivariate Regression\n",
    "\n",
    "* R-squared: When using many predictor variables, this value often becomes inflated. To avoid misinterpretation we must check the ratio between R-squared and the adjusted R-squared values. Gennerally speaking a higher the ratio signifies more redundancies. A ratio that is greater than .20 requires further assessment of the predictors included. \n",
    "\n",
    "* standard errors: Larger values signifies more uncertaintity regarding the variable's coefficient estimate. \n",
    "\n",
    "* p values: Any variables with a p value < our significance level (0.05), are not likely to be useful in predicting the dependent variable. \n",
    "\n",
    "* condition number test: \"It signals numeric unstable results when trying an optimization based on matrix inversion. The cause of such instability is due to multicollinearity\"(71). \"When a condition number is over the score of 30, there's a clear signal that unstable results are rendering the result less reliable. Predictions may be affected by errors and the coef cients may drastically change when rerunning the same regression analysis with a subset or a different set of observations\" (71).\n",
    "\n"
   ]
  },
  {
   "cell_type": "markdown",
   "metadata": {},
   "source": [
    "### Accounting for Collinearity\n",
    "\n",
    "######  Deffinitions\n",
    "* Shared variance: The amount of information that is expressed by another predictor variable.\n",
    "* Collinearity: Shared variance between two variables  \n",
    "* Multi-collinearity: Shared variance among three or more variables  \n",
    "* Partial correlation: The measurement of the association due to unique variance. Signifies a predictor variables contribution in predicting the target variable.\n",
    "\n",
    "In the previous cells, we assessed each predictor variable's correlation with our target variable using Pearsons Correlation Coefficient. It is important to note however, this approach is only valid when measuring a relationship between two independent variables.\n",
    "Therefore, if we want to include multiple features in our linear regression model, we must assess our features for collinearity. Meaning we must determine whether \"the relation between the variance of the predictor and that of the target is due to unique or shared variance\" (Linear Regression, p72).  \n",
    "\n",
    "This can be done by evaluating the partial correlation of each feature we plan to utilize in our model. This value \"represents the exclusive contribution of a variable in predicting the response,\" and will help us avoid misinterpreting collinear features as significant predictors (Linear Regression, p73).\n",
    "\n",
    "\n",
    "Both correlation matrices and heatmaps serve as quick methods to check for multi-collinearity amongst our predictors:"
   ]
  },
  {
   "cell_type": "code",
   "execution_count": 39,
   "metadata": {
    "collapsed": false
   },
   "outputs": [
    {
     "name": "stdout",
     "output_type": "stream",
     "text": [
      "                 cnty_dm_pct_adj  n_tracts\n",
      "cnty_dm_pct_adj         1.000000  0.172374\n",
      "n_tracts                0.172374  1.000000\n"
     ]
    }
   ],
   "source": [
    "correlation_matrix = X.corr()\n",
    "print (correlation_matrix)\n",
    "\n",
    "def visualize_correlation_matrix(data, hurdle = 0.0):\n",
    "    import matplotlib as mpl\n",
    "    R = np.corrcoef(data, rowvar=0)\n",
    "    R[np.where(np.abs(R)<hurdle)] = 0.0\n",
    "    heatmap = plt.pcolor(R, cmap=mpl.cm.coolwarm, alpha=0.8)\n",
    "    heatmap.axes.set_frame_on(False)\n",
    "    heatmap.axes.set_yticks(np.arange(R.shape[0]) + 0.5, minor=False)\n",
    "    heatmap.axes.set_xticks(np.arange(R.shape[1]) + 0.5, minor=False)\n",
    "    heatmap.axes.set_xticklabels(variables, minor=False)\n",
    "    plt.xticks(rotation=90)\n",
    "    heatmap.axes.set_yticklabels(variables, minor=False)\n",
    "    plt.tick_params(axis='both', which='both', bottom='off', \\\n",
    "    top='off', left = 'off', right = 'off')\n",
    "    plt.colorbar()\n",
    "    plt.show()\n",
    "    "
   ]
  },
  {
   "cell_type": "code",
   "execution_count": 40,
   "metadata": {
    "collapsed": false
   },
   "outputs": [
    {
     "data": {
      "image/png": "[encoded data removed]",
      "text/plain": [
       "<matplotlib.figure.Figure at 0x11ac1cb50>"
      ]
     },
     "metadata": {},
     "output_type": "display_data"
    }
   ],
   "source": [
    "visualize_correlation_matrix(X, hurdle=0.5)#translates into a 25% shared variance"
   ]
  },
  {
   "cell_type": "markdown",
   "metadata": {},
   "source": [
    "\"An even more automatic way to detect such associations (and figure out numerical problems in a matrix inversion) is to use eigenvectors. Explained in layman's terms, eigenvectors are a very smart way to recombine the variance among the variables, creating new features accumulating all the shared variance. Such recombination can be achieved using the NumPy linalg.eig function, resulting in a vector of eigenvalues (representing the amount of recombined variance for each new variable) and eigenvectors (a matrix telling us how the new variables relate to the old ones)\" (Regression Analysis, p.74):"
   ]
  },
  {
   "cell_type": "code",
   "execution_count": 41,
   "metadata": {
    "collapsed": true
   },
   "outputs": [],
   "source": [
    "corr = np.corrcoef(X, rowvar=0)\n",
    "eigenvalues, eigenvectors = np.linalg.eig(corr)"
   ]
  },
  {
   "cell_type": "markdown",
   "metadata": {},
   "source": [
    "After extracting the eigenvalues, we print them in descending order and look for any element whose value is near to zero or small compared to the others. Near zero values can represent a real problem for normal equations and other optimization methods based on matrix inversion. Small values represent a high but not critical source of multicollinearity. "
   ]
  },
  {
   "cell_type": "code",
   "execution_count": 42,
   "metadata": {
    "collapsed": false
   },
   "outputs": [
    {
     "name": "stdout",
     "output_type": "stream",
     "text": [
      "[ 1.1724  0.8276]\n"
     ]
    }
   ],
   "source": [
    "print (eigenvalues)"
   ]
  },
  {
   "cell_type": "markdown",
   "metadata": {},
   "source": [
    "Using their index position in the list of eigenvalues, you can recall their speci c vector from eigenvectors, which contains all the variable loadings—that is, the\n",
    "level of association with the original variables. In our example, we investigate the eigenvector at index 5 and 6."
   ]
  },
  {
   "cell_type": "code",
   "execution_count": 43,
   "metadata": {
    "collapsed": false
   },
   "outputs": [
    {
     "name": "stdout",
     "output_type": "stream",
     "text": [
      "[]\n"
     ]
    }
   ],
   "source": [
    "\n",
    "def id_near_zero_eigenvalues(eig_vals):\n",
    "    mc_sources = []\n",
    "    for i in range(len(eigenvalues)):\n",
    "        if eigenvalues[i] <= .1:\n",
    "            mc_sources += [i]\n",
    "    return mc_sources\n",
    "\n",
    "print id_near_zero_eigenvalues(eigenvalues)"
   ]
  },
  {
   "cell_type": "code",
   "execution_count": 44,
   "metadata": {
    "collapsed": false
   },
   "outputs": [
    {
     "data": {
      "text/html": [
       "<div>\n",
       "<table border=\"1\" class=\"dataframe\">\n",
       "  <thead>\n",
       "    <tr style=\"text-align: right;\">\n",
       "      <th></th>\n",
       "      <th>count</th>\n",
       "    </tr>\n",
       "  </thead>\n",
       "  <tbody>\n",
       "  </tbody>\n",
       "</table>\n",
       "</div>"
      ],
      "text/plain": [
       "Empty DataFrame\n",
       "Columns: [count]\n",
       "Index: []"
      ]
     },
     "execution_count": 44,
     "metadata": {},
     "output_type": "execute_result"
    }
   ],
   "source": [
    "def exclude_collinear_vars(eig_vecs, explanatory_vars):\n",
    "    good_vars = []\n",
    "    eig_vecs = list(eig_vecs)\n",
    "    not_collinear = [i for i in range(len(eig_vecs)) if eig_vecs[i] <= 0.1 and eig_vecs[i] >= -0.1]\n",
    "    for i in not_collinear:\n",
    "        good_vars += [explanatory_vars[i]]\n",
    "    return good_vars #var for var in variables if not_collinear\n",
    "\n",
    "def id_best_feats(eig_vals):\n",
    "    import itertools, collections\n",
    "    good_vars = []\n",
    "    assess_further = id_near_zero_eigenvalues(eigenvalues)\n",
    "    for i in assess_further:\n",
    "        good_vars += [exclude_collinear_vars(eigenvectors[:,i], variables)]\n",
    "    counter = collections.Counter(itertools.chain(*good_vars))\n",
    "    times_nomc_found = pd.DataFrame([counter.values()], columns=counter.keys()).T\n",
    "    times_nomc_found.columns = ['count']\n",
    "    return times_nomc_found#good_vars\n",
    "\n",
    "num_no_mc_found = id_best_feats(eigenvalues)\n",
    "num_no_mc_found"
   ]
  },
  {
   "cell_type": "code",
   "execution_count": 45,
   "metadata": {
    "collapsed": false
   },
   "outputs": [],
   "source": [
    "from sklearn.preprocessing import StandardScaler\n",
    "# dataset = df[variables + ['food_deserts']]#perc_effected\n",
    "# observations = len(dataset)\n",
    "# variables = dataset.columns\n",
    "standardization = StandardScaler()\n",
    "Xst = standardization.fit_transform(X)\n",
    "original_means = standardization.mean_\n",
    "originanal_stds = standardization.std_\n",
    "Xst = np.column_stack((Xst,np.ones(observations)))\n",
    "# y  = dataset['food_deserts'].values"
   ]
  },
  {
   "cell_type": "code",
   "execution_count": 46,
   "metadata": {
    "collapsed": false
   },
   "outputs": [
    {
     "data": {
      "image/png": "[encoded data removed]",
      "text/plain": [
       "<matplotlib.figure.Figure at 0x119145610>"
      ]
     },
     "metadata": {},
     "output_type": "display_data"
    }
   ],
   "source": [
    "xstd= pd.DataFrame(Xst, columns=variables+['constant']).describe()\n",
    "#sns.boxplot(Xst[:,:-1])\n",
    "#boxplot = plt.boxplot(Xst[:,:-1],labels=variables)\n",
    "ax = sns.boxplot(data=xstd.drop('constant',axis=1), orient=\"h\", whis=1.5)\n"
   ]
  },
  {
   "cell_type": "code",
   "execution_count": 47,
   "metadata": {
    "collapsed": false
   },
   "outputs": [
    {
     "data": {
      "image/png": "[encoded data removed]",
      "text/plain": [
       "<matplotlib.figure.Figure at 0x1196422d0>"
      ]
     },
     "metadata": {},
     "output_type": "display_data"
    },
    {
     "data": {
      "image/png": "[encoded data removed]",
      "text/plain": [
       "<matplotlib.figure.Figure at 0x11ad740d0>"
      ]
     },
     "metadata": {},
     "output_type": "display_data"
    }
   ],
   "source": [
    "for i in range(len(variables)):\n",
    "    sns.boxplot(df[variables[i]])\n",
    "    plt.show()"
   ]
  },
  {
   "cell_type": "code",
   "execution_count": 140,
   "metadata": {
    "collapsed": false
   },
   "outputs": [
    {
     "name": "stdout",
     "output_type": "stream",
     "text": [
      "[ 0.3672  0.311   0.1127  0.0768  0.0532  0.0358  0.0299  0.0132  0.0002]\n"
     ]
    },
    {
     "data": {
      "image/png": "[encoded data removed]",
      "text/plain": [
       "<matplotlib.figure.Figure at 0x119749710>"
      ]
     },
     "metadata": {},
     "output_type": "display_data"
    }
   ],
   "source": [
    "standardization = StandardScaler(with_mean=True, with_std=True)\n",
    "Xs = standardization.fit_transform(X)\n",
    "\n",
    "from sklearn.decomposition import PCA\n",
    "pca = PCA()\n",
    "pca.fit(Xs)\n",
    "C = pca.transform(Xs)\n",
    "print (pca.explained_variance_ratio_)\n",
    "explained_variance = pca.explained_variance_ratio_\n",
    "plt.title('Portion of explained variance by component')\n",
    "range_ = [r+1 for r in range(len(explained_variance))]\n",
    "plt.bar(range_,explained_variance, color=\"b\", alpha=0.4, align=\"center\")\n",
    "plt.plot(range_,explained_variance,'ro-')\n",
    "for pos, pct in enumerate(explained_variance):\n",
    "    plt.annotate(str(round(pct,2)), (pos+1,pct+0.007))\n",
    "plt.xticks(range_)\n",
    "plt.show()\n"
   ]
  },
  {
   "cell_type": "code",
   "execution_count": 142,
   "metadata": {
    "collapsed": false
   },
   "outputs": [
    {
     "data": {
      "text/plain": [
       "<matplotlib.text.Text at 0x120f53190>"
      ]
     },
     "execution_count": 142,
     "metadata": {},
     "output_type": "execute_result"
    },
    {
     "data": {
      "image/png": "[encoded data removed]",
      "text/plain": [
       "<matplotlib.figure.Figure at 0x121253c50>"
      ]
     },
     "metadata": {},
     "output_type": "display_data"
    }
   ],
   "source": [
    "scatter = plt.scatter(C[:,0],C[:,1], facecolors='none', edgecolors='black')\n",
    "#plt.axhline(y=4, xmin=-6, xmax=6, linewidth=2, color = 'r')\n",
    "plt.xlabel('principle component 1')\n",
    "plt.ylabel('principle component 2')"
   ]
  },
  {
   "cell_type": "code",
   "execution_count": 143,
   "metadata": {
    "collapsed": false
   },
   "outputs": [
    {
     "data": {
      "text/plain": [
       "(array([18]),)"
      ]
     },
     "execution_count": 143,
     "metadata": {},
     "output_type": "execute_result"
    }
   ],
   "source": [
    "np.where(C[:,0]>6)"
   ]
  },
  {
   "cell_type": "code",
   "execution_count": 144,
   "metadata": {
    "collapsed": false
   },
   "outputs": [
    {
     "data": {
      "text/plain": [
       "<matplotlib.text.Text at 0x120f30550>"
      ]
     },
     "execution_count": 144,
     "metadata": {},
     "output_type": "execute_result"
    },
    {
     "data": {
      "image/png": "[encoded data removed]",
      "text/plain": [
       "<matplotlib.figure.Figure at 0x12103f210>"
      ]
     },
     "metadata": {},
     "output_type": "display_data"
    }
   ],
   "source": [
    "scatter = plt.scatter(C[:,0],C[:,2], facecolors='none', edgecolors='black')\n",
    "#plt.axhline(y=-2, xmin=-6, xmax=6, linewidth=2, color = 'r')\n",
    "plt.xlabel('principle component 1')\n",
    "plt.ylabel('principle component 3')"
   ]
  },
  {
   "cell_type": "code",
   "execution_count": 146,
   "metadata": {
    "collapsed": false
   },
   "outputs": [
    {
     "data": {
      "text/plain": [
       "9.258620689655173"
      ]
     },
     "execution_count": 146,
     "metadata": {},
     "output_type": "execute_result"
    },
    {
     "data": {
      "image/png": "[encoded data removed]",
      "text/plain": [
       "<matplotlib.figure.Figure at 0x117ab0b10>"
      ]
     },
     "metadata": {},
     "output_type": "display_data"
    }
   ],
   "source": [
    "np.where(C[:,2] < -4)\n",
    "np.shape(X)\n",
    "sns.distplot(dataset['POP2010'] / dataset['POP2010'].sum())\n",
    "#sns.distplot(df['food_deserts'] / df['food_deserts'].sum())\n",
    "df['food_deserts'].mean()\n",
    "#sns.distplot(df['food_deserts'])"
   ]
  },
  {
   "cell_type": "code",
   "execution_count": 147,
   "metadata": {
    "collapsed": false
   },
   "outputs": [
    {
     "name": "stdout",
     "output_type": "stream",
     "text": [
      "These are our final standardized coefficients: 4.2482, 2.0958, -2.9734, 2.4845, 2.4439, -40.2586, 1.4762, -0.0157, 49.5932, 9.2586\n"
     ]
    }
   ],
   "source": [
    "import random\n",
    "\n",
    "def random_w( p ):\n",
    "    return np.array([np.random.normal() for j in range(p)])\n",
    "\n",
    "def hypothesis(X,w):\n",
    "    return np.dot(X,w)\n",
    "\n",
    "def loss(X,w,y):\n",
    "    return hypothesis(X,w) - y\n",
    "\n",
    "def squared_loss(X,w,y):\n",
    "    return loss(X,w,y)**2\n",
    "\n",
    "def gradient(X,w,y):\n",
    "    gradients = list()\n",
    "    n = float(len( y ))\n",
    "    for j in range(len(w)):\n",
    "        gradients.append(np.sum(loss(X,w,y) * X[:,j]) / n)\n",
    "    return gradients\n",
    "\n",
    "def update(X,w,y, alpha=0.01):\n",
    "    return [t - alpha*g for t, g in zip(w, gradient(X,w,y))]\n",
    "    \n",
    "def optimize(X,y, alpha=0.01, eta = 10**-12, iterations = 1000):\n",
    "    w = random_w(X.shape[1])\n",
    "    path = list()\n",
    "    for k in range(iterations):\n",
    "        SSL = np.sum(squared_loss(X,w,y))\n",
    "        new_w = update(X,w,y, alpha=alpha)\n",
    "        new_SSL = np.sum(squared_loss(X,new_w,y))\n",
    "        w = new_w\n",
    "        if k>=5 and (new_SSL - SSL <= eta and new_SSL - SSL >= -eta):\n",
    "            path.append(new_SSL)\n",
    "            return w, path\n",
    "        if k % (iterations / 20) == 0:\n",
    "            path.append(new_SSL)\n",
    "    return w, path\n",
    "\n",
    "alpha = 0.02\n",
    "w, path = optimize(Xst, y, alpha, eta = 10**-12, iterations = 20000)\n",
    "print (\"These are our final standardized coefficients: \" + ', '.join(map(lambda x: \"%0.4f\" % x, w)))\n"
   ]
  },
  {
   "cell_type": "code",
   "execution_count": 148,
   "metadata": {
    "collapsed": false
   },
   "outputs": [
    {
     "name": "stdout",
     "output_type": "stream",
     "text": [
      "    bias: -67.2762\n",
      "p_hs_edatt:   0.5663\n",
      "unemployment_rate:   0.8143\n",
      "opiods_rx_1000:  -0.0085\n",
      "cnty_obesity_pct_adj:   0.7034\n",
      "     ABR:   0.1995\n",
      "   FFR07:  -0.0389\n",
      "     std:   0.0079\n",
      "minority:  -0.0014\n",
      " POP2010: 346.6149\n"
     ]
    }
   ],
   "source": [
    "unstandardized_betas = w[:-1] / originanal_stds\n",
    "unstandardized_bias  = w[-1]-np.sum((original_means / originanal_stds) * w[:-1])\n",
    "print ('%8s: %8.4f' % ('bias', unstandardized_bias))\n",
    "for beta,varname in zip(unstandardized_betas, variables):\n",
    "    print ('%8s: %8.4f' % (varname, beta))"
   ]
  },
  {
   "cell_type": "code",
   "execution_count": 149,
   "metadata": {
    "collapsed": false
   },
   "outputs": [
    {
     "data": {
      "text/html": [
       "<table class=\"simpletable\">\n",
       "<caption>OLS Regression Results</caption>\n",
       "<tr>\n",
       "  <th>Dep. Variable:</th>            <td>y</td>        <th>  R-squared:         </th> <td>   0.828</td>\n",
       "</tr>\n",
       "<tr>\n",
       "  <th>Model:</th>                   <td>OLS</td>       <th>  Adj. R-squared:    </th> <td>   0.796</td>\n",
       "</tr>\n",
       "<tr>\n",
       "  <th>Method:</th>             <td>Least Squares</td>  <th>  F-statistic:       </th> <td>   25.68</td>\n",
       "</tr>\n",
       "<tr>\n",
       "  <th>Date:</th>             <td>Sun, 07 Aug 2016</td> <th>  Prob (F-statistic):</th> <td>1.89e-15</td>\n",
       "</tr>\n",
       "<tr>\n",
       "  <th>Time:</th>                 <td>00:57:16</td>     <th>  Log-Likelihood:    </th> <td> -183.66</td>\n",
       "</tr>\n",
       "<tr>\n",
       "  <th>No. Observations:</th>      <td>    58</td>      <th>  AIC:               </th> <td>   387.3</td>\n",
       "</tr>\n",
       "<tr>\n",
       "  <th>Df Residuals:</th>          <td>    48</td>      <th>  BIC:               </th> <td>   407.9</td>\n",
       "</tr>\n",
       "<tr>\n",
       "  <th>Df Model:</th>              <td>     9</td>      <th>                     </th>     <td> </td>   \n",
       "</tr>\n",
       "<tr>\n",
       "  <th>Covariance Type:</th>      <td>nonrobust</td>    <th>                     </th>     <td> </td>   \n",
       "</tr>\n",
       "</table>\n",
       "<table class=\"simpletable\">\n",
       "<tr>\n",
       "            <td></td>              <th>coef</th>     <th>std err</th>      <th>t</th>      <th>P>|t|</th> <th>[95.0% Conf. Int.]</th> \n",
       "</tr>\n",
       "<tr>\n",
       "  <th>const</th>                <td>  -53.1840</td> <td>   25.131</td> <td>   -2.116</td> <td> 0.040</td> <td> -103.714    -2.654</td>\n",
       "</tr>\n",
       "<tr>\n",
       "  <th>p_hs_edatt</th>           <td>    0.4708</td> <td>    0.240</td> <td>    1.964</td> <td> 0.055</td> <td>   -0.011     0.953</td>\n",
       "</tr>\n",
       "<tr>\n",
       "  <th>unemployment_rate</th>    <td>    0.6643</td> <td>    0.540</td> <td>    1.231</td> <td> 0.224</td> <td>   -0.421     1.749</td>\n",
       "</tr>\n",
       "<tr>\n",
       "  <th>opiods_rx_1000</th>       <td>   -0.0053</td> <td>    0.004</td> <td>   -1.203</td> <td> 0.235</td> <td>   -0.014     0.004</td>\n",
       "</tr>\n",
       "<tr>\n",
       "  <th>cnty_obesity_pct_adj</th> <td>    0.3730</td> <td>    0.365</td> <td>    1.021</td> <td> 0.313</td> <td>   -0.362     1.108</td>\n",
       "</tr>\n",
       "<tr>\n",
       "  <th>ABR</th>                  <td>    0.1516</td> <td>    0.104</td> <td>    1.453</td> <td> 0.153</td> <td>   -0.058     0.361</td>\n",
       "</tr>\n",
       "<tr>\n",
       "  <th>FFR07</th>                <td>   -0.0710</td> <td>    0.012</td> <td>   -5.748</td> <td> 0.000</td> <td>   -0.096    -0.046</td>\n",
       "</tr>\n",
       "<tr>\n",
       "  <th>std</th>                  <td>    0.0088</td> <td>    0.007</td> <td>    1.349</td> <td> 0.184</td> <td>   -0.004     0.022</td>\n",
       "</tr>\n",
       "<tr>\n",
       "  <th>minority</th>             <td>    0.0221</td> <td>    0.118</td> <td>    0.188</td> <td> 0.852</td> <td>   -0.215     0.259</td>\n",
       "</tr>\n",
       "<tr>\n",
       "  <th>POP2010</th>              <td>  578.3946</td> <td>   89.244</td> <td>    6.481</td> <td> 0.000</td> <td>  398.957   757.832</td>\n",
       "</tr>\n",
       "</table>\n",
       "<table class=\"simpletable\">\n",
       "<tr>\n",
       "  <th>Omnibus:</th>       <td>55.805</td> <th>  Durbin-Watson:     </th> <td>   2.051</td>\n",
       "</tr>\n",
       "<tr>\n",
       "  <th>Prob(Omnibus):</th> <td> 0.000</td> <th>  Jarque-Bera (JB):  </th> <td> 385.946</td>\n",
       "</tr>\n",
       "<tr>\n",
       "  <th>Skew:</th>          <td> 2.498</td> <th>  Prob(JB):          </th> <td>1.56e-84</td>\n",
       "</tr>\n",
       "<tr>\n",
       "  <th>Kurtosis:</th>      <td>14.608</td> <th>  Cond. No.          </th> <td>1.33e+05</td>\n",
       "</tr>\n",
       "</table>"
      ],
      "text/plain": [
       "<class 'statsmodels.iolib.summary.Summary'>\n",
       "\"\"\"\n",
       "                            OLS Regression Results                            \n",
       "==============================================================================\n",
       "Dep. Variable:                      y   R-squared:                       0.828\n",
       "Model:                            OLS   Adj. R-squared:                  0.796\n",
       "Method:                 Least Squares   F-statistic:                     25.68\n",
       "Date:                Sun, 07 Aug 2016   Prob (F-statistic):           1.89e-15\n",
       "Time:                        00:57:16   Log-Likelihood:                -183.66\n",
       "No. Observations:                  58   AIC:                             387.3\n",
       "Df Residuals:                      48   BIC:                             407.9\n",
       "Df Model:                           9                                         \n",
       "Covariance Type:            nonrobust                                         \n",
       "========================================================================================\n",
       "                           coef    std err          t      P>|t|      [95.0% Conf. Int.]\n",
       "----------------------------------------------------------------------------------------\n",
       "const                  -53.1840     25.131     -2.116      0.040      -103.714    -2.654\n",
       "p_hs_edatt               0.4708      0.240      1.964      0.055        -0.011     0.953\n",
       "unemployment_rate        0.6643      0.540      1.231      0.224        -0.421     1.749\n",
       "opiods_rx_1000          -0.0053      0.004     -1.203      0.235        -0.014     0.004\n",
       "cnty_obesity_pct_adj     0.3730      0.365      1.021      0.313        -0.362     1.108\n",
       "ABR                      0.1516      0.104      1.453      0.153        -0.058     0.361\n",
       "FFR07                   -0.0710      0.012     -5.748      0.000        -0.096    -0.046\n",
       "std                      0.0088      0.007      1.349      0.184        -0.004     0.022\n",
       "minority                 0.0221      0.118      0.188      0.852        -0.215     0.259\n",
       "POP2010                578.3946     89.244      6.481      0.000       398.957   757.832\n",
       "==============================================================================\n",
       "Omnibus:                       55.805   Durbin-Watson:                   2.051\n",
       "Prob(Omnibus):                  0.000   Jarque-Bera (JB):              385.946\n",
       "Skew:                           2.498   Prob(JB):                     1.56e-84\n",
       "Kurtosis:                      14.608   Cond. No.                     1.33e+05\n",
       "==============================================================================\n",
       "\n",
       "Warnings:\n",
       "[1] Standard Errors assume that the covariance matrix of the errors is correctly specified.\n",
       "[2] The condition number is large, 1.33e+05. This might indicate that there are\n",
       "strong multicollinearity or other numerical problems.\n",
       "\"\"\""
      ]
     },
     "execution_count": 149,
     "metadata": {},
     "output_type": "execute_result"
    }
   ],
   "source": [
    "cols = dataset.columns.tolist()\n",
    "y = dataset[cols[-1]].values\n",
    "#y2 = df['perc_effected'].values\n",
    "X = df[cols[:-1]]\n",
    "observations = len(df)\n",
    "variables = X.columns.tolist()\n",
    "\n",
    "Xc = sm.add_constant(X)\n",
    "linear_regression = sm.OLS(y,Xc)\n",
    "fitted_model = linear_regression.fit()\n",
    "fitted_model.summary()"
   ]
  },
  {
   "cell_type": "code",
   "execution_count": 150,
   "metadata": {
    "collapsed": false
   },
   "outputs": [
    {
     "data": {
      "text/html": [
       "<div>\n",
       "<table border=\"1\" class=\"dataframe\">\n",
       "  <thead>\n",
       "    <tr style=\"text-align: right;\">\n",
       "      <th></th>\n",
       "      <th>p_hs_edatt</th>\n",
       "      <th>unemployment_rate</th>\n",
       "      <th>opiods_rx_1000</th>\n",
       "      <th>cnty_obesity_pct_adj</th>\n",
       "      <th>ABR</th>\n",
       "      <th>FFR07</th>\n",
       "      <th>std</th>\n",
       "      <th>minority</th>\n",
       "      <th>POP2010</th>\n",
       "    </tr>\n",
       "    <tr>\n",
       "      <th>County</th>\n",
       "      <th></th>\n",
       "      <th></th>\n",
       "      <th></th>\n",
       "      <th></th>\n",
       "      <th></th>\n",
       "      <th></th>\n",
       "      <th></th>\n",
       "      <th></th>\n",
       "      <th></th>\n",
       "    </tr>\n",
       "  </thead>\n",
       "  <tbody>\n",
       "    <tr>\n",
       "      <th>Alameda</th>\n",
       "      <td>85.700000</td>\n",
       "      <td>8.208532</td>\n",
       "      <td>557.20</td>\n",
       "      <td>20.4</td>\n",
       "      <td>18.09375</td>\n",
       "      <td>1112.0</td>\n",
       "      <td>607.109</td>\n",
       "      <td>48.341250</td>\n",
       "      <td>0.153716</td>\n",
       "    </tr>\n",
       "    <tr>\n",
       "      <th>Alpine</th>\n",
       "      <td>81.668627</td>\n",
       "      <td>11.669231</td>\n",
       "      <td>578.68</td>\n",
       "      <td>23.2</td>\n",
       "      <td>0.00000</td>\n",
       "      <td>2.0</td>\n",
       "      <td>0.000</td>\n",
       "      <td>31.040000</td>\n",
       "      <td>0.000000</td>\n",
       "    </tr>\n",
       "    <tr>\n",
       "      <th>Amador</th>\n",
       "      <td>87.700000</td>\n",
       "      <td>11.056250</td>\n",
       "      <td>1244.76</td>\n",
       "      <td>22.8</td>\n",
       "      <td>19.00000</td>\n",
       "      <td>18.0</td>\n",
       "      <td>198.082</td>\n",
       "      <td>5.553333</td>\n",
       "      <td>0.003760</td>\n",
       "    </tr>\n",
       "    <tr>\n",
       "      <th>Butte</th>\n",
       "      <td>86.100000</td>\n",
       "      <td>11.229358</td>\n",
       "      <td>1389.20</td>\n",
       "      <td>24.3</td>\n",
       "      <td>23.88750</td>\n",
       "      <td>149.0</td>\n",
       "      <td>394.598</td>\n",
       "      <td>9.656250</td>\n",
       "      <td>0.022289</td>\n",
       "    </tr>\n",
       "    <tr>\n",
       "      <th>Calaveras</th>\n",
       "      <td>93.100000</td>\n",
       "      <td>8.125000</td>\n",
       "      <td>1068.98</td>\n",
       "      <td>25.3</td>\n",
       "      <td>17.70000</td>\n",
       "      <td>27.0</td>\n",
       "      <td>120.997</td>\n",
       "      <td>6.080000</td>\n",
       "      <td>0.004523</td>\n",
       "    </tr>\n",
       "  </tbody>\n",
       "</table>\n",
       "</div>"
      ],
      "text/plain": [
       "           p_hs_edatt  unemployment_rate  opiods_rx_1000  \\\n",
       "County                                                     \n",
       "Alameda     85.700000           8.208532          557.20   \n",
       "Alpine      81.668627          11.669231          578.68   \n",
       "Amador      87.700000          11.056250         1244.76   \n",
       "Butte       86.100000          11.229358         1389.20   \n",
       "Calaveras   93.100000           8.125000         1068.98   \n",
       "\n",
       "           cnty_obesity_pct_adj       ABR   FFR07      std   minority  \\\n",
       "County                                                                  \n",
       "Alameda                    20.4  18.09375  1112.0  607.109  48.341250   \n",
       "Alpine                     23.2   0.00000     2.0    0.000  31.040000   \n",
       "Amador                     22.8  19.00000    18.0  198.082   5.553333   \n",
       "Butte                      24.3  23.88750   149.0  394.598   9.656250   \n",
       "Calaveras                  25.3  17.70000    27.0  120.997   6.080000   \n",
       "\n",
       "            POP2010  \n",
       "County               \n",
       "Alameda    0.153716  \n",
       "Alpine     0.000000  \n",
       "Amador     0.003760  \n",
       "Butte      0.022289  \n",
       "Calaveras  0.004523  "
      ]
     },
     "execution_count": 150,
     "metadata": {},
     "output_type": "execute_result"
    }
   ],
   "source": [
    "X.head()"
   ]
  },
  {
   "cell_type": "markdown",
   "metadata": {},
   "source": [
    "### Standardized Coefficients"
   ]
  },
  {
   "cell_type": "code",
   "execution_count": 151,
   "metadata": {
    "collapsed": false
   },
   "outputs": [
    {
     "name": "stdout",
     "output_type": "stream",
     "text": [
      "578.395 POP2010\n",
      " 0.664 unemployment_rate\n",
      " 0.471 p_hs_edatt\n",
      " 0.373 cnty_obesity_pct_adj\n",
      " 0.152 ABR\n",
      " 0.071 FFR07\n",
      " 0.022 minority\n",
      " 0.009 std\n",
      " 0.005 opiods_rx_1000\n",
      "82.756 POP2010\n",
      "73.441 FFR07\n",
      " 3.532 p_hs_edatt\n",
      " 1.857 ABR\n",
      " 1.854 opiods_rx_1000\n",
      " 1.710 unemployment_rate\n",
      " 1.635 std\n",
      " 1.317 cnty_obesity_pct_adj\n",
      " 0.251 minority\n"
     ]
    }
   ],
   "source": [
    "def unstandardized_coeffs(X,predictor_names,y):\n",
    "    res = {}\n",
    "    not_std_model = linear_model.LinearRegression(normalize=False,fit_intercept=True)\n",
    "    not_std_model.fit(X,y)\n",
    "    for coef, var in sorted(zip(map(abs,not_std_model.coef_), predictor_names), reverse=True):\n",
    "        print (\"%6.3f %s\" % (coef,var))\n",
    "        res[var] = coef\n",
    "    return res\n",
    "\n",
    "def standardized_coeffs(X,predictor_names,y):\n",
    "    res={}\n",
    "    from sklearn.pipeline import make_pipeline\n",
    "    standardization = StandardScaler()\n",
    "    reg_model = linear_model.LinearRegression(normalize=False,fit_intercept=True)\n",
    "    Std_model = make_pipeline(standardization,reg_model)\n",
    "    Std_model.fit(X,y)\n",
    "    for coef, var in sorted(zip(map(abs,Std_model.steps[1][1].coef_), predictor_names), reverse=True):\n",
    "        print (\"%6.3f %s\" % (coef,var))\n",
    "        res[var] = coef\n",
    "    return res\n",
    "\n",
    "nonstd_coeffs = unstandardized_coeffs(X=X,predictor_names=dataset.columns[:-1],y=y)\n",
    "\n",
    "std_coeffs = standardized_coeffs(X=X,predictor_names=dataset.columns[:-1],y=y)\n",
    "\n",
    "# linear_regression = linear_model.LinearRegression(normalize=False,fit_intercept=True)\n",
    "# from sklearn.pipeline import make_pipeline\n",
    "# standardization = StandardScaler()\n",
    "# Stand_coef_linear_reg = make_pipeline(standardization,linear_regression)\n",
    "# linear_regression.fit(X,y)\n",
    "# for coef, var in sorted(zip(map(abs,linear_regression.coef_), dataset.columns[:-1]), reverse=True):\n",
    "#     print (\"%6.3f %s\" % (coef,var))"
   ]
  },
  {
   "cell_type": "code",
   "execution_count": 152,
   "metadata": {
    "collapsed": false
   },
   "outputs": [
    {
     "data": {
      "text/html": [
       "<div>\n",
       "<table border=\"1\" class=\"dataframe\">\n",
       "  <thead>\n",
       "    <tr style=\"text-align: right;\">\n",
       "      <th></th>\n",
       "      <th>standardized</th>\n",
       "      <th>non_standardized</th>\n",
       "    </tr>\n",
       "  </thead>\n",
       "  <tbody>\n",
       "    <tr>\n",
       "      <th>ABR</th>\n",
       "      <td>1.857002</td>\n",
       "      <td>0.151567</td>\n",
       "    </tr>\n",
       "    <tr>\n",
       "      <th>FFR07</th>\n",
       "      <td>73.441441</td>\n",
       "      <td>0.071000</td>\n",
       "    </tr>\n",
       "    <tr>\n",
       "      <th>POP2010</th>\n",
       "      <td>82.755907</td>\n",
       "      <td>578.394552</td>\n",
       "    </tr>\n",
       "    <tr>\n",
       "      <th>cnty_obesity_pct_adj</th>\n",
       "      <td>1.317484</td>\n",
       "      <td>0.372979</td>\n",
       "    </tr>\n",
       "    <tr>\n",
       "      <th>minority</th>\n",
       "      <td>0.251066</td>\n",
       "      <td>0.022118</td>\n",
       "    </tr>\n",
       "    <tr>\n",
       "      <th>opiods_rx_1000</th>\n",
       "      <td>1.854442</td>\n",
       "      <td>0.005325</td>\n",
       "    </tr>\n",
       "    <tr>\n",
       "      <th>p_hs_edatt</th>\n",
       "      <td>3.531775</td>\n",
       "      <td>0.470783</td>\n",
       "    </tr>\n",
       "    <tr>\n",
       "      <th>std</th>\n",
       "      <td>1.635193</td>\n",
       "      <td>0.008796</td>\n",
       "    </tr>\n",
       "    <tr>\n",
       "      <th>unemployment_rate</th>\n",
       "      <td>1.709637</td>\n",
       "      <td>0.664275</td>\n",
       "    </tr>\n",
       "  </tbody>\n",
       "</table>\n",
       "</div>"
      ],
      "text/plain": [
       "                      standardized  non_standardized\n",
       "ABR                       1.857002          0.151567\n",
       "FFR07                    73.441441          0.071000\n",
       "POP2010                  82.755907        578.394552\n",
       "cnty_obesity_pct_adj      1.317484          0.372979\n",
       "minority                  0.251066          0.022118\n",
       "opiods_rx_1000            1.854442          0.005325\n",
       "p_hs_edatt                3.531775          0.470783\n",
       "std                       1.635193          0.008796\n",
       "unemployment_rate         1.709637          0.664275"
      ]
     },
     "execution_count": 152,
     "metadata": {},
     "output_type": "execute_result"
    }
   ],
   "source": [
    "#pd.DataFrame(std_coeffs)\n",
    "coeffs = pd.DataFrame.from_dict([std_coeffs, nonstd_coeffs]).T\n",
    "coeffs.columns=['standardized','non_standardized']\n",
    "coeffs"
   ]
  },
  {
   "cell_type": "markdown",
   "metadata": {},
   "source": [
    "## Partial R squared"
   ]
  },
  {
   "cell_type": "code",
   "execution_count": 153,
   "metadata": {
    "collapsed": false
   },
   "outputs": [
    {
     "name": "stdout",
     "output_type": "stream",
     "text": [
      "Baseline R2: 0.828\n",
      " 0.150 POP2010\n",
      " 0.118 FFR07\n",
      " 0.014 p_hs_edatt\n",
      " 0.008 ABR\n",
      " 0.007 std\n",
      " 0.005 unemployment_rate\n",
      " 0.005 opiods_rx_1000\n",
      " 0.004 cnty_obesity_pct_adj\n",
      " 0.000 minority\n"
     ]
    }
   ],
   "source": [
    "from sklearn.metrics import r2_score\n",
    "linear_regression = linear_model.LinearRegression(normalize=False,fit_intercept=True)\n",
    "def r2_est(X,y):\n",
    "    return r2_score(y,linear_regression.fit(X,y).predict(X))\n",
    "\n",
    "print ('Baseline R2: %0.3f' %  r2_est(X,y))\n",
    "r2_impact = list()\n",
    "for j in range(X.shape[1]):\n",
    "    selection = [i for i in range(X.shape[1]) if i!=j]\n",
    "    r2_impact.append(((r2_est(X,y) - r2_est(X.values [:,selection],y)) ,dataset.columns[j]))\n",
    "for imp, varname in sorted(r2_impact, reverse=True):\n",
    "    print ('%6.3f %s' %  (imp, varname))"
   ]
  },
  {
   "cell_type": "markdown",
   "metadata": {},
   "source": [
    "## Assessing Interactions"
   ]
  },
  {
   "cell_type": "code",
   "execution_count": 154,
   "metadata": {
    "collapsed": false
   },
   "outputs": [
    {
     "name": "stdout",
     "output_type": "stream",
     "text": [
      "Baseline R2: 0.828\n",
      "Adding interaction unemployment_rate *   FFR07 R2: 0.037\n",
      "Adding interaction unemployment_rate * POP2010 R2: 0.054\n",
      "Adding interaction opiods_rx_1000 *   FFR07 R2: 0.038\n",
      "Adding interaction opiods_rx_1000 * POP2010 R2: 0.033\n",
      "Adding interaction cnty_obesity_pct_adj *   FFR07 R2: 0.073\n",
      "Adding interaction cnty_obesity_pct_adj * POP2010 R2: 0.087\n",
      "Adding interaction      ABR *   FFR07 R2: 0.051\n",
      "Adding interaction      ABR * POP2010 R2: 0.063\n",
      "Adding interaction    FFR07 *     std R2: 0.010\n",
      "Adding interaction    FFR07 *minority R2: 0.033\n",
      "Adding interaction    FFR07 * POP2010 R2: 0.042\n",
      "Adding interaction      std * POP2010 R2: 0.011\n",
      "Adding interaction minority * POP2010 R2: 0.035\n"
     ]
    }
   ],
   "source": [
    "from sklearn.preprocessing import PolynomialFeatures\n",
    "from sklearn.metrics import r2_score\n",
    "linear_regression = linear_model.LinearRegression(normalize=False,fit_intercept=True)\n",
    "create_interactions = PolynomialFeatures(degree=2, interaction_only=True, include_bias=False)\n",
    "\n",
    "def r2_est(X,y):\n",
    "          return r2_score(y,linear_regression.fit(X,y).predict(X))\n",
    "baseline = r2_est(X,y)\n",
    "print ('Baseline R2: %0.3f' % baseline)\n",
    "Xi = create_interactions.fit_transform(X)\n",
    "main_effects = create_interactions.n_input_features_\n",
    "for k,effect in enumerate(create_interactions.powers_[(main_effects):]):\n",
    "    #print effect\n",
    "    idx= [i for i in range(len(effect)) if effect[i]==1]\n",
    "    #print \n",
    "    termA, termB =  variables[idx[0]],variables[idx[1]]\n",
    "    #termA, termB = variables[effect==1]\n",
    "    increment = r2_est(Xi[:,list(range(0,main_effects)) +[main_effects+k]],y) - baseline\n",
    "    if increment > 0.01:\n",
    "        print ('Adding interaction %8s *%8s R2: %5.3f' %  (termA, termB, increment))\n"
   ]
  },
  {
   "cell_type": "code",
   "execution_count": 155,
   "metadata": {
    "collapsed": false
   },
   "outputs": [
    {
     "name": "stdout",
     "output_type": "stream",
     "text": [
      "R2 of a model with cnty_obesity_pct_adj*POP2010 interaction: 0.915\n"
     ]
    },
    {
     "name": "stderr",
     "output_type": "stream",
     "text": [
      "/Users/desert/anaconda/envs/linreg/lib/python2.7/site-packages/ipykernel/__main__.py:2: SettingWithCopyWarning: \n",
      "A value is trying to be set on a copy of a slice from a DataFrame.\n",
      "Try using .loc[row_indexer,col_indexer] = value instead\n",
      "\n",
      "See the caveats in the documentation: http://pandas.pydata.org/pandas-docs/stable/indexing.html#indexing-view-versus-copy\n",
      "  from ipykernel import kernelapp as app\n"
     ]
    }
   ],
   "source": [
    "Xi = X\n",
    "Xi['interaction'] = X['cnty_obesity_pct_adj']*X['POP2010']\n",
    "print ('R2 of a model with cnty_obesity_pct_adj*POP2010 interaction: %0.3f' % r2_est(Xi,y))\n"
   ]
  },
  {
   "cell_type": "code",
   "execution_count": 156,
   "metadata": {
    "collapsed": false
   },
   "outputs": [
    {
     "name": "stdout",
     "output_type": "stream",
     "text": [
      "Head of residual [ 2.5856  0.345  -2.1147  8.8446  0.9684]\n",
      "Mean of residuals: -0.000\n",
      "Standard deviation of residuals: 4.030\n"
     ]
    }
   ],
   "source": [
    "residuals = y - linear_regression.predict(X)\n",
    "print (\"Head of residual %s\" % residuals[:5])\n",
    "print (\"Mean of residuals: %0.3f\" % np.mean(residuals))\n",
    "print (\"Standard deviation of residuals: %0.3f\" % np.std(residuals))"
   ]
  },
  {
   "cell_type": "code",
   "execution_count": 158,
   "metadata": {
    "collapsed": false
   },
   "outputs": [
    {
     "data": {
      "image/png": "[encoded data removed]",
      "text/plain": [
       "<matplotlib.figure.Figure at 0x1191c0dd0>"
      ]
     },
     "metadata": {},
     "output_type": "display_data"
    },
    {
     "data": {
      "image/png": "[encoded data removed]",
      "text/plain": [
       "<matplotlib.figure.Figure at 0x11aa3edd0>"
      ]
     },
     "metadata": {},
     "output_type": "display_data"
    },
    {
     "data": {
      "image/png": "[encoded data removed]",
      "text/plain": [
       "<matplotlib.figure.Figure at 0x11a790e10>"
      ]
     },
     "metadata": {},
     "output_type": "display_data"
    },
    {
     "data": {
      "image/png": "[encoded data removed]",
      "text/plain": [
       "<matplotlib.figure.Figure at 0x120f2b490>"
      ]
     },
     "metadata": {},
     "output_type": "display_data"
    },
    {
     "data": {
      "image/png": "[encoded data removed]",
      "text/plain": [
       "<matplotlib.figure.Figure at 0x120c4b650>"
      ]
     },
     "metadata": {},
     "output_type": "display_data"
    },
    {
     "data": {
      "image/png": "[encoded data removed]",
      "text/plain": [
       "<matplotlib.figure.Figure at 0x11bc83dd0>"
      ]
     },
     "metadata": {},
     "output_type": "display_data"
    },
    {
     "data": {
      "image/png": "[encoded data removed]",
      "text/plain": [
       "<matplotlib.figure.Figure at 0x120ecb9d0>"
      ]
     },
     "metadata": {},
     "output_type": "display_data"
    },
    {
     "data": {
      "image/png": "[encoded data removed]",
      "text/plain": [
       "<matplotlib.figure.Figure at 0x12102db90>"
      ]
     },
     "metadata": {},
     "output_type": "display_data"
    },
    {
     "data": {
      "image/png": "[encoded data removed]",
      "text/plain": [
       "<matplotlib.figure.Figure at 0x120a5f350>"
      ]
     },
     "metadata": {},
     "output_type": "display_data"
    },
    {
     "data": {
      "image/png": "[encoded data removed]",
      "text/plain": [
       "<matplotlib.figure.Figure at 0x1208ec490>"
      ]
     },
     "metadata": {},
     "output_type": "display_data"
    }
   ],
   "source": [
    "for c in variables+['food_deserts']:\n",
    "    sns.boxplot(x=df[c])\n",
    "    #plt.boxplot(dataset[c])#, labels=c)\n",
    "    plt.show()\n",
    "#plt.boxplot(y,labels=('perc_effected'))"
   ]
  },
  {
   "cell_type": "code",
   "execution_count": null,
   "metadata": {
    "collapsed": false
   },
   "outputs": [],
   "source": [
    "variables#2,5,7\n",
    "var=-1\n",
    "\n",
    "def map_bin(x, bins):\n",
    "    kwargs = {}\n",
    "    if x == max(bins):\n",
    "        kwargs['right'] = True\n",
    "    bin = bins[np.digitize([x], bins, **kwargs)[0]]\n",
    "    bin_lower = bins[np.digitize([x], bins, **kwargs)[0]-1]\n",
    "    return '[{0}-{1}]'.format(bin_lower, bin)\n",
    "#map_bin(274, freq_bins)\n",
    "\n",
    "\n",
    "def binning(col, cut_points, labels=None):\n",
    "    #Define min and max values:\n",
    "    minval = col.min()\n",
    "    maxval = col.max()\n",
    "\n",
    "    #create list by adding min and max to cut_points\n",
    "    #break_points = [minval] + cut_points + [maxval]\n",
    "    break_points=cut_points\n",
    "\n",
    "    #if no labels provided, use default labels 0 ... (n-1)\n",
    "    if not labels:\n",
    "        labels = range(len(cut_points)+1)\n",
    "    #Binning using cut function of pandas\n",
    "    colBin = pd.cut(col,bins=break_points,labels=labels,include_lowest=True)\n",
    "    return colBin\n",
    "\n",
    "#Binning age:\n",
    "cut_points = [.25,.5,.75]\n",
    "#binning(X[\"POP2010\"], cut_points)\n",
    "bins = [0, 25, 50, 75, 100]\n",
    "group_names = ['Low', 'Okay', 'Good', 'Great']\n",
    "\n",
    "group_names = ['0','25','50','75']\n",
    "#categories = pd.cut(df['postTestScore'], bins, labels=group_names)\n",
    "pd.cut(X[\"POP2010\"], bins, labels=group_names)\n",
    "#pd.qcut(X[\"POP2010\"], 10)#.value_counts()\n",
    "#pd.cut(X[\"POP2010\"],bins=[.25,.5,.75,1.0])#,labels=cut_points,include_lowest=True)\n",
    "#print pd.value_counts(data[\"LoanAmount_Bin\"], sort=False)\n",
    "# from sklearn.preprocessing import LabelBinarizer\n",
    "# LB = LabelBinarizer()\n",
    "# X_t = X.drop('interaction',axis=1).copy()\n",
    "# #variab\n",
    "# edges = np.histogram(X_t[variables[var]], bins=5)[1]\n",
    "# binning = np.digitize(X_t[variables[var]], edges)\n",
    "# # X_t = np.column_stack((np.delete(X_t, var, axis=1),LB.fit_transform(binning)))\n",
    "# # linear_regression.fit(X_t, y)\n",
    "# # print (\"R-squared: %0.3f\" % r2_score(y, linear_regression.predict(X_t)))\n",
    "# variables[-1]\n",
    "# np.histogram(X_t[variables[var]], bins=10)"
   ]
  },
  {
   "cell_type": "markdown",
   "metadata": {},
   "source": [
    "The residuals of a linear regression always have mean zero and their standard deviation depends on the size of the error produced. Residuals can provide insight on an unusual observation and non-linearity because, after telling us about what's left, they can direct us to speci c troublesome data points or puzzling patterns in data.\n",
    "For the speci c problem of detecting non-linearity, we are going to use a plot based on residuals called the partial residual plot. In this plot, we compare the regression residuals summed with the values derived from the modeled coef cient of a variable against the original values of the variable itself: 148"
   ]
  },
  {
   "cell_type": "code",
   "execution_count": null,
   "metadata": {
    "collapsed": false
   },
   "outputs": [],
   "source": [
    "var = -1 # the variable in position 8 is std\n",
    "partial_residual = residuals + X[variables[var]].values * linear_regression.coef_[var]\n",
    "plt.plot(X[variables[var]].values, partial_residual, 'wo')\n",
    "plt.xlabel(variables[var])\n",
    "plt.ylabel('partial residuals')\n",
    "plt.show()"
   ]
  },
  {
   "cell_type": "code",
   "execution_count": null,
   "metadata": {
    "collapsed": false
   },
   "outputs": [],
   "source": [
    "linear_regression.coef_"
   ]
  },
  {
   "cell_type": "code",
   "execution_count": null,
   "metadata": {
    "collapsed": false
   },
   "outputs": [],
   "source": []
  },
  {
   "cell_type": "code",
   "execution_count": null,
   "metadata": {
    "collapsed": false
   },
   "outputs": [],
   "source": [
    "sns.pairplot(dataset)"
   ]
  },
  {
   "cell_type": "code",
   "execution_count": null,
   "metadata": {
    "collapsed": false
   },
   "outputs": [],
   "source": [
    "def lin_regplot(X_feat, y, model):\n",
    "    X = np.array(df[X_feat]).reshape(-1, 1)\n",
    "    model.fit(X,y)\n",
    "    plt.scatter(X, y, c='blue')\n",
    "    plt.plot(X, model.predict(X), color='red')\n",
    "    return None\n",
    "\n",
    "def lr_with_bias(X_feat, y):\n",
    "    x = np.array(df[X_feat])\n",
    "    x = np.array([[v,1] for v in x]) \n",
    "    (slope,bias),total_error,_,_ = np.linalg.lstsq(x,y)\n",
    "    rmse = np.sqrt(total_error[0]/len(x))\n",
    "    print rmse\n",
    "    plt.plot(x[:,0], slope*x[:,0], c='red')\n",
    "    plt.scatter(x[:,0], y, c='blue')\n",
    "    #plt.plot(slope,bias,color='red')\n",
    "    return None\n",
    "\n",
    "\n",
    "lr_with_bias('POP2010',y)#,linear_regression)\n",
    "plt.show()\n",
    "lin_regplot('POP2010',y,linear_regression)\n",
    "# x = boston.data[:,5]\n",
    "# x = np.array([[v,1] for v in x]) # we now use [v,1] instead of [v]\n",
    "# y = boston.target\n"
   ]
  },
  {
   "cell_type": "code",
   "execution_count": null,
   "metadata": {
    "collapsed": false
   },
   "outputs": [],
   "source": [
    "target = 'food_deserts'\n",
    "target2 = ['perc_effected']\n",
    "predictors = [c for c in X.columns if c in df.columns]\n",
    "#predictors = [c for c in X.columns if c != '30 _readmits']\n",
    "\n",
    "#form = \"{} ~ {} + 1\".format(target, ' + '.join(predictors))\n",
    "form\n",
    "#model = smf.ols(formula=form, data=df).fit()\n",
    "#model.summary()\n",
    "#df['30_readmits']\n",
    "df[predictors].info(verbose=True)"
   ]
  },
  {
   "cell_type": "code",
   "execution_count": null,
   "metadata": {
    "collapsed": false
   },
   "outputs": [],
   "source": [
    "sns.pairplot(data)"
   ]
  },
  {
   "cell_type": "code",
   "execution_count": null,
   "metadata": {
    "collapsed": false
   },
   "outputs": [],
   "source": [
    "sns.distplot(df['des_percent'])"
   ]
  },
  {
   "cell_type": "code",
   "execution_count": null,
   "metadata": {
    "collapsed": false
   },
   "outputs": [],
   "source": [
    "sns.distplot(df['food_deserts'])"
   ]
  },
  {
   "cell_type": "code",
   "execution_count": null,
   "metadata": {
    "collapsed": false
   },
   "outputs": [],
   "source": [
    "sns.distplot(df['perc_effected'])"
   ]
  },
  {
   "cell_type": "code",
   "execution_count": null,
   "metadata": {
    "collapsed": false
   },
   "outputs": [],
   "source": [
    "sns.distplot(df['pop_effected'])"
   ]
  },
  {
   "cell_type": "code",
   "execution_count": null,
   "metadata": {
    "collapsed": false
   },
   "outputs": [],
   "source": [
    "#access = ['PC_PHYS_R','DENTIST_R','PSYCH_R', 'n_hospitals']\n",
    "\n",
    "lr = smf.ols(formula='food_deserts ~ PC_PHYS_R+DENTIST_R+PSYCH_R+n_hospitals', data=df).fit()\n",
    "#lr = smf.ols(formula='n_hospitals ~ food_deserts', data=df).fit()\n",
    "lrr = smf.rlm(formula='food_deserts ~ PC_PHYS_R+DENTIST_R+PSYCH_R+n_hospitals', data=df).fit()\n",
    "\n",
    "print lrr.summary()\n",
    "y= df['food_deserts'].values\n",
    "X = df[['PC_PHYS_R','DENTIST_R','PSYCH_R','n_hospitals']].values\n",
    "norm_x = np.ones_like(X)\n",
    "for i in range(int(lr.df_model)):\n",
    "    norm_x[:,i] = X[:,i]/np.linalg.norm(X[:,i])\n",
    "norm_xtx = np.dot(norm_x.T,norm_x)"
   ]
  },
  {
   "cell_type": "code",
   "execution_count": null,
   "metadata": {
    "collapsed": false
   },
   "outputs": [],
   "source": [
    "norm_xtx\n",
    "eigs = np.linalg.eigvals(norm_xtx)\n",
    "condition_number = np.sqrt(eigs.max() / eigs.min())\n",
    "print condition_number"
   ]
  },
  {
   "cell_type": "code",
   "execution_count": null,
   "metadata": {
    "collapsed": false
   },
   "outputs": [],
   "source": [
    "ols_results2 = sm.OLS(y[:-1], X[:-1,:]).fit()\n",
    "print \"Percentage change %4.2f%% \\n\"*4 % tuple([i for i in lr.params/ols_results2.params*100 - 100])\n",
    "#[i for i in lr.params/ols_results2.params*100 - 100]"
   ]
  },
  {
   "cell_type": "code",
   "execution_count": null,
   "metadata": {
    "collapsed": false
   },
   "outputs": [],
   "source": [
    "#data['n_hospitals_c'] = (data['n_hospitals'] - data['n_hospitals'].mean())\n",
    "#gapmind1['urbanrate_c'] = (gapmind1['urbanrate'] - gapmind1['urbanrate'].mean())\n",
    "#data.describe()\n",
    "# corr=np.corrcoef(X, rowvar=0)  # correlation matrix\n",
    "# w, v = np.linalg.eig(corr)        # eige\n",
    "# w\n",
    "corr = np.corrcoef(X, rowvar=0)\n",
    "eigenvalues, eigenvectors = np.linalg.eig(corr)\n",
    "print eigenvalues"
   ]
  },
  {
   "cell_type": "code",
   "execution_count": null,
   "metadata": {
    "collapsed": false
   },
   "outputs": [],
   "source": [
    "def visualize_correlation_matrix(data, hurdle = 0.0):\n",
    "    import matplotlib as mpl\n",
    "    variables = data.columns.tolist()\n",
    "    R = np.corrcoef(data, rowvar=0)\n",
    "    R[np.where(np.abs(R)<hurdle)] = 0.0\n",
    "    heatmap = plt.pcolor(R, cmap=mpl.cm.coolwarm, alpha=0.8)\n",
    "    heatmap.axes.set_frame_on(False)\n",
    "    heatmap.axes.set_yticks(np.arange(R.shape[0]) + 0.5, minor=False)\n",
    "    heatmap.axes.set_xticks(np.arange(R.shape[1]) + 0.5, minor=False)\n",
    "    heatmap.axes.set_xticklabels(variables, minor=False)\n",
    "    plt.xticks(rotation=90)\n",
    "    heatmap.axes.set_yticklabels(variables, minor=False)\n",
    "    plt.tick_params(axis='both', which='both', bottom='off', \\\n",
    "    top='off', left = 'off', right = 'off')\n",
    "    plt.colorbar()\n",
    "    plt.show()\n",
    "\n",
    "visualize_correlation_matrix(X, hurdle=0.5)\n",
    "\n",
    "X = df[['PC_PHYS_R','DENTIST_R','PSYCH_R','n_hospitals']]\n",
    "visualize_correlation_matrix(X, hurdle=0.5)\n"
   ]
  },
  {
   "cell_type": "code",
   "execution_count": null,
   "metadata": {
    "collapsed": false
   },
   "outputs": [],
   "source": [
    "def id_near_zero_eigenvalues(eig_vals):\n",
    "    mc_sources = []\n",
    "    for i in range(len(eigenvalues)):\n",
    "        if eigenvalues[i] <= .1:\n",
    "            mc_sources += [i]\n",
    "    return mc_sources\n",
    "\n",
    "corr = np.corrcoef(X, rowvar=0)\n",
    "eigenvalues, eigenvectors = np.linalg.eig(corr)\n",
    "print eigenvalues\n",
    "possible_multicollinear_evals = id_near_zero_eigenvalues(eigenvalues)\n",
    "\n",
    "variables = X.columns.tolist()"
   ]
  },
  {
   "cell_type": "code",
   "execution_count": null,
   "metadata": {
    "collapsed": false
   },
   "outputs": [],
   "source": [
    "possible_multicollinear_evals"
   ]
  },
  {
   "cell_type": "code",
   "execution_count": null,
   "metadata": {
    "collapsed": false
   },
   "outputs": [],
   "source": [
    "def get_VIF(variables):\n",
    "    vifs = {}\n",
    "    for i in range(len(variables)):\n",
    "        target = variables[i]\n",
    "        preds = [c for c in variables if c != target]\n",
    "        form = \"{} ~ {} + 1\".format(target,\n",
    "                                   ' + '.join(preds))  \n",
    "        model = smf.ols(formula=form, data=df).fit()\n",
    "        r2 = model.rsquared\n",
    "        \n",
    "        vif = 1/(1-r2)\n",
    "        vifs[target] = vif\n",
    "    return vifs\n",
    "\n",
    "\n",
    "\n",
    "get_VIF(['PC_PHYS_R','DENTIST_R','PSYCH_R','n_hospitals'])\n",
    "get_VIF(['PC_PHYS_R','DENTIST_R','n_hospitals'])\n",
    "get_VIF(['PC_PHYS_R','n_hospitals'])\n",
    "get_VIF(['des_percent','food_deserts'])"
   ]
  },
  {
   "cell_type": "code",
   "execution_count": null,
   "metadata": {
    "collapsed": false
   },
   "outputs": [],
   "source": [
    "# #sns.jointplot(x='food_deserts', y='n_hospitals', data=df, kind='reg')\n",
    "# pred=lr.predict(pd.DataFrame(df['food_deserts']))\n",
    "# pred\n",
    "# df.plot(kind='scatter', x='food_deserts', y='n_hospitals')\n",
    "# plt.plot(pd.DataFrame(df['food_deserts']),pred,c='red',linewidth=2)\n",
    "\n",
    "\n"
   ]
  },
  {
   "cell_type": "code",
   "execution_count": null,
   "metadata": {
    "collapsed": false
   },
   "outputs": [],
   "source": [
    "def is_outlier(value, p25, p75):\n",
    "    \"\"\"Check if value is an outlier\n",
    "    \"\"\"\n",
    "    lower = p25 - 1.5 * (p75 - p25)\n",
    "    upper = p75 + 1.5 * (p75 - p25)\n",
    "    return value <= lower or value >= upper\n",
    " \n",
    "\n",
    "def get_indices_of_outliers(values):\n",
    "    \"\"\"Get outlier indices (if any)\n",
    "    \"\"\"\n",
    "    p25 = np.percentile(values, 25)\n",
    "    p75 = np.percentile(values, 75)\n",
    "     \n",
    "    indices_of_outliers = []\n",
    "    for ind, value in enumerate(values):\n",
    "        if is_outlier(value, p25, p75):\n",
    "            indices_of_outliers.append(ind)\n",
    "    return indices_of_outliers\n",
    " \n",
    "\n",
    "X1 = df[['n_hospitals','food_deserts']]\n",
    "X2 = df['food_deserts']\n",
    "\n",
    "feat=X1.iloc[:,1]\n",
    "feat2=X1.iloc[:,0]\n",
    "\n",
    "values=X1.iloc[:,1].values\n",
    "y=X1.iloc[:,1].values\n",
    "indices_of_outliers = get_indices_of_outliers(feat)\n",
    " \n",
    "fig = plt.figure()\n",
    "ax = fig.add_subplot(111)\n",
    "ax.plot(feat, 'b-', label='n_hospitals')\n",
    "ax.plot(indices_of_outliers, values[indices_of_outliers],'ro',markersize = 7,label='outliers')\n",
    "ax.legend(loc='best')"
   ]
  },
  {
   "cell_type": "code",
   "execution_count": null,
   "metadata": {
    "collapsed": false
   },
   "outputs": [],
   "source": [
    "# df['n_hospitals'].max\n",
    "feat.max()\n",
    "#df.iloc[1134, 'n_hospitals']\n",
    "X1\n",
    "\n",
    "#plt.plot(X1.iloc[:,1], 'b-')#, label=x1cols[0])\n",
    "plt.scatter(X1.iloc[:,0].values, X1.iloc[:,1].values)\n",
    "plt.plot( values[indices_of_outliers],y[indices_of_outliers],'ro',markersize = 7,label='outliers')"
   ]
  },
  {
   "cell_type": "code",
   "execution_count": null,
   "metadata": {
    "collapsed": true
   },
   "outputs": [],
   "source": []
  }
 ],
 "metadata": {
  "anaconda-cloud": {},
  "kernelspec": {
   "display_name": "Python [linreg]",
   "language": "python",
   "name": "Python [linreg]"
  },
  "language_info": {
   "codemirror_mode": {
    "name": "ipython",
    "version": 2
   },
   "file_extension": ".py",
   "mimetype": "text/x-python",
   "name": "python",
   "nbconvert_exporter": "python",
   "pygments_lexer": "ipython2",
   "version": "2.7.12"
  }
 },
 "nbformat": 4,
 "nbformat_minor": 0
}
