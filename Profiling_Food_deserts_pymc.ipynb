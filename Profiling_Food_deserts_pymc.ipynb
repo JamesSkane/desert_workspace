{
 "cells": [
  {
   "cell_type": "code",
   "execution_count": null,
   "metadata": {
    "collapsed": true
   },
   "outputs": [],
   "source": [
    "from scipy.stats.stats import pearsonr\n",
    "import numpy as np\n",
    "import pandas as pd \n",
    "import statsmodels.api as sm\n",
    "import statsmodels.formula.api as smf\n",
    "\n"
   ]
  },
  {
   "cell_type": "code",
   "execution_count": null,
   "metadata": {
    "collapsed": true
   },
   "outputs": [],
   "source": [
    "%matplotlib inline\n",
    "import matplotlib.pyplot as plt\n",
    "import seaborn as sns"
   ]
  },
  {
   "cell_type": "code",
   "execution_count": null,
   "metadata": {
    "collapsed": false
   },
   "outputs": [],
   "source": [
    "df = pd.read_csv('/Users/desert/desert_workspace/final_data.csv')\n",
    "df=df.drop('Unnamed: 0', axis=1)\n",
    "df.head()\n"
   ]
  },
  {
   "cell_type": "code",
   "execution_count": null,
   "metadata": {
    "collapsed": true
   },
   "outputs": [],
   "source": []
  },
  {
   "cell_type": "code",
   "execution_count": null,
   "metadata": {
    "collapsed": false
   },
   "outputs": [],
   "source": [
    "df.columns.tolist()\n",
    "df['y'] = df['percent_food_desert'] >= .1\n",
    "df['y'] =df['y'].astype(int)"
   ]
  },
  {
   "cell_type": "code",
   "execution_count": null,
   "metadata": {
    "collapsed": true
   },
   "outputs": [],
   "source": [
    "from pymc import rbeta\n",
    "\n",
    "\n",
    "class Discharges(object):\n",
    "\n",
    "    \"\"\"\n",
    "    This class represents N discharge dispositions.\n",
    "\n",
    "    parameters:\n",
    "        p_array: a (n,) Numpy array of probabilities >0, <1.\n",
    "\n",
    "    methods:\n",
    "        dc( i ): return the results, 0 or 1, of pulling \n",
    "                   the ith bandit.\n",
    "    \"\"\"\n",
    "\n",
    "    def __init__(self, p_array):\n",
    "        self.p = p_array\n",
    "        self.optimal = np.argmax(p_array)\n",
    "\n",
    "    def dc(self, i):\n",
    "        # i is which arm to dc\n",
    "        return np.random.rand() < self.p[i]\n",
    "\n",
    "    def __len__(self):\n",
    "        return len(self.p)\n",
    "\n",
    "\n",
    "class BayesianStrategy(object):\n",
    "\n",
    "    \"\"\"\n",
    "    Implements a online, learning strategy to solve\n",
    "    the Multi-Armed Bandit problem.\n",
    "    \n",
    "    parameters:\n",
    "        discharges: a Discharges class with .dc method\n",
    "    \n",
    "    methods:\n",
    "        sample_discharges(n): sample and train on n dc.\n",
    "\n",
    "    attributes:\n",
    "        N: the cumulative number of samples\n",
    "        choices: the historical choices as a (N,) array\n",
    "        bb_score: the historical score as a (N,) array\n",
    "    \"\"\"\n",
    "\n",
    "    def __init__(self, discharges):\n",
    "\n",
    "        self.discharges = discharges\n",
    "        n_discharges = len(self.discharges)\n",
    "        self.wins = np.zeros(n_discharges)\n",
    "        self.trials = np.zeros(n_discharges)\n",
    "        self.N = 0\n",
    "        self.choices = []\n",
    "        self.bb_score = []\n",
    "        \n",
    "    def sample_discharges(self, n=1):\n",
    "\n",
    "        bb_score = np.zeros(n)\n",
    "        choices = np.zeros(n)\n",
    "\n",
    "        for k in range(n):\n",
    "            # sample from the discharges's priors, and select the largest sample\n",
    "            choice = np.argmax(rbeta(1 + self.wins, 1 + self.trials - self.wins))\n",
    "\n",
    "            # sample the chosen discharge\n",
    "            result = self.discharges.dc(choice)\n",
    "\n",
    "            # update priors and score\n",
    "            self.wins[choice] += result\n",
    "            self.trials[choice] += 1\n",
    "            bb_score[k] = result\n",
    "            self.N += 1\n",
    "            choices[k] = choice\n",
    "\n",
    "        self.bb_score = np.r_[self.bb_score, bb_score]\n",
    "        self.choices = np.r_[self.choices, choices]\n",
    "        return"
   ]
  },
  {
   "cell_type": "code",
   "execution_count": null,
   "metadata": {
    "collapsed": false
   },
   "outputs": [],
   "source": [
    "from IPython.core.pylabtools import figsize\n",
    "import scipy.stats as stats\n",
    "\n",
    "figsize(11.0, 10)\n",
    "\n",
    "beta = stats.beta\n",
    "x = np.linspace(0.001, .999, 200)\n",
    "\n",
    "\n",
    "def plot_priors(bayesian_strategy, prob, lw=3, alpha=0.2, plt_vlines=True):\n",
    "    # plotting function\n",
    "    wins = bayesian_strategy.wins\n",
    "    trials = bayesian_strategy.trials\n",
    "    for i in range(prob.shape[0]):\n",
    "        y = beta(1 + wins[i], 1 + trials[i] - wins[i])\n",
    "        p = plt.plot(x, y.pdf(x), lw=lw)\n",
    "        c = p[0].get_markeredgecolor()\n",
    "        plt.fill_between(x, y.pdf(x), 0, color=c, alpha=alpha,\n",
    "                         label=\"underlying probability: %.2f\" % prob[i])\n",
    "        if plt_vlines:\n",
    "            plt.vlines(prob[i], 0, y.pdf(prob[i]),\n",
    "                       colors=c, linestyles=\"--\", lw=2)\n",
    "        plt.autoscale(tight=\"True\")\n",
    "        plt.title(\"Posteriors After %d Discharges\" % bayesian_strategy.N +\n",
    "                  \"s\" * (bayesian_strategy.N > 1))\n",
    "        plt.autoscale(tight=True)\n",
    "    return"
   ]
  },
  {
   "cell_type": "code",
   "execution_count": null,
   "metadata": {
    "collapsed": false
   },
   "outputs": [],
   "source": [
    "df.columns.tolist()"
   ]
  },
  {
   "cell_type": "code",
   "execution_count": null,
   "metadata": {
    "collapsed": false
   },
   "outputs": [],
   "source": [
    "bayes = df[['County', 'num_tracts','n_urban','n_food_des']]\n",
    "#bayes\n",
    "df.columns.tolist()\n",
    "bayes['food_des_perc'] = bayes['n_food_des'] / bayes['num_tracts']\n",
    "bayes"
   ]
  },
  {
   "cell_type": "code",
   "execution_count": null,
   "metadata": {
    "collapsed": false
   },
   "outputs": [],
   "source": [
    "bayes['urban_perc'] = bayes['n_urban'] / bayes['num_tracts']\n",
    "bayes\n",
    "bayes['more_urban'] = bayes['urban_perc'] > .5\n",
    "bayes = bayes.groupby('more_urban').agg(np.mean)"
   ]
  },
  {
   "cell_type": "code",
   "execution_count": null,
   "metadata": {
    "collapsed": false
   },
   "outputs": [],
   "source": [
    "bayes"
   ]
  },
  {
   "cell_type": "code",
   "execution_count": null,
   "metadata": {
    "collapsed": false
   },
   "outputs": [],
   "source": [
    "hidden_prob = bayes['food_des_perc'].values\n",
    "discharges = Discharges(hidden_prob)\n",
    "bayesian_strat = BayesianStrategy(discharges)\n",
    "\n",
    "draw_samples = [1, 1, 3, 10, 10, 25, 50, 100, 200, 300]\n",
    "\n",
    "for j, i in enumerate(draw_samples):\n",
    "    plt.subplot(5, 2, j + 1)\n",
    "    bayesian_strat.sample_discharges(i)\n",
    "    plot_priors(bayesian_strat, hidden_prob)\n",
    "    plt.legend(labels=['Rural','Urban'])#['home','rehab','LTC','nursing','psych']\n",
    "\n",
    "    #plt.legend(labels=['home','SNF','home_health','AMA','hospice','psych'])#['home','rehab','LTC','nursing','psych']\n",
    "    plt.autoscale(tight=True)\n",
    "plt.tight_layout()"
   ]
  },
  {
   "cell_type": "code",
   "execution_count": null,
   "metadata": {
    "collapsed": true
   },
   "outputs": [],
   "source": [
    "from pymc import rbeta\n",
    "\n",
    "\n",
    "class Bandits(object):\n",
    "\n",
    "    \"\"\"\n",
    "    This class represents N bandits machines.\n",
    "\n",
    "    parameters:\n",
    "        p_array: a (n,) Numpy array of probabilities >0, <1.\n",
    "\n",
    "    methods:\n",
    "        pull( i ): return the results, 0 or 1, of pulling \n",
    "                   the ith bandit.\n",
    "    \"\"\"\n",
    "\n",
    "    def __init__(self, p_array):\n",
    "        self.p = p_array\n",
    "        self.optimal = np.argmax(p_array)\n",
    "\n",
    "    def pull(self, i):\n",
    "        # i is which arm to pull\n",
    "        return np.random.rand() < self.p[i]\n",
    "\n",
    "    def __len__(self):\n",
    "        return len(self.p)\n",
    "\n",
    "\n",
    "class BayesianStrategy(object):\n",
    "\n",
    "    \"\"\"\n",
    "    Implements a online, learning strategy to solve\n",
    "    the Multi-Armed Bandit problem.\n",
    "    \n",
    "    parameters:\n",
    "        bandits: a Bandit class with .pull method\n",
    "    \n",
    "    methods:\n",
    "        sample_bandits(n): sample and train on n pulls.\n",
    "\n",
    "    attributes:\n",
    "        N: the cumulative number of samples\n",
    "        choices: the historical choices as a (N,) array\n",
    "        bb_score: the historical score as a (N,) array\n",
    "    \"\"\"\n",
    "\n",
    "    def __init__(self, bandits):\n",
    "\n",
    "        self.bandits = bandits\n",
    "        n_bandits = len(self.bandits)\n",
    "        self.wins = np.zeros(n_bandits)\n",
    "        self.trials = np.zeros(n_bandits)\n",
    "        self.N = 0\n",
    "        self.choices = []\n",
    "        self.bb_score = []\n",
    "\n",
    "    def sample_bandits(self, n=1):\n",
    "\n",
    "        bb_score = np.zeros(n)\n",
    "        choices = np.zeros(n)\n",
    "\n",
    "        for k in range(n):\n",
    "            # sample from the bandits's priors, and select the largest sample\n",
    "            choice = np.argmax(rbeta(1 + self.wins, 1 + self.trials - self.wins))\n",
    "\n",
    "            # sample the chosen bandit\n",
    "            result = self.bandits.pull(choice)\n",
    "\n",
    "            # update priors and score\n",
    "            self.wins[choice] += result\n",
    "            self.trials[choice] += 1\n",
    "            bb_score[k] = result\n",
    "            self.N += 1\n",
    "            choices[k] = choice\n",
    "\n",
    "        self.bb_score = np.r_[self.bb_score, bb_score]\n",
    "        self.choices = np.r_[self.choices, choices]\n",
    "        return"
   ]
  },
  {
   "cell_type": "code",
   "execution_count": null,
   "metadata": {
    "collapsed": true
   },
   "outputs": [],
   "source": [
    "figsize(11.0, 10)\n",
    "\n",
    "beta = stats.beta\n",
    "x = np.linspace(0.001, .999, 200)\n",
    "\n",
    "\n",
    "def plot_priors(bayesian_strategy, prob, lw=3, alpha=0.2, plt_vlines=True):\n",
    "    # plotting function\n",
    "    wins = bayesian_strategy.wins\n",
    "    trials = bayesian_strategy.trials\n",
    "    for i in range(prob.shape[0]):\n",
    "        y = beta(1 + wins[i], 1 + trials[i] - wins[i])\n",
    "        p = plt.plot(x, y.pdf(x), lw=lw)\n",
    "        c = p[0].get_markeredgecolor()\n",
    "        plt.fill_between(x, y.pdf(x), 0, color=c, alpha=alpha,\n",
    "                         label=\"underlying probability: %.2f\" % prob[i])\n",
    "        if plt_vlines:\n",
    "            plt.vlines(prob[i], 0, y.pdf(prob[i]),\n",
    "                       colors=c, linestyles=\"--\", lw=2)\n",
    "        plt.autoscale(tight=\"True\")\n",
    "        plt.title(\"Posteriors After %d pull\" % bayesian_strategy.N +\n",
    "                  \"s\" * (bayesian_strategy.N > 1))\n",
    "        plt.autoscale(tight=True)\n",
    "    return"
   ]
  },
  {
   "cell_type": "code",
   "execution_count": null,
   "metadata": {
    "collapsed": false
   },
   "outputs": [],
   "source": [
    "hidden_prob = np.array([0.85, 0.60, 0.75])\n",
    "bandits = Bandits(hidden_prob)\n",
    "bayesian_strat = BayesianStrategy(bandits)\n",
    "\n",
    "draw_samples = [1, 1, 3, 10, 10, 25, 50, 100, 200, 600]\n",
    "draw_samples = [1, 1, 3, 10]#, 10, 25, 50, 100, 200, 600]\n",
    "\n",
    "for j, i in enumerate(draw_samples):\n",
    "    plt.subplot(5, 2, j + 1)\n",
    "    bayesian_strat.sample_bandits(i)\n",
    "    print bayesian_strat.choices\n",
    "    print bayesian_strat.bb_score\n",
    "    plot_priors(bayesian_strat, hidden_prob)\n",
    "    plt.legend()\n",
    "    plt.autoscale(tight=True)\n",
    "plt.tight_layout()"
   ]
  },
  {
   "cell_type": "code",
   "execution_count": null,
   "metadata": {
    "collapsed": false
   },
   "outputs": [],
   "source": [
    "beta"
   ]
  },
  {
   "cell_type": "code",
   "execution_count": null,
   "metadata": {
    "collapsed": true
   },
   "outputs": [],
   "source": [
    "figsize(12.5, 5)\n",
    "from other_strats import *\n",
    "\n",
    "# define a harder problem\n",
    "hidden_prob = np.array([0.15, 0.2, 0.1, 0.05])\n",
    "bandits = Bandits(hidden_prob)\n",
    "\n",
    "# define regret\n",
    "\n",
    "\n",
    "def regret(probabilities, choices):\n",
    "    w_opt = probabilities.max()\n",
    "    return (w_opt - probabilities[choices.astype(int)]).cumsum()\n",
    "\n",
    "# create new strategies\n",
    "strategies = [upper_credible_choice,\n",
    "              bayesian_bandit_choice,\n",
    "              ucb_bayes,\n",
    "              max_mean,\n",
    "              random_choice]\n",
    "algos = []\n",
    "for strat in strategies:\n",
    "    algos.append(GeneralBanditStrat(bandits, strat))"
   ]
  },
  {
   "cell_type": "code",
   "execution_count": null,
   "metadata": {
    "collapsed": false
   },
   "outputs": [],
   "source": [
    "# train 10000 times\n",
    "for strat in algos:\n",
    "    strat.sample_bandits(10000)\n",
    "\n",
    "#test and plot\n",
    "for i, strat in enumerate(algos):\n",
    "    _regret = regret(hidden_prob, strat.choices)\n",
    "    plt.plot(_regret, label=strategies[i].__name__, lw=3)\n",
    "\n",
    "plt.title(\"Total Regret of Bayesian Bandits Strategy vs. Random guessing\")\n",
    "plt.xlabel(\"Number of pulls\")\n",
    "plt.ylabel(\"Regret after $n$ pulls\");\n",
    "plt.legend(loc=\"upper left\");"
   ]
  },
  {
   "cell_type": "code",
   "execution_count": null,
   "metadata": {
    "collapsed": false
   },
   "outputs": [],
   "source": [
    "figsize(12.0, 8)\n",
    "beta = stats.beta\n",
    "hidden_prob = beta.rvs(1, 13, size=35)\n",
    "print hidden_prob\n",
    "bandits = Bandits(hidden_prob)\n",
    "bayesian_strat = BayesianStrategy(bandits)\n",
    "\n",
    "for j, i in enumerate([100, 200, 500, 1300]):\n",
    "    plt.subplot(2, 2, j + 1)\n",
    "    bayesian_strat.sample_bandits(i)\n",
    "    plot_priors(bayesian_strat, hidden_prob, lw=2, alpha=0.0, plt_vlines=False)\n",
    "    # plt.legend()\n",
    "    plt.xlim(0, 0.5)"
   ]
  },
  {
   "cell_type": "code",
   "execution_count": null,
   "metadata": {
    "collapsed": false
   },
   "outputs": [],
   "source": [
    "hidden_prob"
   ]
  },
  {
   "cell_type": "code",
   "execution_count": null,
   "metadata": {
    "collapsed": false
   },
   "outputs": [],
   "source": [
    "figsize(11., 5)\n",
    "colors = [\"#348ABD\", \"#A60628\", \"#7A68A6\", \"#467821\"]\n",
    "\n",
    "normal = stats.norm\n",
    "x = np.linspace(-0.15, 0.15, 100)\n",
    "\n",
    "expert_prior_params = {\"AAPL\": (0.05, 0.03),\n",
    "                       \"GOOG\": (-0.03, 0.04),\n",
    "                       \"TSLA\": (-0.02, 0.01),\n",
    "                       \"AMZN\": (0.03, 0.02),\n",
    "                       }\n",
    "expert_prior_params.items()\n",
    "for i, (name, params) in enumerate(expert_prior_params.iteritems()):\n",
    "    #plt.subplot(2, 2)#, expert_prior_params[i])\n",
    "    y = normal.pdf(x, params[0], scale=params[1])\n",
    "    #plt.plot( x, y, c = colors[i] )\n",
    "    plt.fill_between(x, 0, y, color=colors[i], linewidth=2,\n",
    "                     edgecolor=colors[i], alpha=0.6)\n",
    "    plt.title(name + \" prior\")\n",
    "    plt.vlines(0, 0, y.max(), \"k\", \"--\", linewidth=0.5)\n",
    "    plt.xlim(-0.15, 0.15)\n",
    "plt.tight_layout()"
   ]
  },
  {
   "cell_type": "code",
   "execution_count": null,
   "metadata": {
    "collapsed": true
   },
   "outputs": [],
   "source": [
    "import pymc as pm\n",
    "\n",
    "n_observations = 100  # we will truncate the the most recent 100 days.\n",
    "\n",
    "prior_mu = np.array([x[0] for x in expert_prior_params.values()])\n",
    "prior_std = np.array([x[1] for x in expert_prior_params.values()])\n",
    "\n",
    "inv_cov_matrix = pm.Wishart(\"inv_cov_matrix\", n_observations, np.diag(prior_std ** 2))\n",
    "mu = pm.Normal(\"returns\", prior_mu, 1, size=4)"
   ]
  },
  {
   "cell_type": "code",
   "execution_count": null,
   "metadata": {
    "collapsed": true
   },
   "outputs": [],
   "source": [
    "import datetime\n",
    "import ystockquote as ysq\n",
    "\n",
    "stocks = [\"AAPL\", \"GOOG\", \"TSLA\", \"AMZN\"]\n",
    "\n",
    "enddate = datetime.datetime.now().strftime(\"%Y-%m-%d\")  # today's date.\n",
    "startdate = \"2012-09-01\"\n",
    "\n",
    "stock_closes = {}\n",
    "stock_returns = {}\n",
    "CLOSE = 6\n",
    "\n",
    "for stock in stocks:\n",
    "    x = np.array(ysq.get_historical_prices(stock, startdate, enddate))\n",
    "    stock_closes[stock] = x[1:, CLOSE].astype(float)\n",
    "\n",
    "# create returns:\n",
    "\n",
    "for stock in stocks:\n",
    "    _previous_day = np.roll(stock_closes[stock], -1)\n",
    "    stock_returns[stock] = ((stock_closes[stock] - _previous_day) / _previous_day)[:n_observations]\n",
    "\n",
    "dates = map(lambda x: datetime.datetime.strptime(x, \"%Y-%m-%d\"), x[1:n_observations + 1, 0])"
   ]
  },
  {
   "cell_type": "code",
   "execution_count": null,
   "metadata": {
    "collapsed": false
   },
   "outputs": [],
   "source": [
    "figsize(12.5, 4)\n",
    "\n",
    "for _stock, _returns in stock_returns.iteritems():\n",
    "    p = plt.plot((1 + _returns)[::-1].cumprod() - 1, '-o', label=\"%s\" % _stock,\n",
    "                 markersize=4, markeredgecolor=\"none\")\n",
    "\n",
    "plt.xticks(np.arange(100)[::-8],\n",
    "           map(lambda x: datetime.datetime.strftime(x, \"%Y-%m-%d\"), dates[::8]),\n",
    "           rotation=60);\n",
    "\n",
    "plt.legend(loc=\"upper left\")\n",
    "plt.title(\"Return space\")\n",
    "plt.ylabel(\"Return of $1 on first date, x100%\");"
   ]
  },
  {
   "cell_type": "code",
   "execution_count": null,
   "metadata": {
    "collapsed": false
   },
   "outputs": [],
   "source": [
    "figsize(11., 5)\n",
    "returns = np.zeros((n_observations, 4))\n",
    "\n",
    "for i, (_stock, _returns) in enumerate(stock_returns.iteritems()):\n",
    "    returns[:, i] = _returns\n",
    "    #plt.subplot(2, 2, i)\n",
    "    plt.hist(_returns, bins=20,\n",
    "             normed=True, histtype=\"stepfilled\",\n",
    "             color=colors[i], alpha=0.7)\n",
    "    #plt.title(_stock + \" returns\")\n",
    "    plt.legend()\n",
    "    plt.xlim(-0.15, 0.15)\n",
    "\n",
    "plt.tight_layout()\n",
    "\n",
    "plt.suptitle(\"Histogram of daily returns\", size=14);\n"
   ]
  },
  {
   "cell_type": "code",
   "execution_count": null,
   "metadata": {
    "collapsed": false
   },
   "outputs": [],
   "source": [
    "obs = pm.MvNormal(\"observed returns\", mu, inv_cov_matrix, observed=True, value=returns)\n",
    "\n",
    "model = pm.Model([obs, mu, inv_cov_matrix])\n",
    "mcmc = pm.MCMC()\n",
    "\n",
    "mcmc.sample(150000, 100000, 3)"
   ]
  },
  {
   "cell_type": "code",
   "execution_count": null,
   "metadata": {
    "collapsed": false
   },
   "outputs": [],
   "source": [
    "figsize(12.5, 4)\n",
    "\n",
    "# examine the mean return first.\n",
    "mu_samples = mcmc.trace(\"returns\")[:]\n",
    "\n",
    "for i in range(4):\n",
    "    plt.hist(mu_samples[:, i], alpha=0.8 - 0.05 * i, bins=30,\n",
    "             histtype=\"stepfilled\", normed=True,\n",
    "             label=\"%s\" % stock_returns.keys()[i])\n",
    "\n",
    "plt.vlines(mu_samples.mean(axis=0), 0, 500, linestyle=\"--\", linewidth=.5)\n",
    "\n",
    "plt.title(\"Posterior distribution of $\\mu$, daily stock returns\")\n",
    "plt.legend();"
   ]
  },
  {
   "cell_type": "code",
   "execution_count": null,
   "metadata": {
    "collapsed": false
   },
   "outputs": [],
   "source": [
    "figsize(11.0, 3)\n",
    "for i in range(4):\n",
    "    plt.subplot(2, 2, i + 1)\n",
    "    plt.hist(mu_samples[:, i], alpha=0.8 - 0.05 * i, bins=30,\n",
    "             histtype=\"stepfilled\", normed=True, color=colors[i],\n",
    "             label=\"%s\" % stock_returns.keys()[i])\n",
    "    plt.title(\"%s\" % stock_returns.keys()[i])\n",
    "    plt.xlim(-0.15, 0.15)\n",
    "\n",
    "plt.suptitle(\"Posterior distribution of daily stock returns\")\n",
    "plt.tight_layout()"
   ]
  },
  {
   "cell_type": "code",
   "execution_count": null,
   "metadata": {
    "collapsed": false
   },
   "outputs": [],
   "source": [
    "\n",
    "inv_cov_samples = mcmc.trace(\"inv_cov_matrix\")[:]\n",
    "mean_covariance_matrix = np.linalg.inv(inv_cov_samples.mean(axis=0))\n",
    "\n",
    "\n",
    "def cov2corr(A):\n",
    "    \"\"\"\n",
    "    covariance matrix to correlation matrix.\n",
    "    \"\"\"\n",
    "    d = np.sqrt(A.diagonal())\n",
    "    A = ((A.T / d).T) / d\n",
    "    #A[ np.diag_indices(A.shape[0]) ] = np.ones( A.shape[0] )\n",
    "    return A\n",
    "\n",
    "\n",
    "plt.subplot(1, 2, 1)\n",
    "plt.imshow(cov2corr(mean_covariance_matrix), interpolation=\"none\",\n",
    "           cmap=plt.cm.hot)\n",
    "plt.xticks(np.arange(4), stock_returns.keys())\n",
    "plt.yticks(np.arange(4), stock_returns.keys())\n",
    "plt.colorbar(orientation=\"vertical\")\n",
    "plt.title(\"(mean posterior) Correlation Matrix\")\n",
    "\n",
    "plt.subplot(1, 2, 2)\n",
    "plt.bar(np.arange(4), np.sqrt(np.diag(mean_covariance_matrix)),\n",
    "        color=\"#348ABD\", alpha=0.7)\n",
    "plt.xticks(np.arange(4) + 0.5, stock_returns.keys());\n",
    "plt.title(\"(mean posterior) variances of daily stock returns\")\n",
    "\n",
    "plt.tight_layout();"
   ]
  },
  {
   "cell_type": "code",
   "execution_count": null,
   "metadata": {
    "collapsed": false
   },
   "outputs": [],
   "source": [
    "df.head()\n",
    "def order(frame,var):\n",
    "    varlist =[w for w in frame.columns if w not in var]\n",
    "    frame = frame[var+varlist]\n",
    "    return frame \n",
    "\n",
    "data = order(df,['LILATracts_1And10','num_tracts']).values\n",
    "plt.scatter(data[:, 1], data[:, 0], alpha=0.5, c=\"#7A68A6\")\n",
    "plt.title(\"Food desert prev vs N Tracts\")\n",
    "plt.ylabel(\"Food desert prev\")\n",
    "plt.xlabel(\"number of tracts\")\n",
    "#plt.xlim(-100, 15e3)\n",
    "#plt.ylim(-5, 105)\n",
    "\n",
    "i_min = np.argmin(data[:, 0])\n",
    "i_max = np.argmax(data[:, 0])\n",
    "\n",
    "plt.scatter([data[i_min, 1], data[i_max, 1]],\n",
    "            [data[i_min, 0], data[i_max, 0]],\n",
    "            s=60, marker=\"o\", facecolors=\"none\",\n",
    "            edgecolors=\"#A60628\", linewidths=1.5,\n",
    "            label=\"most extreme points\")\n",
    "\n",
    "plt.legend(scatterpoints=1);"
   ]
  },
  {
   "cell_type": "code",
   "execution_count": null,
   "metadata": {
    "collapsed": false
   },
   "outputs": [],
   "source": [
    "#upvotes = n_food_deserts\n",
    "#downvotes = n_food_deserts - num_tracts\n",
    "upvotes = df['n_food_des'].values\n",
    "downvotes = df['num_tracts'].values -df['n_food_des'].values \n",
    "downvotes\n",
    "\n",
    "def posterior_upvote_ratio(upvotes, downvotes, samples=20000):\n",
    "    \"\"\"\n",
    "    This function accepts the number of upvotes and downvotes a particular comment received, \n",
    "    and the number of posterior samples to return to the user. Assumes a uniform prior.\n",
    "    \"\"\"\n",
    "    N = upvotes + downvotes\n",
    "    upvote_ratio = pm.Uniform(\"upvote_ratio\", 0, 1)\n",
    "    observations = pm.Binomial(\"obs\", N, upvote_ratio, value=upvotes, observed=True)\n",
    "    # do the fitting; first do a MAP as it is cheap and useful.\n",
    "    map_ = pm.MAP([upvote_ratio, observations]).fit()\n",
    "    mcmc = pm.MCMC([upvote_ratio, observations])\n",
    "    mcmc.sample(samples, samples / 4)\n",
    "    return mcmc.trace(\"upvote_ratio\")[:]\n",
    "\n",
    "posterior_upvote_ratio(upvotes, downvotes, samples=20000)"
   ]
  },
  {
   "cell_type": "code",
   "execution_count": null,
   "metadata": {
    "collapsed": false
   },
   "outputs": [],
   "source": [
    "data = df[['n_food_des','num_tracts','County']].values\n",
    "figsize(11., 8)\n",
    "posteriors = []\n",
    "colours = [\"#348ABD\", \"#A60628\", \"#7A68A6\", \"#467821\", \"#CF4457\"] * 12\n",
    "colours\n",
    "for i in range(len(data)):\n",
    "    j = data[i]\n",
    "    #print j\n",
    "    posteriors.append(posterior_upvote_ratio(j[0], j[1]))\n",
    "    plt.hist(posteriors[i], bins=18, normed=True, alpha=.9,\n",
    "             histtype=\"step\", color=colours[i % 5], lw=3,\n",
    "             label='(%d deserts:%d tracts)\\n%s...' % (j[0], j[1], j[2]))\n",
    "    plt.hist(posteriors[i], bins=18, normed=True, alpha=.2,\n",
    "             histtype=\"stepfilled\", color=colours[i], lw=3, )\n",
    "#     plt.legend(loc=\"upper left\")\n",
    "#     plt.xlim(0, 1)\n",
    "#     plt.title(\"Posterior distributions of food desert ratios on different counties\");\n",
    "#     plt.show()\n",
    "\n",
    "#plt.legend(loc=\"upper left\")\n",
    "plt.xlim(0, 1)\n",
    "plt.title(\"Posterior distributions of food desert ratios on different counties\");"
   ]
  },
  {
   "cell_type": "code",
   "execution_count": null,
   "metadata": {
    "collapsed": false
   },
   "outputs": [],
   "source": [
    "y = df['percent_food_desert']\n",
    "X = df['unemployment_rate']\n",
    "linear_regression = smf.ols(formula='percent_food_desert ~ unemployment_rate', data=df)\n",
    "fitted_model = linear_regression.fit()\n",
    "fitted_model.summary()\n",
    "betas = np.array(fitted_model.params)\n",
    "fitted_values = fitted_model.predict()\n",
    "df.plot(kind='scatter', x='unemployment_rate', y='percent_food_desert')\n",
    "plt.plot(pd.DataFrame(df['unemployment_rate']),fitted_values,c='red',linewidth=2)\n",
    "\n",
    "#ls_coef_ = np.cov(X,Y)[0,1]/np.var(X)"
   ]
  },
  {
   "cell_type": "code",
   "execution_count": null,
   "metadata": {
    "collapsed": false
   },
   "outputs": [],
   "source": [
    "# NOTE: the linear regression model we're trying to solve for is \n",
    "# given by:\n",
    "# y = b0 + b1(x) + error\n",
    "# where b0 is the intercept term, b1 is the slope, and error is \n",
    "# the error\n",
    "\n",
    "# model the intercept/slope terms of our model as \n",
    "# normal random variables with comically large variances\n",
    "b0 = pm.Normal(\"b0\", 0, 0.0003)\n",
    "b1 = pm.Normal(\"b1\", 0, 0.0003)\n",
    "\n",
    "# model our error term as a uniform random variable\n",
    "err = pm.Uniform(\"err\", 0, 500)\n",
    "\n",
    "\n",
    "# \"model\" the observed x values as a normal random variable\n",
    "# in reality, because x is observed, it doesn't actually matter\n",
    "# how we choose to model x -- PyMC isn't going to change x's values\n",
    "x_weight = pm.Normal(\"weight\", 0, 1, value=np.array(df[\"unemployment_rate\"]), observed=True)\n",
    "\n",
    "# this is the heart of our model: given our b0, b1 and our x observations, we want\n",
    "# to predict y\n",
    "@pm.deterministic\n",
    "def pred(b0=b0, b1=b1, x=x_weight):\n",
    "    return b0 + b1*x\n",
    "\n",
    "# \"model\" the observed y values: again, I reiterate that PyMC treats y as \n",
    "# evidence -- as fixed; it's going to use this as evidence in updating our belief\n",
    "# about the \"unobserved\" parameters (b0, b1, and err), which are the \n",
    "# things we're interested in inferring after all\n",
    "y = pm.Normal(\"y\", pred, err, value=np.array(df[\"percent_food_desert\"]), observed=True)\n",
    "\n",
    "# put everything we've modeled into a PyMC model\n",
    "model = pm.Model([pred, b0, b1, y, err, x_weight])"
   ]
  },
  {
   "cell_type": "code",
   "execution_count": null,
   "metadata": {
    "collapsed": false
   },
   "outputs": [],
   "source": [
    "# prepare for MCMC\n",
    "mcmc = pm.MCMC(model)\n",
    "\n",
    "# sample from our posterior distribution 50,000 times, but\n",
    "# throw the first 20,000 samples out to ensure that we're only\n",
    "# sampling from our steady-state posterior distribution\n",
    "mcmc.sample(50000, 20000)"
   ]
  },
  {
   "cell_type": "code",
   "execution_count": null,
   "metadata": {
    "collapsed": false
   },
   "outputs": [],
   "source": []
  },
  {
   "cell_type": "code",
   "execution_count": null,
   "metadata": {
    "collapsed": false
   },
   "outputs": [],
   "source": [
    "print np.mean(mcmc.trace('b1')[:])\n",
    "print np.mean(mcmc.trace('b0')[:])\n",
    "plt.plot(mcmc.trace('b0')[:],mcmc.trace('b0')[:])\n",
    "#plt.hist(mcmc.trace('b1')[:], bins=50)\n",
    "xp = np.array([x.min(), x.max()])\n",
    "plt.plot(a.trace()*xp[:, None] + b.trace(), c='red', alpha=0.01)\n",
    "plt.plot(xp, np.mean(mcmc.trace('b1')[:])*xp + np.mean(mcmc.trace('b0')[:]), linewidth=2, c='red');"
   ]
  },
  {
   "cell_type": "code",
   "execution_count": null,
   "metadata": {
    "collapsed": false
   },
   "outputs": [],
   "source": [
    "mcmc.trace('b1')"
   ]
  },
  {
   "cell_type": "code",
   "execution_count": null,
   "metadata": {
    "collapsed": false
   },
   "outputs": [],
   "source": [
    "abar = a.stats()['mean']\n",
    "bbar = b.stats()['mean']\n",
    "# data.plot(x='x', y='y', kind='scatter', s=50);\n",
    "# xp = np.array([x.min(), x.max()])\n",
    "# plt.plot(a.trace()*xp[:, None] + b.trace(), c='red', alpha=0.01)\n",
    "# plt.plot(xp, abar*xp + bbar, linewidth=2, c='red');"
   ]
  },
  {
   "cell_type": "code",
   "execution_count": null,
   "metadata": {
    "collapsed": false
   },
   "outputs": [],
   "source": [
    "@pm.deterministic\n",
    "def mu(a=a, b=b, x=x):\n",
    "    return a*x + b\n",
    "\n",
    "# observed data\n",
    "n = 21\n",
    "a = 6\n",
    "b = 2\n",
    "sigma = 2\n",
    "x = np.linspace(0, 1, n)\n",
    "y_obs = a*x + b + np.random.normal(0, sigma, n)\n",
    "data = pd.DataFrame(np.array([x, y_obs]).T, columns=['x', 'y'])\n",
    "\n",
    "data.plot(x='x', y='y', kind='scatter', s=50);\n",
    "\n",
    "# define priors\n",
    "a = pm.Normal('slope', mu=0, tau=1.0/10**2)\n",
    "b = pm.Normal('intercept', mu=0, tau=1.0/10**2)\n",
    "tau = pm.Gamma(\"tau\", alpha=0.1, beta=0.1)\n",
    "\n",
    "# define likelihood\n",
    "@pm.deterministic\n",
    "def mu(a=a, b=b, x=x):\n",
    "    return a*x + b\n",
    "\n",
    "y = pm.Normal('y', mu=mu, tau=tau, value=y_obs, observed=True)\n",
    "\n",
    "# inference\n",
    "m = pm.Model([a, b, tau, x, y])\n",
    "mc = pm.MCMC(m)\n",
    "mc.sample(iter=11000, burn=10000)\n",
    "\n"
   ]
  },
  {
   "cell_type": "code",
   "execution_count": null,
   "metadata": {
    "collapsed": false
   },
   "outputs": [],
   "source": [
    "# std = pm.Uniform('std', 0,100,trace=False)\n",
    "# @pm.deterministic\n",
    "# def prec(U=std):\n",
    "#     return 1.0/U**2\n",
    "\n",
    "# beta = pm.Poisson('beta', 0, 0.0001)\n",
    "# alpha = pm.Poisson('alpha', 0, 0.0001)\n",
    "\n",
    "# @pm.deterministic\n",
    "# def mean(X=X, alpha=alpha, beta=beta):\n",
    "#     return alpha + beta * X\n",
    "\n",
    "# obs = pm.Normal('obs', mean,prec, value=Y, observed=True)\n",
    "# mcmc.sample(100000,80000);\n",
    "# define priors\n",
    "a = pm.Normal('slope', mu=0, tau=1.0/10**2)\n",
    "b = pm.Normal('intercept', mu=0, tau=1.0/10**2)\n",
    "tau = pm.Gamma(\"tau\", alpha=0.1, beta=0.1)\n",
    "abar = a.stats()['mean']\n",
    "bbar = b.stats()['mean']\n",
    "data.plot(x='x', y='y', kind='scatter', s=50);\n",
    "xp = np.array([x.min(), x.max()])\n",
    "plt.plot(a.trace()*xp[:, None] + b.trace(), c='red', alpha=0.01)\n",
    "plt.plot(xp, abar*xp + bbar, linewidth=2, c='red');"
   ]
  },
  {
   "cell_type": "code",
   "execution_count": null,
   "metadata": {
    "collapsed": false
   },
   "outputs": [],
   "source": [
    "data.describe()"
   ]
  },
  {
   "cell_type": "code",
   "execution_count": null,
   "metadata": {
    "collapsed": false
   },
   "outputs": [],
   "source": [
    "data\n",
    "data = df[['unemployment_rate','percent_food_desert']]\n",
    "#X = df['unemployment_rate']\n",
    "data.describe()\n",
    "y_obs=df['percent_food_desert']"
   ]
  },
  {
   "cell_type": "code",
   "execution_count": null,
   "metadata": {
    "collapsed": false
   },
   "outputs": [],
   "source": [
    "@pm.deterministic\n",
    "def mu(a=a, b=b, x=x):\n",
    "    return a*x + b\n",
    "\n",
    "# # observed data\n",
    "n = 58\n",
    "# a = 6\n",
    "# b = 2\n",
    "# sigma = 2\n",
    "# x = np.linspace(0, 1, n)\n",
    "# y_obs = a*x + b + np.random.normal(0, sigma, n)\n",
    "# data = pd.DataFrame(np.array([x, y_obs]).T, columns=['x', 'y'])\n",
    "\n",
    "# data.plot(x='x', y='y', kind='scatter', s=50);\n",
    "\n",
    "# define priors\n",
    "a = pm.Normal('slope', mu=0, tau=1.0/10**2)\n",
    "b = pm.Normal('intercept', mu=0, tau=1.0/10**2)\n",
    "tau = pm.Gamma(\"tau\", alpha=0.1, beta=0.1)\n",
    "\n",
    "# define likelihood\n",
    "@pm.deterministic\n",
    "def mu(a=a, b=b, x=x):\n",
    "    return a*x + b\n",
    "\n",
    "y = pm.Normal('y', mu=mu, tau=tau, value=y_obs, observed=True)\n",
    "\n",
    "# inference\n",
    "m = pm.Model([a, b, tau, x, y])\n",
    "mc = pm.MCMC(m)\n",
    "mc.sample(iter=11000, burn=10000)"
   ]
  },
  {
   "cell_type": "code",
   "execution_count": null,
   "metadata": {
    "collapsed": true
   },
   "outputs": [],
   "source": []
  }
 ],
 "metadata": {
  "anaconda-cloud": {},
  "kernelspec": {
   "display_name": "Python [Root]",
   "language": "python",
   "name": "Python [Root]"
  },
  "language_info": {
   "codemirror_mode": {
    "name": "ipython",
    "version": 2
   },
   "file_extension": ".py",
   "mimetype": "text/x-python",
   "name": "python",
   "nbconvert_exporter": "python",
   "pygments_lexer": "ipython2",
   "version": "2.7.11"
  }
 },
 "nbformat": 4,
 "nbformat_minor": 0
}
